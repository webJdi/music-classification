{
  "cells": [
    {
      "cell_type": "markdown",
      "metadata": {},
      "source": [
        "# Data Augmentation"
      ]
    },
    {
      "cell_type": "code",
      "execution_count": 1,
      "metadata": {
        "colab": {
          "base_uri": "https://localhost:8080/"
        },
        "id": "EvWxYMatS5Ea",
        "outputId": "da12a0d9-5108-4608-f3d4-9c07c6063438"
      },
      "outputs": [
        {
          "name": "stdout",
          "output_type": "stream",
          "text": [
            "Mounted at /content/drive\n"
          ]
        }
      ],
      "source": [
        "from google.colab import drive\n",
        "drive.mount('/content/drive')"
      ]
    },
    {
      "cell_type": "markdown",
      "metadata": {},
      "source": [
        "## Install and load packages"
      ]
    },
    {
      "cell_type": "code",
      "execution_count": 2,
      "metadata": {
        "colab": {
          "base_uri": "https://localhost:8080/"
        },
        "id": "FjeDcbpvBXE-",
        "outputId": "217db1b3-e7b4-4fa0-c53d-a941c21a05d9"
      },
      "outputs": [
        {
          "name": "stdout",
          "output_type": "stream",
          "text": [
            "Collecting pretty-midi\n",
            "  Downloading pretty_midi-0.2.10.tar.gz (5.6 MB)\n",
            "\u001b[2K     \u001b[90m━━━━━━━━━━━━━━━━━━━━━━━━━━━━━━━━━━━━━━━━\u001b[0m \u001b[32m5.6/5.6 MB\u001b[0m \u001b[31m59.7 MB/s\u001b[0m eta \u001b[36m0:00:00\u001b[0m\n",
            "\u001b[?25h  Preparing metadata (setup.py) ... \u001b[?25l\u001b[?25hdone\n",
            "Requirement already satisfied: numpy>=1.7.0 in /usr/local/lib/python3.11/dist-packages (from pretty-midi) (2.0.2)\n",
            "Collecting mido>=1.1.16 (from pretty-midi)\n",
            "  Downloading mido-1.3.3-py3-none-any.whl.metadata (6.4 kB)\n",
            "Requirement already satisfied: six in /usr/local/lib/python3.11/dist-packages (from pretty-midi) (1.17.0)\n",
            "Requirement already satisfied: packaging in /usr/local/lib/python3.11/dist-packages (from mido>=1.1.16->pretty-midi) (25.0)\n",
            "Downloading mido-1.3.3-py3-none-any.whl (54 kB)\n",
            "\u001b[2K   \u001b[90m━━━━━━━━━━━━━━━━━━━━━━━━━━━━━━━━━━━━━━━━\u001b[0m \u001b[32m54.6/54.6 kB\u001b[0m \u001b[31m5.5 MB/s\u001b[0m eta \u001b[36m0:00:00\u001b[0m\n",
            "\u001b[?25hBuilding wheels for collected packages: pretty-midi\n",
            "  Building wheel for pretty-midi (setup.py) ... \u001b[?25l\u001b[?25hdone\n",
            "  Created wheel for pretty-midi: filename=pretty_midi-0.2.10-py3-none-any.whl size=5592286 sha256=3dfe73897cf7216e901db47f80018f054073c6ab4144bc493ad4b737c40d2e15\n",
            "  Stored in directory: /root/.cache/pip/wheels/e6/95/ac/15ceaeb2823b04d8e638fd1495357adb8d26c00ccac9d7782e\n",
            "Successfully built pretty-midi\n",
            "Installing collected packages: mido, pretty-midi\n",
            "Successfully installed mido-1.3.3 pretty-midi-0.2.10\n"
          ]
        }
      ],
      "source": [
        "!pip install pretty-midi"
      ]
    },
    {
      "cell_type": "markdown",
      "metadata": {},
      "source": [
        "## Load Files"
      ]
    },
    {
      "cell_type": "code",
      "execution_count": 3,
      "metadata": {
        "colab": {
          "base_uri": "https://localhost:8080/"
        },
        "id": "PZYYvIk4iRzX",
        "outputId": "00f62e6d-2884-4c63-e729-922de5f5fd22"
      },
      "outputs": [
        {
          "data": {
            "text/plain": [
              "['.config',\n",
              " 'Rothchlid Symphony Rmw12 3mov.mid',\n",
              " 'Beethoven',\n",
              " 'Clarke',\n",
              " 'Prokofiev',\n",
              " 'Clementi',\n",
              " 'Paradisi',\n",
              " 'Scarlatti',\n",
              " 'Debussy Suite Bergamasque 1mov.mid',\n",
              " 'Busser',\n",
              " 'MacCunn',\n",
              " 'Peterson-Berger',\n",
              " 'Alkan',\n",
              " 'MacBeth',\n",
              " \"Rimsky Korsakov ''Flight Of the Bumblebee''.mid\",\n",
              " 'Tchaikovsky Lake Of The Swans Act 1 5mov.mid',\n",
              " 'Borodin',\n",
              " 'Rothchild Piano Sonata Rmw13 2mov.mid',\n",
              " 'Tchaikovsky Lake Of The Swans Act 1 1mov.mid',\n",
              " 'Herold',\n",
              " 'Rothchild Symphony Rmw12 1mov.mid',\n",
              " 'Diabelli Sonatina op151 n2 2mov.mid',\n",
              " 'Vivaldi',\n",
              " 'Komzak',\n",
              " 'Tchaikovsky Lake Of The Swans Act 2 13mov.mid',\n",
              " 'Liszt Bach Prelude Transcription.mid',\n",
              " 'Handel',\n",
              " 'Ravel',\n",
              " 'Botsford',\n",
              " 'Bizet Symphony in C 4mov.mid',\n",
              " 'Holst, M',\n",
              " '.DS_Store',\n",
              " 'Gershuin Rhapsody In Blue Piano Duet.mid',\n",
              " 'Buxethude Buxwv138 Prelude.mid',\n",
              " 'Strauss, J',\n",
              " 'Debussy',\n",
              " 'Chabrier',\n",
              " 'Bellini',\n",
              " 'Messager',\n",
              " 'Sarasate',\n",
              " 'Ginastera',\n",
              " 'Bizet Symphony in C 2mov.mid',\n",
              " 'Liszt Paganini Etude n3.mid',\n",
              " 'Reger Burlesque op58 n3.mid',\n",
              " 'Liszt Paganini Etude n2.mid',\n",
              " 'Joplin',\n",
              " 'Lizt Piano Concerto n1 S124.mid',\n",
              " 'Tchaikovsky Lake Of The Swans Act 1 6mov.mid',\n",
              " 'Grainger',\n",
              " 'Mozart',\n",
              " 'Chasins',\n",
              " 'Dvorak Symphony op70 n7 1mov.mid',\n",
              " 'Buxethude Buxwv160 Ciacona.mid',\n",
              " 'Griffes',\n",
              " 'Reger Burlesque op58 n5.mid',\n",
              " 'Rothchild Oboe Concerto Rmw09 3mov.mid',\n",
              " 'Mendelssohn',\n",
              " 'Fucick',\n",
              " 'Rothchild Oboe Concerto Rmw09 2mov.mid',\n",
              " 'Field',\n",
              " 'Bartok Suite 2mov.mid',\n",
              " 'Flotow',\n",
              " 'Frescobaldi',\n",
              " 'Bartelet',\n",
              " 'Mendelsonn',\n",
              " 'Diabelli Sonatina op151 n3 2mov.mid',\n",
              " 'Buxethude Buxwv157 Toccata.mid',\n",
              " 'Rothchild Symphony Rmw12 2mov.mid',\n",
              " 'Lavallee',\n",
              " 'Grieg',\n",
              " 'Reger Burlesque op58 n6.mid',\n",
              " 'Chopin',\n",
              " 'Sinding',\n",
              " 'Tchaikovsky',\n",
              " 'Ambroise',\n",
              " 'Nicolai Overture The Merry Wives of Windsor.mid',\n",
              " 'Lyssenko',\n",
              " 'Becker',\n",
              " 'Copland',\n",
              " 'Cons',\n",
              " 'Tchaicovsky Waltz of the Flowers.MID',\n",
              " 'Rothchild Piano Sonata Rmw13 3mov.mid',\n",
              " 'Vaughan',\n",
              " 'Reinecke Piano Concerto n3 1mov.mid',\n",
              " 'Sibelius',\n",
              " 'Burgmuller',\n",
              " 'Straus',\n",
              " 'Suppe',\n",
              " 'Liszt Paganini Etude n5.mid',\n",
              " 'Busoni',\n",
              " 'Tchaikovsky Lake Of The Swans Act 2 12mov.mid',\n",
              " 'Verdi',\n",
              " 'Hummel',\n",
              " 'Pachebel Toccata n4.mid',\n",
              " 'Shostakovich',\n",
              " 'Heller',\n",
              " 'Chaminade',\n",
              " 'Tchaikovsky Lake Of The Swans Act 1 4mov.mid',\n",
              " 'Kuhlau Sonatina op60 n3.mid',\n",
              " 'Tarrega',\n",
              " \"Albe'niz\",\n",
              " 'Couperin',\n",
              " 'Dvorak Symphony op70 n7 3mov.mid',\n",
              " 'Resch',\n",
              " 'Diabelli Sonatina op151 n2 1mov.mid',\n",
              " 'Haendel',\n",
              " 'Thomas',\n",
              " 'Rachmaninov',\n",
              " 'Stravinski',\n",
              " 'Dvorak',\n",
              " 'Ganne',\n",
              " 'Diabelli Sonatina op151 n1 2mov.mid',\n",
              " 'Cramer',\n",
              " 'Gottschalk',\n",
              " 'Lemire',\n",
              " 'Tchaikovsky Lake Of The Swans Act 1 2mov.mid',\n",
              " 'Sibelius Kuolema Vals op44.mid',\n",
              " 'Rothchild Oboe Concerto Rmw09 1mov.mid',\n",
              " 'Pridhan',\n",
              " 'Debussy Suite Bergamasque 4mov.mid',\n",
              " 'Paganini',\n",
              " 'Buxehude',\n",
              " 'Grieg Piano Concerto 2mov.mid',\n",
              " 'Buxethude Buxwv136 Prelude.mid',\n",
              " 'Le Thiere',\n",
              " 'Raff',\n",
              " 'Buxethude Buxwv153 Prelude.mid',\n",
              " 'Bach',\n",
              " 'C.P.E.Bach Solfeggieto.mid',\n",
              " 'Franck',\n",
              " 'Wagner Ride of the valkyries.mid',\n",
              " 'Diabelli Sonatina op151 n3 3mov.mid',\n",
              " 'Bernstein',\n",
              " 'Kuhlau',\n",
              " 'Diabelli Sonatina op151 n4 1mov.mid',\n",
              " 'Pachebel Toccata n7.mid',\n",
              " 'Kuhlau Sonatina op60 n2.mid',\n",
              " 'Tchaikovsky Lake Of The Swans Act 2 11mov.mid',\n",
              " 'Bacewitz',\n",
              " 'Morel',\n",
              " 'Grieg Piano Concerto op16 1mov.mid',\n",
              " 'Hemery',\n",
              " 'Holst',\n",
              " 'Paderewski',\n",
              " 'Lange',\n",
              " 'Kuhlau Sonatina op55 n1.mid',\n",
              " 'Mehul',\n",
              " 'Rossini',\n",
              " 'Berlin',\n",
              " 'Liszt Hungarian Rhapsody n2.MID',\n",
              " 'Sudds',\n",
              " 'Maier',\n",
              " 'Tchaikovsky Lake Of The Swans Act 1 3mov.mid',\n",
              " 'Liszt',\n",
              " \"Liszt Ab irato ''The Perfect Etude'' S143 R4b.mid\",\n",
              " 'Dvorak Trio op26.mid',\n",
              " 'Buxethude Buxwv145 Prelude.mid',\n",
              " 'Brahms',\n",
              " 'Bartok Suite 1mov.mid',\n",
              " 'Faure',\n",
              " 'Friedman',\n",
              " 'Schumann',\n",
              " 'Dvorak Symphony op70 n7 4mov.mid',\n",
              " 'Ginastera Estancia.mid',\n",
              " 'Durand, E',\n",
              " 'Haydn',\n",
              " 'Dvorak Symphony op70 n7 2mov.mid',\n",
              " 'Wolf',\n",
              " 'Schubert',\n",
              " 'Finck',\n",
              " 'Arensky',\n",
              " 'Saint-Saens',\n",
              " 'Katzwarra',\n",
              " 'Liszt Paganini Etude n1.mid',\n",
              " 'Rimsky-Korsakov',\n",
              " 'Diabelli Sonatina op151 n4 2mov.mid',\n",
              " 'German',\n",
              " 'Buxethude Buxwv157 Tocatta and Fugue.mid',\n",
              " 'Gershwin',\n",
              " 'Bizet Symphony in C 3mov.mid',\n",
              " 'Rothchild Horn Concerto Rmw16 3mov.mid',\n",
              " 'Poulenc',\n",
              " 'meditation thais.mid',\n",
              " 'Mussorgski',\n",
              " 'Kuhlau Sonatina op55 n3 1mov.mid',\n",
              " 'Tchaikovsky Lake Of The Swans Act 2 10mov.mid',\n",
              " 'Bizet Symphony in C 1mov.mid',\n",
              " 'Rothchild Piano Sonata Rmw13 1mov.mid',\n",
              " 'Rothchild Horn Concerto Rmw16 2mov.mid',\n",
              " 'Satie',\n",
              " 'Tchaikovsky Lake Of The Swans Act 1 7-8movs.mid',\n",
              " 'Buxethude Buxwv158 Preambulum.mid',\n",
              " 'Tchakoff',\n",
              " 'Czerny',\n",
              " 'Heidrich',\n",
              " 'Bizet Carmen Prelude.mid',\n",
              " 'Debussy Suite Bergamasque 2mov.mid',\n",
              " 'Schoenberg',\n",
              " 'Buxethude Buxwv167 Canzonetta.mid',\n",
              " 'Reinecke Piano Concerto n3 3mov.mid',\n",
              " 'Bartok',\n",
              " 'Coleridge-Taylor',\n",
              " 'Debussy Suite Bergamasque 3mov.mid',\n",
              " 'Moszkowski',\n",
              " 'Reinecke Piano Concerto n3 2mov.mid',\n",
              " 'Ivanovici',\n",
              " 'Dvorak Slavonic dance n8.mid',\n",
              " 'Jensen',\n",
              " 'Swinstead',\n",
              " 'Coates',\n",
              " 'Pachebel Toccata n1.mid',\n",
              " 'Buxethude Buxwv155 Toccata.mid',\n",
              " 'Diabelli Sonatina op151 n2 3mov.mid',\n",
              " \"Varios - Ti'tulo desconocido\",\n",
              " 'drive',\n",
              " 'Lecuona',\n",
              " 'Wagner',\n",
              " 'Durand, MA',\n",
              " 'Diabelli Sonatina op151 n1 3mov.mid',\n",
              " 'Skriabin',\n",
              " 'Diabelli Sonatina op151 n3 1mov.mid',\n",
              " 'Jakobowski',\n",
              " 'Czibulka',\n",
              " 'Pachebel Toccata n2.mid',\n",
              " 'Diabelli Sonatina op151 n1 1mov.mid',\n",
              " 'Tchaikovsky Lake Of The Swans Act 1 9mov.mid',\n",
              " 'Arndt',\n",
              " 'Barber',\n",
              " 'Buxethude Buxwv162 Prelude.mid',\n",
              " 'Meyerbeer',\n",
              " 'Kuhlau Sonatina op20 n1.mid',\n",
              " 'Sullivan',\n",
              " 'Dussek',\n",
              " 'Hiller',\n",
              " 'Laurent',\n",
              " 'Pachebel Toccata n3.mid',\n",
              " 'Rothchild Horn Concerto Rmw16 1mov.mid',\n",
              " 'Buxethude Buxwv156 Toccata.mid',\n",
              " 'Buxethude Buxwv161 Passcaglia.mid',\n",
              " 'Tchaikovsky Lake Of The Swans Act 2 14mov.mid',\n",
              " 'Pachelbel',\n",
              " 'Taube',\n",
              " 'Pollen Beguine Royale.mid',\n",
              " 'sample_data']"
            ]
          },
          "execution_count": 3,
          "metadata": {},
          "output_type": "execute_result"
        }
      ],
      "source": [
        "import zipfile\n",
        "import os\n",
        "\n",
        "zip_path = '/content/drive/MyDrive/midiclassics.zip'\n",
        "extract_path = '/content/'\n",
        "\n",
        "with zipfile.ZipFile(zip_path, 'r') as zip_ref:\n",
        "    zip_ref.extractall(extract_path)\n",
        "\n",
        "# Check folder structure\n",
        "os.listdir(extract_path)"
      ]
    },
    {
      "cell_type": "markdown",
      "metadata": {},
      "source": [
        "## Data Pre-Processing"
      ]
    },
    {
      "cell_type": "markdown",
      "metadata": {},
      "source": [
        "### Augmentation"
      ]
    },
    {
      "cell_type": "code",
      "execution_count": 4,
      "metadata": {
        "id": "Q1nScyhCDepU"
      },
      "outputs": [],
      "source": [
        "import os\n",
        "import glob\n",
        "import warnings\n",
        "\n",
        "warnings.filterwarnings(\"ignore\")\n",
        "\n",
        "def gather_distinct_midis(folder_path):\n",
        "    midi_path_set = set()\n",
        "    distinct_midi_files = []\n",
        "\n",
        "    midi_file_list = glob.glob(os.path.join(folder_path, '**', '*.mid'), recursive=True)\n",
        "\n",
        "    for midi in midi_file_list:\n",
        "        full_path = os.path.abspath(midi)\n",
        "        if full_path not in midi_path_set:\n",
        "            midi_path_set.add(full_path)\n",
        "            distinct_midi_files.append(full_path)\n",
        "\n",
        "    return distinct_midi_files"
      ]
    },
    {
      "cell_type": "code",
      "execution_count": 5,
      "metadata": {
        "id": "cD7Vc22XaM9c"
      },
      "outputs": [],
      "source": [
        "import pretty_midi\n",
        "import os\n",
        "import random\n",
        "\n",
        "def augment_midi_folder(input_folder, output_folder, num_augments=5):\n",
        "    if not os.path.exists(output_folder):\n",
        "        os.makedirs(output_folder)\n",
        "\n",
        "    midi_list = glob.glob(os.path.join(input_folder, '**', '*.mid'), recursive=True)\n",
        "    for filename in midi_list:\n",
        "        if filename.endswith(\".mid\") or filename.endswith(\".midi\"):\n",
        "            # file_path = os.path.join(input_folder, filename)\n",
        "            base_name = filename.split('/')[-1].split(\".mid\")[0]\n",
        "\n",
        "            try:\n",
        "                midi = pretty_midi.PrettyMIDI(filename)\n",
        "            except Exception as e:\n",
        "                print(f\"Error reading {filename}: {e}\")\n",
        "                continue\n",
        "\n",
        "            for i in range(num_augments):\n",
        "                augmented = pretty_midi.PrettyMIDI()\n",
        "                for instrument in midi.instruments:\n",
        "                    new_instrument = pretty_midi.Instrument(program=instrument.program, is_drum=instrument.is_drum)\n",
        "                    for note in instrument.notes:\n",
        "                        # Pitch shift\n",
        "                        pitch_shift = random.choice([-2, -1, 0, 1, 2])\n",
        "                        new_pitch = min(max(note.pitch + pitch_shift, 0), 127)\n",
        "\n",
        "                        # Velocity variation\n",
        "                        velocity_variation = random.randint(-10, 10)\n",
        "                        new_velocity = min(max(note.velocity + velocity_variation, 0), 127)\n",
        "\n",
        "                        # Tempo scaling\n",
        "                        time_scale = random.choice([0.9, 1.0, 1.1])\n",
        "                        start = note.start * time_scale\n",
        "                        end = note.end * time_scale\n",
        "\n",
        "                        new_note = pretty_midi.Note(\n",
        "                            velocity=new_velocity,\n",
        "                            pitch=new_pitch,\n",
        "                            start=start,\n",
        "                            end=end\n",
        "                        )\n",
        "                        new_instrument.notes.append(new_note)\n",
        "\n",
        "                    augmented.instruments.append(new_instrument)\n",
        "                output_file = os.path.join(output_folder, f\"{base_name}_aug{i}.mid\")\n",
        "                augmented.write(output_file)\n"
      ]
    },
    {
      "cell_type": "code",
      "execution_count": 6,
      "metadata": {
        "colab": {
          "base_uri": "https://localhost:8080/"
        },
        "id": "XPHRhlFYF6hP",
        "outputId": "a906010e-448d-4df7-881b-802b81c45822"
      },
      "outputs": [
        {
          "name": "stdout",
          "output_type": "stream",
          "text": [
            "Error reading /content/Mozart/Piano Sonatas/Nueva carpeta/K281 Piano Sonata n03 3mov.mid: Could not decode key with 2 flats and mode 2\n",
            "Error reading /content/Beethoven/Anhang 14-3.mid: Could not decode key with 3 flats and mode 255\n"
          ]
        }
      ],
      "source": [
        "augment_midi_folder(\"/content/Mozart\", \"/content/Mozart_augmented\", num_augments=4)\n",
        "augment_midi_folder(\"/content/Beethoven\", \"/content/Beethoven_augmented\", num_augments=5)\n",
        "augment_midi_folder(\"/content/Chopin\", \"/content/Chopin_augmented\", num_augments=6)"
      ]
    },
    {
      "cell_type": "code",
      "execution_count": 7,
      "metadata": {
        "colab": {
          "base_uri": "https://localhost:8080/"
        },
        "id": "Jbcnd8ehDepV",
        "outputId": "7653b717-2bc9-42a0-8e02-b5946f703159"
      },
      "outputs": [
        {
          "name": "stdout",
          "output_type": "stream",
          "text": [
            "Number of MIDI files found for Bach: 925\n"
          ]
        }
      ],
      "source": [
        "# Bach directory\n",
        "bach_folder_path = '/content/Bach'\n",
        "bach_midi_list = gather_distinct_midis(bach_folder_path)\n",
        "print(f\"Number of MIDI files found for Bach: {len(bach_midi_list)}\")"
      ]
    },
    {
      "cell_type": "code",
      "execution_count": 8,
      "metadata": {
        "colab": {
          "base_uri": "https://localhost:8080/"
        },
        "id": "eVLUt0FIIFKC",
        "outputId": "ca54240d-ea79-4333-edba-85a1d4fad124"
      },
      "outputs": [
        {
          "name": "stdout",
          "output_type": "stream",
          "text": [
            "Number of MIDI files found for Beethoven: 1055\n"
          ]
        }
      ],
      "source": [
        "# Beethoven directory\n",
        "beethoven_folder_path = '/content/Beethoven_augmented'\n",
        "beethoven_midi_list = gather_distinct_midis(beethoven_folder_path)\n",
        "print(f\"Number of MIDI files found for Beethoven: {len(beethoven_midi_list)}\")"
      ]
    },
    {
      "cell_type": "code",
      "execution_count": 9,
      "metadata": {
        "colab": {
          "base_uri": "https://localhost:8080/"
        },
        "id": "g10tOn44DepW",
        "outputId": "6db9c8a9-dc7a-4406-f1bb-c7052d66d753"
      },
      "outputs": [
        {
          "name": "stdout",
          "output_type": "stream",
          "text": [
            "Number of MIDI files found for Chopin: 816\n"
          ]
        }
      ],
      "source": [
        "# Chopin directory\n",
        "chopin_folder_path = '/content/Chopin_augmented'\n",
        "chopin_midi_list = gather_distinct_midis(chopin_folder_path)\n",
        "print(f\"Number of MIDI files found for Chopin: {len(chopin_midi_list)}\")"
      ]
    },
    {
      "cell_type": "code",
      "execution_count": 10,
      "metadata": {
        "colab": {
          "base_uri": "https://localhost:8080/"
        },
        "id": "vH16jhuCDepW",
        "outputId": "7617caeb-08f9-4453-e198-7a51f84c2941"
      },
      "outputs": [
        {
          "name": "stdout",
          "output_type": "stream",
          "text": [
            "Number of MIDI files found for Mozart: 1024\n"
          ]
        }
      ],
      "source": [
        "# Mozart directory\n",
        "mozart_folder_path = '/content/Mozart_augmented'\n",
        "mozart_midi_list = gather_distinct_midis(mozart_folder_path)\n",
        "print(f\"Number of MIDI files found for Mozart: {len(mozart_midi_list)}\")"
      ]
    },
    {
      "cell_type": "code",
      "execution_count": 11,
      "metadata": {
        "id": "UnZPtgrEpUm7"
      },
      "outputs": [],
      "source": [
        "from music21 import converter, note, chord, tempo, meter\n",
        "import numpy as np\n",
        "from fractions import Fraction\n",
        "\n",
        "# Utility Functions\n",
        "\n",
        "def to_float(value):\n",
        "    if isinstance(value, Fraction):\n",
        "        return float(value)\n",
        "    return float(value)\n",
        "\n",
        "def complete_chord_row(chord_row, max_pitches=4, fill_note=0):\n",
        "    start_time = to_float(chord_row[0])\n",
        "    chord_pitches = chord_row[1:]\n",
        "    chord_pitches += [fill_note] * (max_pitches - len(chord_pitches))\n",
        "    return [start_time] + chord_pitches\n",
        "\n",
        "def pad_feature_table(feature_rows, expected_length, fill_note=0):\n",
        "    result = []\n",
        "    for row in feature_rows:\n",
        "        row = row + [fill_note] * (expected_length - len(row))\n",
        "        result.append(row)\n",
        "    return np.array(result, dtype=float)"
      ]
    },
    {
      "cell_type": "code",
      "execution_count": 12,
      "metadata": {
        "id": "04QJY4xKDepW"
      },
      "outputs": [],
      "source": [
        "# Feature Extraction\n",
        "\n",
        "def extract_score_data(parsed_score, max_chord_count=4):\n",
        "    note_data            = []\n",
        "    chord_data           = []\n",
        "    tempo_data           = []\n",
        "    rhythm_pattern_data  = []\n",
        "    time_signature_data  = []\n",
        "\n",
        "    for item in parsed_score.flat:\n",
        "        if isinstance(item, note.Note):\n",
        "            note_data.append([\n",
        "                to_float(item.offset),\n",
        "                item.pitch.midi,\n",
        "                to_float(item.quarterLength),\n",
        "                item.volume.realized\n",
        "            ])\n",
        "            rhythm_pattern_data.append([\n",
        "                to_float(item.offset),\n",
        "                to_float(item.quarterLength)\n",
        "            ])\n",
        "        elif isinstance(item, chord.Chord):\n",
        "            this_chord = [to_float(item.offset)] + [p.midi for p in item.pitches]\n",
        "            chord_data.append(complete_chord_row(this_chord, max_pitches=max_chord_count))\n",
        "\n",
        "    for t in parsed_score.flat.getElementsByClass(tempo.MetronomeMark):\n",
        "        tempo_data.append([to_float(t.offset), t.number])\n",
        "\n",
        "    for sig in parsed_score.flat.getElementsByClass(meter.TimeSignature):\n",
        "        time_signature_data.append([to_float(sig.offset), sig.numerator, sig.denominator])\n",
        "\n",
        "    max_col_notes      = max((len(r) for r in note_data), default=0)\n",
        "    max_col_chords     = max((len(r) for r in chord_data), default=0)\n",
        "    max_col_tempo      = max((len(r) for r in tempo_data), default=0)\n",
        "    max_col_rhythm     = max((len(r) for r in rhythm_pattern_data), default=0)\n",
        "    max_col_timesig    = max((len(r) for r in time_signature_data), default=0)\n",
        "\n",
        "    expected_cols = max(max_col_notes, max_col_chords, max_col_tempo, max_col_rhythm, max_col_timesig)\n",
        "\n",
        "    note_array         = pad_feature_table(note_data, expected_cols)\n",
        "    chord_array        = pad_feature_table(chord_data, expected_cols)\n",
        "    tempo_array        = pad_feature_table(tempo_data, expected_cols)\n",
        "    rhythm_array       = pad_feature_table(rhythm_pattern_data, expected_cols)\n",
        "    timesig_array      = pad_feature_table(time_signature_data, expected_cols)\n",
        "\n",
        "    min_row_count = min(\n",
        "        len(note_array), len(chord_array), len(tempo_array),\n",
        "        len(rhythm_array), len(timesig_array)\n",
        "    )\n",
        "\n",
        "    note_array     = note_array[:min_row_count]\n",
        "    chord_array    = chord_array[:min_row_count]\n",
        "    tempo_array    = tempo_array[:min_row_count]\n",
        "    rhythm_array   = rhythm_array[:min_row_count]\n",
        "    timesig_array  = timesig_array[:min_row_count]\n",
        "\n",
        "    def force_2d(matrix):\n",
        "        if matrix.ndim == 1:\n",
        "            return matrix.reshape(-1, 1)\n",
        "        return matrix\n",
        "\n",
        "    note_array     = force_2d(note_array)\n",
        "    chord_array    = force_2d(chord_array)\n",
        "    tempo_array    = force_2d(tempo_array)\n",
        "    rhythm_array   = force_2d(rhythm_array)\n",
        "    timesig_array  = force_2d(timesig_array)\n",
        "\n",
        "    combined_array = np.hstack([note_array, chord_array, tempo_array, rhythm_array, timesig_array]) \\\n",
        "        if min_row_count > 0 else np.empty((0, 0))\n",
        "    return combined_array\n"
      ]
    },
    {
      "cell_type": "code",
      "execution_count": 13,
      "metadata": {
        "id": "Fd89Eu56DepX"
      },
      "outputs": [],
      "source": [
        "# Collect features for composers\n",
        "from concurrent.futures import ProcessPoolExecutor\n",
        "def process_single_midi(args):\n",
        "    composer_title, midi_path = args\n",
        "    try:\n",
        "        music_score = converter.parse(midi_path)\n",
        "        data_matrix = extract_score_data(music_score)\n",
        "        return data_matrix, composer_title, midi_path\n",
        "    except Exception:\n",
        "        return None\n",
        "\n",
        "    return np.array(all_composer_features, dtype=object), np.array(composer_label_list), np.array(midi_used_files)\n",
        "\n",
        "def collect_composer_data(composer_title, midi_path_list, max_files=300):\n",
        "    results = []\n",
        "    args_list = [(composer_title, path) for path in midi_path_list[:max_files]]\n",
        "    print(args_list)\n",
        "    with ProcessPoolExecutor() as executor:\n",
        "        for result in executor.map(process_single_midi, args_list):\n",
        "            if result:\n",
        "                results.append(result)\n",
        "\n",
        "    if not results:\n",
        "        return np.array([]), np.array([]), np.array([])\n",
        "\n",
        "    features, labels, paths = zip(*results)\n",
        "    return np.array(features, dtype=object), np.array(labels), np.array(paths)\n"
      ]
    },
    {
      "cell_type": "code",
      "execution_count": 14,
      "metadata": {
        "colab": {
          "base_uri": "https://localhost:8080/"
        },
        "id": "0VklyvuYqad0",
        "outputId": "4d3e25ef-331b-4b9c-de8e-efe339ff2fcf"
      },
      "outputs": [
        {
          "name": "stdout",
          "output_type": "stream",
          "text": [
            "[('Bach', '/content/Bach/Bwv0992 Capriccio.mid'), ('Bach', '/content/Bach/Bwv1014 Harpsicord and Violin Sonata 2mov.mid'), ('Bach', '/content/Bach/Bwv0566 Prelude and Fugue.mid'), ('Bach', '/content/Bach/Bwv0572 Fantasia.mid'), ('Bach', '/content/Bach/Bwv0811 English Suite n6 6mov.mid'), ('Bach', '/content/Bach/Bwv1014 Harpsicord and Violin Sonata 3mov.mid'), ('Bach', '/content/Bach/Bwv0997 Partita for Lute 3mov.mid'), ('Bach', '/content/Bach/Bwv0811 English Suite n6 1mov.mid'), ('Bach', '/content/Bach/Bwv0561 Fantasie and Fuga.mid'), ('Bach', '/content/Bach/Bwv802 Four Inventions (Duettos) Clavier-U\"bung III n1.mid'), ('Bach', '/content/Bach/Bwv0811 English Suite n6 7mov.mid'), ('Bach', '/content/Bach/Piano version of Bachs two part inventions No.4.mid'), ('Bach', '/content/Bach/Toccata and Fugue in D minor, BWV 565. (Busoni Piano Arr.mid'), ('Bach', '/content/Bach/Bwv0806 English Suite n1 10mov .mid'), ('Bach', '/content/Bach/Bwv0811 English Suite n6 8mov.mid'), ('Bach', '/content/Bach/Bwv0531 Prelude and Fugue.mid'), ('Bach', '/content/Bach/Bwv0937 Little Prelude n5.mid'), ('Bach', '/content/Bach/Bwv0906 Fantasia and Fugue.mid'), ('Bach', '/content/Bach/Bwv0963 Sonata.mid'), ('Bach', '/content/Bach/Bwv0526 Sonate en trio n2.mid'), ('Bach', '/content/Bach/Piano version of Bachs two part inventions No.6.mid'), ('Bach', '/content/Bach/Bwv0555 Short Prelude and Fugue n3 (Spurious).mid'), ('Bach', '/content/Bach/Bwv0556 Short Prelude and Fugue n4 (Spurious).mid'), ('Bach', '/content/Bach/Prelude from Sonata n6.mid'), ('Bach', '/content/Bach/Bwv0532 Toccata and Fugue.mid'), ('Bach', '/content/Bach/Bwv0546 Prelude and Fugue.mid'), ('Bach', '/content/Bach/Bwv0540 Toccata and Fugue.mid'), ('Bach', '/content/Bach/Bwv0590 Pastorale.mid'), ('Bach', '/content/Bach/Bwv1005 Violin Sonata n3 4mov Allegro.mid'), ('Bach', '/content/Bach/Clavierubung Part 111,Duet No.2 in F Major.mid'), ('Bach', '/content/Bach/Bwv0936 Little Prelude n4.mid'), ('Bach', '/content/Bach/Bwv0527 Sonate en trio n3.mid'), ('Bach', '/content/Bach/Jesu Joy of Man Desiring.mid'), ('Bach', '/content/Bach/Bwv0806 English Suite n1 03mov .mid'), ('Bach', '/content/Bach/AveMaria.mid'), ('Bach', '/content/Bach/Piano version of Bachs two part inventions No...mid'), ('Bach', '/content/Bach/Bwv0533 Prelude and Fugue.mid'), ('Bach', '/content/Bach/Minuet in G.mid'), ('Bach', '/content/Bach/Bwv0997 Partita for Lute 1mov.mid'), ('Bach', '/content/Bach/Bwv0967 Sonata.mid'), ('Bach', '/content/Bach/Bwv0934 Little Prelude n2.mid'), ('Bach', '/content/Bach/Bwv0565 Toccata and Fugue In Dm B.mid'), ('Bach', '/content/Bach/Bwv0811 English Suite n6 4mov.mid'), ('Bach', '/content/Bach/Bwv0560 Short Prelude and Fugue n8 (Spurious).mid'), ('Bach', '/content/Bach/Bwv0806 English Suite n1 08mov .mid'), ('Bach', '/content/Bach/Piano version of Bachs two part inventions No.11.mid'), ('Bach', \"/content/Bach/Bwv0538 Toccata and Fugue ''Dorian''.mid\"), ('Bach', '/content/Bach/Bwv1046 aSinfonia h.mid'), ('Bach', '/content/Bach/Bwv0541 Prelude and Fugue.mid'), ('Bach', '/content/Bach/Prelude and Fugue in A, BWV 888.mid'), ('Bach', '/content/Bach/Bwv0997 Partita for Lute 4mov.mid'), ('Bach', '/content/Bach/Bwv0938 Little Prelude n6.mid'), ('Bach', '/content/Bach/Bwv0806 English Suite n1 02mov .mid'), ('Bach', '/content/Bach/Bwv0528 Sonate en trio n4.mid'), ('Bach', '/content/Bach/Bwv0563 Fantasie con imitation.mid'), ('Bach', '/content/Bach/Bwv0550 Prelude and Fugue.mid'), ('Bach', '/content/Bach/Piano version of Bachs two part inventions No.3.mid'), ('Bach', '/content/Bach/Bwv0542 Fantasia and Fugue.mid'), ('Bach', '/content/Bach/Tocatto No.1 in F Sharp Minor, BWV 910.mid'), ('Bach', '/content/Bach/Piano version of Bachs two part inventions No.5.mid'), ('Bach', '/content/Bach/Bwv0998 Prelude Fugue Allegro for Lute 1mov.mid'), ('Bach', '/content/Bach/Bwv0543 Prelude and Fugue.mid'), ('Bach', '/content/Bach/Bwv0997 Partita for Lute 5mov.mid'), ('Bach', '/content/Bach/Piano version of Bachs two part inventions No.7.mid'), ('Bach', '/content/Bach/Bwv0554 Short Prelude and Fugue n2 (Spurious).mid'), ('Bach', '/content/Bach/Bwv0529 Sonate en trio n5.mid'), ('Bach', '/content/Bach/Piano version of Bachs two part inventions No.9.mid'), ('Bach', '/content/Bach/Bwv0806 English Suite n1 01mov .mid'), ('Bach', '/content/Bach/Bwv1005 Violin Sonata n3 1mov Adagio.mid'), ('Bach', '/content/Bach/Prelude and Fugue in C Sharp BWV 872.mid'), ('Bach', '/content/Bach/Bwv0536 Prelude and Fugue.mid'), ('Bach', '/content/Bach/Bwv0996 Suite for Lute.mid'), ('Bach', '/content/Bach/Bwv0806 English Suite n1 06mov .mid'), ('Bach', '/content/Bach/Bwv0593 Vivaldi Concerto Arrangement RV522.mid'), ('Bach', '/content/Bach/Bwv0997 Partita for Lute 2mov.mid'), ('Bach', '/content/Bach/Bwv0811 English Suite n6 5mov.mid'), ('Bach', '/content/Bach/Bwv0549 Prelude and Fugue.mid'), ('Bach', '/content/Bach/Bwv0570 Fantasia.mid'), ('Bach', '/content/Bach/Bwv1014 Harpsicord and Violin Sonata 4mov.mid'), ('Bach', '/content/Bach/Bwv0817 French Suite n6.mid'), ('Bach', '/content/Bach/Bwv0530 Sonate en trio n6.mid'), ('Bach', '/content/Bach/Bwv0565 Toccata and Fugue In Dm A.mid'), ('Bach', '/content/Bach/Bwv0559 Short Prelude and Fugue n7 (Spurious).mid'), ('Bach', '/content/Bach/Bwv0806 English Suite n1 04mov .mid'), ('Bach', '/content/Bach/Piano version of Bachs two part inventions No.2.mid'), ('Bach', '/content/Bach/Bwv0557 Short Prelude and Fugue n5 (Spurious).mid'), ('Bach', '/content/Bach/Bwv0733 Fuga Sopra Magnificat.mid'), ('Bach', '/content/Bach/Piano version of Bachs two part inventions No.10.mid'), ('Bach', '/content/Bach/Bwv0806 English Suite n1 05mov.mid'), ('Bach', '/content/Bach/Bwv0998 Prelude Fugue Allegro for Lute 3mov.mid'), ('Bach', '/content/Bach/Bwv0935 Little Prelude n3.mid'), ('Bach', '/content/Bach/Bwv0806 English Suite n1 07mov .mid'), ('Bach', '/content/Bach/Bwv0582 Passacaglia and Fugue.mid'), ('Bach', '/content/Bach/Piano version of Bachs two part inventions No.14.mid'), ('Bach', '/content/Bach/Bwv0547 Prelude and Fugue.mid'), ('Bach', '/content/Bach/Piano version of Bachs two part inventions No.1.mid'), ('Bach', '/content/Bach/Prelude and Fugue in D.mid'), ('Bach', '/content/Bach/Bwv0551 Prelude and Fugue.mid'), ('Bach', '/content/Bach/Bwv1005 Violin Sonata n3 2mov Fugue.mid'), ('Bach', '/content/Bach/Piano version of Bachs two part inventions No.12.mid'), ('Bach', '/content/Bach/Bwv0815 French Suite n4.mid'), ('Bach', \"/content/Bach/Bwv0552 Prelude and Fugue ''St. Anne''.mid\"), ('Bach', '/content/Bach/Piano version of Bachs two part inventions No.15.mid'), ('Bach', '/content/Bach/Bwv0594 Vivaldi Concerto Arrangement RV208.mid'), ('Bach', '/content/Bach/Bwv0998 Prelude Fugue Allegro for Lute 2mov.mid'), ('Bach', '/content/Bach/Bwv0525 Sonate en trio n1.mid'), ('Bach', '/content/Bach/Bwv0816 French Suite n5.mid'), ('Bach', '/content/Bach/Bwv0811 English Suite n6 3mov.mid'), ('Bach', '/content/Bach/Bwv0582 Passacaglia and Fugue (Orchestral).mid'), ('Bach', '/content/Bach/Bwv0535 Prelude and Fugue.mid'), ('Bach', '/content/Bach/Piano version of Bachs two part inventions No.13.mid'), ('Bach', '/content/Bach/Bwv0539 Prelude and Fugue.mid'), ('Bach', '/content/Bach/Bwv0933 Little Prelude n1.mid'), ('Bach', '/content/Bach/Bwv0811 English Suite n6 2mov.mid'), ('Bach', '/content/Bach/Bwv0806 English Suite n1 09mov .mid'), ('Bach', '/content/Bach/Bwv0558 Short Prelude and Fugue n6 (Spurious).mid'), ('Bach', '/content/Bach/Piano version of Bachs two part inventions No.8.mid'), ('Bach', '/content/Bach/Bwv1005 Violin Sonata n3 3mov Largo.mid'), ('Bach', '/content/Bach/Bwv0544 Prelude and Fugue.mid'), ('Bach', '/content/Bach/Bwv0537 Fantasia and Fugue.mid'), ('Bach', '/content/Bach/Bwv1014 Harpsicord and Violin Sonata 1mov.mid'), ('Bach', '/content/Bach/Bwv0568 Prelude.mid'), ('Bach', '/content/Bach/Bwv787-801 Three Part Inventions (Sinfonias)/Bwv0793 Sinfonia n7.mid'), ('Bach', '/content/Bach/Bwv787-801 Three Part Inventions (Sinfonias)/Bwv0791 Sinfonia n5.mid'), ('Bach', '/content/Bach/Bwv787-801 Three Part Inventions (Sinfonias)/Bwv0800 Sinfonia n14.mid'), ('Bach', '/content/Bach/Bwv787-801 Three Part Inventions (Sinfonias)/Bwv0797 Sinfonia n11.mid'), ('Bach', '/content/Bach/Bwv787-801 Three Part Inventions (Sinfonias)/Bwv0798 Sinfonia n12.mid'), ('Bach', '/content/Bach/Bwv787-801 Three Part Inventions (Sinfonias)/Bwv0789 Sinfonia n3.mid'), ('Bach', '/content/Bach/Bwv787-801 Three Part Inventions (Sinfonias)/Bwv0794 Sinfonia n8.mid'), ('Bach', '/content/Bach/Bwv787-801 Three Part Inventions (Sinfonias)/Bwv0796 Sinfonia n10.mid'), ('Bach', '/content/Bach/Bwv787-801 Three Part Inventions (Sinfonias)/Bwv0801 Sinfonia n15.mid'), ('Bach', '/content/Bach/Bwv787-801 Three Part Inventions (Sinfonias)/Bwv0795 Sinfonia n9.mid'), ('Bach', '/content/Bach/Bwv787-801 Three Part Inventions (Sinfonias)/Bwv0790 Sinfonia n4.mid'), ('Bach', '/content/Bach/Bwv787-801 Three Part Inventions (Sinfonias)/Bwv0792 Sinfonia n6.mid'), ('Bach', '/content/Bach/Bwv787-801 Three Part Inventions (Sinfonias)/Bwv0799 Sinfonia n13.mid'), ('Bach', '/content/Bach/Bwv787-801 Three Part Inventions (Sinfonias)/Bwv0787 Sinfonia n1.mid'), ('Bach', '/content/Bach/Bwv787-801 Three Part Inventions (Sinfonias)/Bwv0788 Sinfonia n2.mid'), ('Bach', '/content/Bach/Bwv232 Mass/06. Chor Gratias Animus Tibi .mid'), ('Bach', '/content/Bach/Bwv232 Mass/16. Et Ressurexit.mid'), ('Bach', '/content/Bach/Bwv232 Mass/07. Duet Domine Deus .mid'), ('Bach', '/content/Bach/Bwv232 Mass/19. Sanctus .mid'), ('Bach', '/content/Bach/Bwv232 Mass/14. Duet In Unum .mid'), ('Bach', '/content/Bach/Bwv232 Mass/21. Benedictus .mid'), ('Bach', '/content/Bach/Bwv232 Mass/05. Aria For Soprano .mid'), ('Bach', '/content/Bach/Bwv232 Mass/15. Et Incarnatus & Cricifixus.mid'), ('Bach', '/content/Bach/Bwv232 Mass/04. Chor Gloria In Exelcis .mid'), ('Bach', '/content/Bach/Bwv232 Mass/18. Confiteor.mid'), ('Bach', '/content/Bach/Bwv232 Mass/11. Chor Cum Sancto .mid'), ('Bach', '/content/Bach/Bwv232 Mass/22. Agnus Dei.mid'), ('Bach', '/content/Bach/Bwv232 Mass/23. Donna Nobis Pacem .mid'), ('Bach', '/content/Bach/Bwv232 Mass/01. Kyrie Eleison .mid'), ('Bach', '/content/Bach/Bwv232 Mass/03. Kyrie Eleison .mid'), ('Bach', '/content/Bach/Bwv232 Mass/10. Aria Quoniam.mid'), ('Bach', '/content/Bach/Bwv232 Mass/12. Chor Credo In Unum Deum .mid'), ('Bach', '/content/Bach/Bwv232 Mass/13. Chor Patrem Omnipotentem .mid'), ('Bach', '/content/Bach/Bwv232 Mass/20. Osanna .mid'), ('Bach', '/content/Bach/Bwv232 Mass/17. Bass Aria Et In Spritum .mid'), ('Bach', '/content/Bach/Bwv232 Mass/09. Aria Qui Sedes.mid'), ('Bach', '/content/Bach/Bwv232 Mass/02. Christe Eleison .mid'), ('Bach', '/content/Bach/Bwv232 Mass/08. Chor Qui Tollis .mid'), ('Bach', '/content/Bach/Concertos/Bwv1043 Two Violins Concerto n3 1mov.mid'), ('Bach', '/content/Bach/Concertos/Bwv1049 Brandenburg Concert n4 2mov.mid'), ('Bach', '/content/Bach/Concertos/Bwv1051 Brandenburg Concert n6 3mov.mid'), ('Bach', '/content/Bach/Concertos/Bwv1041 Violin Concerto n1 2mov.mid'), ('Bach', '/content/Bach/Concertos/Bwv1046 Brandenburg Concert n1 1mov.mid'), ('Bach', '/content/Bach/Concertos/Bwv1051 Brandenburg Concert n6 1mov.mid'), ('Bach', '/content/Bach/Concertos/Bwv1043 Two Violins Concerto n3 3mov.mid'), ('Bach', '/content/Bach/Concertos/Bwv1044 Flute Violin and Harpsichord Concerto 2mov.mid'), ('Bach', '/content/Bach/Concertos/Bwv1041 Violin Concerto n1 3mov.mid'), ('Bach', '/content/Bach/Concertos/Bwv1048 Brandenburg Concert n3 1mov.mid'), ('Bach', '/content/Bach/Concertos/Bwv1042 Violin Concerto n2 2mov.mid'), ('Bach', '/content/Bach/Concertos/Bwv1044 Flute Violin and Harpsichord Concerto 3mov.mid'), ('Bach', '/content/Bach/Concertos/Bwv1042 Violin Concerto n2 1mov.mid'), ('Bach', '/content/Bach/Concertos/Bwv1049 Brandenburg Concert n4 3mov.mid'), ('Bach', '/content/Bach/Concertos/Bwv1051 Brandenburg Concert n6 2mov.mid'), ('Bach', '/content/Bach/Concertos/Bwv1044 Flute Violin and Harpsichord Concerto 1mov.mid'), ('Bach', '/content/Bach/Concertos/Bwv1043 Two Violins Concerto n3 2mov.mid'), ('Bach', '/content/Bach/Concertos/Bwv1041 Violin Concerto n1 1mov.mid'), ('Bach', '/content/Bach/Concertos/Bwv1049 Brandenburg Concert n4 1mov.mid'), ('Bach', '/content/Bach/Concertos/Bwv1047 Brandenburg Concert n2 3mov.mid'), ('Bach', '/content/Bach/Concertos/Bwv1042 Violin Concerto n2 3mov.mid'), ('Bach', '/content/Bach/Concertos/Bwv1047 Brandenburg Concert n2 1mov.mid'), ('Bach', '/content/Bach/Concertos/Bwv1047 Brandenburg Concert n2 2mov.mid'), ('Bach', '/content/Bach/Concertos/Bwv1046 Brandenburg Concert n1 3mov.mid'), ('Bach', '/content/Bach/Concertos/Bwv1046 Brandenburg Concert n1 2mov.mid'), ('Bach', '/content/Bach/Bwv244 St. Matthew Passion/5.Erbarme dicht, mein Gott Alto Aria.mid'), ('Bach', '/content/Bach/Bwv244 St. Matthew Passion/9.O Haupt voll Blut und Wunden Chorus.mid'), ('Bach', '/content/Bach/Bwv244 St. Matthew Passion/7.Ko\"nnen Tra\"nen meiner Wangen nichts erlangen Alto Aria.mid'), ('Bach', '/content/Bach/Bwv244 St. Matthew Passion/8.Mache dich mein herz Bass Aria.mid'), ('Bach', '/content/Bach/Bwv244 St. Matthew Passion/3.Gebt mir meinen Jesum weider Bass Aria.mid'), ('Bach', '/content/Bach/Bwv244 St. Matthew Passion/6.Herzliebster Jesu Chorus.mid'), ('Bach', '/content/Bach/Bwv244 St. Matthew Passion/10.Wir setzen uns mit Tra\"nen nieder Chorus.mid'), ('Bach', '/content/Bach/Bwv244 St. Matthew Passion/4.Blute nur du liebes Herz Soprano Aria.mid'), ('Bach', '/content/Bach/Bwv244 St. Matthew Passion/1.Bass Aria.mid'), ('Bach', '/content/Bach/Bwv244 St. Matthew Passion/2.Aus Liebe will mein Heiland sterban Soprano Aria.mid'), ('Bach', '/content/Bach/Bwv1066-1069 Orchestral Suites/Bwv1068 Orchestral Suite n3 4mov.mid'), ('Bach', '/content/Bach/Bwv1066-1069 Orchestral Suites/Bwv1066 Orchestral Suite n1 4mov.mid'), ('Bach', '/content/Bach/Bwv1066-1069 Orchestral Suites/Bwv1068 Orchestral Suite n3 3mov.mid'), ('Bach', '/content/Bach/Bwv1066-1069 Orchestral Suites/Bwv1066 Orchestral Suite n1 2mov.mid'), ('Bach', '/content/Bach/Bwv1066-1069 Orchestral Suites/Bwv1069 Orchestral Suite n4 5mov.mid'), ('Bach', '/content/Bach/Bwv1066-1069 Orchestral Suites/Bwv1066 Orchestral Suite n1 6mov.mid'), ('Bach', '/content/Bach/Bwv1066-1069 Orchestral Suites/Bwv1069 Orchestral Suite n4 1mov.mid'), ('Bach', '/content/Bach/Bwv1066-1069 Orchestral Suites/Bwv1069 Orchestral Suite n4 2mov.mid'), ('Bach', '/content/Bach/Bwv1066-1069 Orchestral Suites/Bwv1067 Orchestral Suite n2 4mov.mid'), ('Bach', '/content/Bach/Bwv1066-1069 Orchestral Suites/Bwv1066 Orchestral Suite n1 5mov.mid'), ('Bach', '/content/Bach/Bwv1066-1069 Orchestral Suites/Bwv1069 Orchestral Suite n4 3mov.mid'), ('Bach', '/content/Bach/Bwv1066-1069 Orchestral Suites/Bwv1067 Orchestral Suite n2 7mov.mid'), ('Bach', '/content/Bach/Bwv1066-1069 Orchestral Suites/Bwv1068 Orchestral Suite n3 2mov.mid'), ('Bach', '/content/Bach/Bwv1066-1069 Orchestral Suites/Bwv1068 Orchestral Suite n3 5mov.mid'), ('Bach', '/content/Bach/Bwv1066-1069 Orchestral Suites/Bwv1067 Orchestral Suite n2 2mov.mid'), ('Bach', '/content/Bach/Bwv1066-1069 Orchestral Suites/Bwv1067 Orchestral Suite n2 1mov.mid'), ('Bach', '/content/Bach/Bwv1066-1069 Orchestral Suites/Bwv1067 Orchestral Suite n2 6mov.mid'), ('Bach', '/content/Bach/Bwv1066-1069 Orchestral Suites/Bwv1066 Orchestral Suite n1 1mov.mid'), ('Bach', '/content/Bach/Bwv1066-1069 Orchestral Suites/Bwv1069 Orchestral Suite n4 4mov.mid'), ('Bach', '/content/Bach/Bwv1066-1069 Orchestral Suites/Bwv1066 Orchestral Suite n1 3mov.mid'), ('Bach', '/content/Bach/Bwv1066-1069 Orchestral Suites/Bwv1067 Orchestral Suite n2 3mov.mid'), ('Bach', '/content/Bach/Bwv1066-1069 Orchestral Suites/Bwv1067 Orchestral Suite n2 5mov.mid'), ('Bach', '/content/Bach/Bwv1066-1069 Orchestral Suites/Bwv1068 Orchestral Suite n3 1mov.mid'), ('Bach', '/content/Bach/Bwv1066-1069 Orchestral Suites/Bwv1066 Orchestral Suite n1 7mov.mid'), ('Bach', '/content/Bach/Bwv1066-1069 Orchestral Suites/Nueva carpeta/Bwv1067 Orchestral suite n2 Rondeau.mid'), ('Bach', '/content/Bach/Bwv1066-1069 Orchestral Suites/Nueva carpeta/Bwv1066 Orchestral suite n1 Courante.mid'), ('Bach', '/content/Bach/Bwv1066-1069 Orchestral Suites/Nueva carpeta/Bwv1069 Orchestral suite n4 Gavotte.mid'), ('Bach', '/content/Bach/Bwv1066-1069 Orchestral Suites/Nueva carpeta/Bwv1068 Orchestral suite n3 Air.mid'), ('Bach', '/content/Bach/Bwv1066-1069 Orchestral Suites/Nueva carpeta/Bwv1069 Orchestral suite n4 Rejouissance.mid'), ('Bach', '/content/Bach/Bwv1066-1069 Orchestral Suites/Nueva carpeta/Bwv1067 Orchestral suite n2 Overture.mid'), ('Bach', '/content/Bach/Bwv1066-1069 Orchestral Suites/Nueva carpeta/Bwv1068 Orchestral suite n3 Gavotte.mid'), ('Bach', '/content/Bach/Bwv1066-1069 Orchestral Suites/Nueva carpeta/Bwv1066 Orchestral suite n1 Menuet.mid'), ('Bach', '/content/Bach/Bwv1066-1069 Orchestral Suites/Nueva carpeta/Bwv1067 Orchestral suite n2 Bouree.mid'), ('Bach', '/content/Bach/Bwv1066-1069 Orchestral Suites/Nueva carpeta/Bwv1069 Orchestral suite n4 Bourree.mid'), ('Bach', '/content/Bach/Bwv1066-1069 Orchestral Suites/Nueva carpeta/Bwv1069 Orchestral suite n4 Overture.mid'), ('Bach', '/content/Bach/Bwv1066-1069 Orchestral Suites/Nueva carpeta/Bwv1066 Orchestral suite n1 Bouree.mid'), ('Bach', '/content/Bach/Bwv1066-1069 Orchestral Suites/Nueva carpeta/Bwv1068 Orchestral suite n3 Bourree.mid'), ('Bach', '/content/Bach/Bwv1066-1069 Orchestral Suites/Nueva carpeta/Bwv1068 Orchestral suite n3 Gigue.mid'), ('Bach', '/content/Bach/Bwv1066-1069 Orchestral Suites/Nueva carpeta/Bwv1066 Orchestral suite n1 Gavotte.mid'), ('Bach', '/content/Bach/Bwv1066-1069 Orchestral Suites/Nueva carpeta/Bwv1067 Orchestral suite n2 Menuet.mid'), ('Bach', '/content/Bach/Bwv1066-1069 Orchestral Suites/Nueva carpeta/Bwv1067 Orchestral suite n2 Badineri.mid'), ('Bach', '/content/Bach/Bwv1066-1069 Orchestral Suites/Nueva carpeta/Bwv1068 Orchestral suite n3 Overture.mid'), ('Bach', '/content/Bach/Bwv1066-1069 Orchestral Suites/Nueva carpeta/Bwv1067 Orchestral suite n2 Polonais.mid'), ('Bach', '/content/Bach/Bwv1066-1069 Orchestral Suites/Nueva carpeta/Bwv1066 Orchestral suite n1 Passpied.mid'), ('Bach', '/content/Bach/Bwv1066-1069 Orchestral Suites/Nueva carpeta/Bwv1066 Orchestral suite n1 Forlane.mid'), ('Bach', '/content/Bach/Bwv1066-1069 Orchestral Suites/Nueva carpeta/Bwv1067 Orchestral suite n2 Sarabande.mid'), ('Bach', '/content/Bach/Bwv1066-1069 Orchestral Suites/Nueva carpeta/Bwv1069 Orchestral suite n4 Menuet.mid'), ('Bach', '/content/Bach/Bwv1066-1069 Orchestral Suites/Nueva carpeta/Bwv1066 Orchestral suite n1 Overture.mid'), ('Bach', '/content/Bach/Bwv1080 The Art Of Fugue/Counter Fugue n2.mid'), ('Bach', '/content/Bach/Bwv1080 The Art Of Fugue/Canon Fugue n4.mid'), ('Bach', '/content/Bach/Bwv1080 The Art Of Fugue/Unfinished Fugue.mid'), ('Bach', '/content/Bach/Bwv1080 The Art Of Fugue/Mirror Fugue n2.mid'), ('Bach', '/content/Bach/Bwv1080 The Art Of Fugue/Canon Fugue n3.mid'), ('Bach', '/content/Bach/Bwv1080 The Art Of Fugue/Canon Fugue n1.mid'), ('Bach', '/content/Bach/Bwv1080 The Art Of Fugue/Simple Fugue Inverted Subject n2.mid'), ('Bach', '/content/Bach/Bwv1080 The Art Of Fugue/Triple Fugue n2.mid'), ('Bach', '/content/Bach/Bwv1080 The Art Of Fugue/Triple Fugue n1.mid'), ('Bach', '/content/Bach/Bwv1080 The Art Of Fugue/Counter Fugue n1.mid'), ('Bach', '/content/Bach/Bwv1080 The Art Of Fugue/Double Fugue n2.mid'), ('Bach', '/content/Bach/Bwv1080 The Art Of Fugue/Simple Fugue Inverted Subject n1.mid'), ('Bach', '/content/Bach/Bwv1080 The Art Of Fugue/Canon Fugue n2.mid'), ('Bach', '/content/Bach/Bwv1080 The Art Of Fugue/Simple Fugue Regular Subject n2.mid'), ('Bach', '/content/Bach/Bwv1080 The Art Of Fugue/Mirror Fugue n1.mid'), ('Bach', '/content/Bach/Bwv1080 The Art Of Fugue/Double Fugue n1.mid'), ('Bach', '/content/Bach/Bwv1080 The Art Of Fugue/Simple Fugue Regular Subject n1.mid'), ('Bach', '/content/Bach/Bwv1080 The Art Of Fugue/Counter Fugue n3.mid'), ('Bach', '/content/Bach/Bwv1080 The Art Of Fugue/The Art of the Fugue BWV1080.mid'), ('Bach', '/content/Bach/Bwv001- 400 Chorales/017405b_.mid'), ('Bach', '/content/Bach/Bwv001- 400 Chorales/066000b_.mid'), ('Bach', '/content/Bach/Bwv001- 400 Chorales/015905b_.mid'), ('Bach', '/content/Bach/Bwv001- 400 Chorales/009606b_.mid'), ('Bach', '/content/Bach/Bwv001- 400 Chorales/011606b_.mid'), ('Bach', '/content/Bach/Bwv001- 400 Chorales/004003b_.mid'), ('Bach', '/content/Bach/Bwv001- 400 Chorales/024454b_.mid'), ('Bach', '/content/Bach/Bwv001- 400 Chorales/032600b_.mid'), ('Bach', '/content/Bach/Bwv001- 400 Chorales/006507b_.mid'), ('Bach', '/content/Bach/Bwv001- 400 Chorales/007408b_.mid'), ('Bach', '/content/Bach/Bwv001- 400 Chorales/Bwv014.5.mid'), ('Bach', '/content/Bach/Bwv001- 400 Chorales/007305bv.mid'), ('Bach', '/content/Bach/Bwv001- 400 Chorales/010207b_.mid'), ('Bach', '/content/Bach/Bwv001- 400 Chorales/024517b_.mid'), ('Bach', '/content/Bach/Bwv001- 400 Chorales/025000b_.mid'), ('Bach', '/content/Bach/Bwv001- 400 Chorales/Bwv025.6.mid'), ('Bach', '/content/Bach/Bwv001- 400 Chorales/037600b_.mid'), ('Bach', '/content/Bach/Bwv001- 400 Chorales/022902b_.mid'), ('Bach', '/content/Bach/Bwv001- 400 Chorales/040900bv.mid'), ('Bach', '/content/Bach/Bwv001- 400 Chorales/027000b_.mid'), ('Bach', '/content/Bach/Bwv001- 400 Chorales/037100b_.mid'), ('Bach', '/content/Bach/Bwv001- 400 Chorales/004207b_.mid'), ('Bach', '/content/Bach/Bwv001- 400 Chorales/024859b6.mid'), ('Bach', '/content/Bach/Bwv001- 400 Chorales/009106ch.mid'), ('Bach', '/content/Bach/Bwv001- 400 Chorales/037500b_.mid'), ('Bach', '/content/Bach/Bwv001- 400 Chorales/040400b_.mid'), ('Bach', '/content/Bach/Bwv001- 400 Chorales/006906bav.mid'), ('Bach', '/content/Bach/Bwv001- 400 Chorales/004006b_.mid'), ('Bach', '/content/Bach/Bwv001- 400 Chorales/022701b_.mid'), ('Bach', '/content/Bach/Bwv001- 400 Chorales/005708b_.mid'), ('Bach', '/content/Bach/Bwv001- 400 Chorales/004311b_.mid'), ('Bach', '/content/Bach/Bwv001- 400 Chorales/015305b_.mid'), ('Bach', '/content/Bach/Bwv001- 400 Chorales/015705b_.mid'), ('Bach', '/content/Bach/Bwv001- 400 Chorales/008606b_.mid'), ('Bach', '/content/Bach/Bwv001- 400 Chorales/007514b_.mid'), ('Bach', '/content/Bach/Bwv001- 400 Chorales/013306b_.mid'), ('Bach', '/content/Bach/Bwv001- 400 Chorales/014505bv.mid'), ('Bach', '/content/Bach/Bwv001- 400 Chorales/025300b_.mid')]\n",
            "Bach dataset: Feature arrays extracted from 300 files.\n"
          ]
        }
      ],
      "source": [
        "bach_feature_arrays, bach_label_list, bach_file_list = collect_composer_data(\"Bach\", bach_midi_list)\n",
        "print(f\"Bach dataset: Feature arrays extracted from {len(bach_feature_arrays)} files.\")"
      ]
    },
    {
      "cell_type": "code",
      "execution_count": 15,
      "metadata": {
        "colab": {
          "base_uri": "https://localhost:8080/"
        },
        "id": "ejNPTXGNqdkx",
        "outputId": "2fe6fcb7-9445-4ab3-f4c5-b4ad409ca8a4"
      },
      "outputs": [
        {
          "name": "stdout",
          "output_type": "stream",
          "text": [
            "[('Beethoven', '/content/Beethoven_augmented/Piano Sonata n04_aug0.mid'), ('Beethoven', \"/content/Beethoven_augmented/Lieder op48 n6 ''Busslied''_aug0.mid\"), ('Beethoven', '/content/Beethoven_augmented/Sonata in Bflat Major Op.106_aug2.mid'), ('Beethoven', \"/content/Beethoven_augmented/Lieder op48 n1 ''Bitten''_aug1.mid\"), ('Beethoven', '/content/Beethoven_augmented/op119 Douze Bagatellas_aug0.mid'), ('Beethoven', '/content/Beethoven_augmented/Piano Sonata n10 2mov_aug2.mid'), ('Beethoven', '/content/Beethoven_augmented/Violin Concerto op61 1mov_aug3.mid'), ('Beethoven', '/content/Beethoven_augmented/Symphony n5 op67 3-4mov_aug4.mid'), ('Beethoven', \"/content/Beethoven_augmented/Lieder op48 n2 ''Die Liebe Des Nachsten''_aug3.mid\"), ('Beethoven', \"/content/Beethoven_augmented/Symphony n3 3mov ''Eroica''_aug2.mid\"), ('Beethoven', \"/content/Beethoven_augmented/Overture ''Corolian'' op62_aug2.mid\"), ('Beethoven', '/content/Beethoven_augmented/Bagatella op33 n6_aug1.mid'), ('Beethoven', '/content/Beethoven_augmented/Sonatina n1 op05_aug0.mid'), ('Beethoven', '/content/Beethoven_augmented/WoO054 Lustig Traurig_aug4.mid'), ('Beethoven', \"/content/Beethoven_augmented/Piano sonata n26 ''Les Adieux''_aug2.mid\"), ('Beethoven', '/content/Beethoven_augmented/String Quartet n16 op135 2mov_aug3.mid'), ('Beethoven', '/content/Beethoven_augmented/Sonata, Opus.111 C minor No.1_aug4.mid'), ('Beethoven', '/content/Beethoven_augmented/Piano Sonata n27_aug1.mid'), ('Beethoven', '/content/Beethoven_augmented/Piano Concerto n1 op15 3mov_aug3.mid'), ('Beethoven', '/content/Beethoven_augmented/Symphony n5 op67 1mov_aug2.mid'), ('Beethoven', '/content/Beethoven_augmented/Sonata Opus.81a -Les Adieux- E flat No.2 & 3_aug4.mid'), ('Beethoven', '/content/Beethoven_augmented/Piano Sonata n12 op26_aug1.mid'), ('Beethoven', \"/content/Beethoven_augmented/Piano Sonata n08 op13 1mov ''Pathetique''_aug2.mid\"), ('Beethoven', '/content/Beethoven_augmented/Piano Sonata n01_aug0.mid'), ('Beethoven', '/content/Beethoven_augmented/Symphony n7 1mov_aug4.mid'), ('Beethoven', \"/content/Beethoven_augmented/Overture ''Leonore'' op138 n1_aug4.mid\"), ('Beethoven', '/content/Beethoven_augmented/Sonatina In C_aug0.mid'), ('Beethoven', '/content/Beethoven_augmented/Symphony op93 n8 1mov_aug4.mid'), ('Beethoven', \"/content/Beethoven_augmented/Overture ''Fidelio'' op72b_aug0.mid\"), ('Beethoven', '/content/Beethoven_augmented/Op33 No.4_aug2.mid'), ('Beethoven', '/content/Beethoven_augmented/WoO061 Mouvement Pour Piano_aug4.mid'), ('Beethoven', '/content/Beethoven_augmented/Symphony n4 1mov_aug2.mid'), ('Beethoven', '/content/Beethoven_augmented/Symphony n4 3mov_aug4.mid'), ('Beethoven', '/content/Beethoven_augmented/Sieben Bagatellen, in A Major, Opus.33, No.4_aug0.mid'), ('Beethoven', '/content/Beethoven_augmented/Piano Sonata n19_aug0.mid'), ('Beethoven', '/content/Beethoven_augmented/Piano Romance  No.50_aug0.mid'), ('Beethoven', '/content/Beethoven_augmented/Piano Sonata n10_aug4.mid'), ('Beethoven', '/content/Beethoven_augmented/WoO049 Rondo_aug2.mid'), ('Beethoven', '/content/Beethoven_augmented/Sonata in Bflat Major Op.106_aug0.mid'), ('Beethoven', \"/content/Beethoven_augmented/Piano Sonata n17 ''Tempestat''_aug1.mid\"), ('Beethoven', \"/content/Beethoven_augmented/Symphony op125 n9 2mov ''Choral''_aug0.mid\"), ('Beethoven', '/content/Beethoven_augmented/Symphony n2 op36 3mov_aug3.mid'), ('Beethoven', '/content/Beethoven_augmented/Piano Concerto n1 op15 1mov_aug0.mid'), ('Beethoven', '/content/Beethoven_augmented/Hess059 Exercizio Per Pianoforte_aug3.mid'), ('Beethoven', '/content/Beethoven_augmented/Minuetto_aug2.mid'), ('Beethoven', '/content/Beethoven_augmented/String Quartet n16 op135 3mov_aug2.mid'), ('Beethoven', \"/content/Beethoven_augmented/Symphony op68 n6 3mov ''Pastorale''_aug0.mid\"), ('Beethoven', '/content/Beethoven_augmented/WoO081 Allemande_aug3.mid'), ('Beethoven', '/content/Beethoven_augmented/Symphony n1 4mov_aug3.mid'), ('Beethoven', '/content/Beethoven_augmented/Bagatella op33 n5_aug0.mid'), ('Beethoven', '/content/Beethoven_augmented/String Quartet n16 op135 4mov_aug4.mid'), ('Beethoven', '/content/Beethoven_augmented/Piano Sonata n10 2mov_aug4.mid'), ('Beethoven', '/content/Beethoven_augmented/Piano Sonata n10 1mov_aug3.mid'), ('Beethoven', '/content/Beethoven_augmented/Sonata Presto_aug4.mid'), ('Beethoven', '/content/Beethoven_augmented/Sonata Presto_aug3.mid'), ('Beethoven', \"/content/Beethoven_augmented/Lieder op82 n1 ''Dimmi Den Mio Che Mi Ami''_aug3.mid\"), ('Beethoven', \"/content/Beethoven_augmented/Piano Sonata n14 op27  ''Moonlight''_aug0.mid\"), ('Beethoven', \"/content/Beethoven_augmented/Overture ''Creatures Of Prometeus'' op43_aug0.mid\"), ('Beethoven', '/content/Beethoven_augmented/Sonata No.14 Op 27 Sonata Quasi Una Fantasia_aug4.mid'), ('Beethoven', '/content/Beethoven_augmented/String Quartet n16 op135 2mov_aug0.mid'), ('Beethoven', \"/content/Beethoven_augmented/Piano Sonata n23 op57 3mov ''Apassionata''_aug2.mid\"), ('Beethoven', '/content/Beethoven_augmented/Piano Sonata n31 op110_aug2.mid'), ('Beethoven', \"/content/Beethoven_augmented/Lieder op46 ''Adelaide''_aug1.mid\"), ('Beethoven', '/content/Beethoven_augmented/Piano Sonata n22_aug0.mid'), ('Beethoven', \"/content/Beethoven_augmented/Piano Sonata n15 ''Pastoral''_aug0.mid\"), ('Beethoven', '/content/Beethoven_augmented/Bagatella op33 n5_aug1.mid'), ('Beethoven', '/content/Beethoven_augmented/op119 Douze Bagatellas_aug4.mid'), ('Beethoven', '/content/Beethoven_augmented/Anh08Nb1 Gavotte 4 hands_aug3.mid'), ('Beethoven', '/content/Beethoven_augmented/Sonatina n1 op05_aug4.mid'), ('Beethoven', '/content/Beethoven_augmented/WoO081 Allemande_aug0.mid'), ('Beethoven', '/content/Beethoven_augmented/String Quartet n2 op18 n2 2mov_aug2.mid'), ('Beethoven', \"/content/Beethoven_augmented/Piano Sonata n21 1mov ''Waldstein''_aug4.mid\"), ('Beethoven', \"/content/Beethoven_augmented/Piano Sonata n23 op57 2mov ''Apassionata''_aug2.mid\"), ('Beethoven', '/content/Beethoven_augmented/Symphony op93 n8 2mov _aug4.mid'), ('Beethoven', '/content/Beethoven_augmented/Piano Sonata No2 Assai vivace_aug2.mid'), ('Beethoven', '/content/Beethoven_augmented/Piano Concerto n4 op58 2mov_aug0.mid'), ('Beethoven', \"/content/Beethoven_augmented/Overture ''Egmont''_aug0.mid\"), ('Beethoven', \"/content/Beethoven_augmented/Overture ''Fidelio'' op72b_aug4.mid\"), ('Beethoven', '/content/Beethoven_augmented/Piano Sonata No 28 in B flat -Hammerklavier- Op.106, 2nd Mov Scherzo_aug2.mid'), ('Beethoven', '/content/Beethoven_augmented/Piano Sonata n11_aug2.mid'), ('Beethoven', '/content/Beethoven_augmented/Op.51_aug0.mid'), ('Beethoven', '/content/Beethoven_augmented/Sketch for Piano Allegro_aug0.mid'), ('Beethoven', '/content/Beethoven_augmented/Symphony op93 n8 2mov _aug0.mid'), ('Beethoven', '/content/Beethoven_augmented/Sonata Opus.81a -Les Adieux- E flat No.1_aug0.mid'), ('Beethoven', '/content/Beethoven_augmented/Rondo Opus.51, No.2_aug1.mid'), ('Beethoven', \"/content/Beethoven_augmented/Symphony op68 n6 1mov ''Pastorale''_aug1.mid\"), ('Beethoven', \"/content/Beethoven_augmented/Lieder op48 n3 ''Vom Tode''_aug0.mid\"), ('Beethoven', \"/content/Beethoven_augmented/Lieder op48 n6 ''Busslied''_aug4.mid\"), ('Beethoven', '/content/Beethoven_augmented/Sonata, Opus.111 C minor No.1_aug3.mid'), ('Beethoven', \"/content/Beethoven_augmented/Symphony op125 n9 3mov ''Choral''_aug0.mid\"), ('Beethoven', '/content/Beethoven_augmented/Symphony n5 op67 1mov_aug3.mid'), ('Beethoven', '/content/Beethoven_augmented/Piano Concerto n3 op37 1mov_aug1.mid'), ('Beethoven', '/content/Beethoven_augmented/Symphony n2 op36 1mov_aug0.mid'), ('Beethoven', \"/content/Beethoven_augmented/Piano Sonata n14 op27  ''Moonlight''_aug4.mid\"), ('Beethoven', '/content/Beethoven_augmented/Symphony n5 op67 1mov_aug1.mid'), ('Beethoven', '/content/Beethoven_augmented/Symphony n5 op67 3-4mov_aug3.mid'), ('Beethoven', '/content/Beethoven_augmented/String Quartet n1 op18 3mov_aug4.mid'), ('Beethoven', '/content/Beethoven_augmented/Symphony n1 3mov_aug4.mid'), ('Beethoven', '/content/Beethoven_augmented/Op33 No.4_aug3.mid'), ('Beethoven', '/content/Beethoven_augmented/String Quartet n1 op18 2mov_aug0.mid'), ('Beethoven', '/content/Beethoven_augmented/Piano Concerto n2 op19 2mov_aug0.mid'), ('Beethoven', \"/content/Beethoven_augmented/Lieder op48 n2 ''Die Liebe Des Nachsten''_aug4.mid\"), ('Beethoven', '/content/Beethoven_augmented/Rondo Opus.51, No.1_aug3.mid'), ('Beethoven', \"/content/Beethoven_augmented/Piano Sonata n14 op27 1mov ''Moonlight''_aug4.mid\"), ('Beethoven', \"/content/Beethoven_augmented/Lieder op48 n3 ''Vom Tode''_aug2.mid\"), ('Beethoven', '/content/Beethoven_augmented/March No.3_aug4.mid'), ('Beethoven', \"/content/Beethoven_augmented/Piano Sonata n08 op13 3mov ''Pathetique''_aug4.mid\"), ('Beethoven', '/content/Beethoven_augmented/Piano Sonata No2 Assai vivace_aug3.mid'), ('Beethoven', '/content/Beethoven_augmented/Andante in F Major_aug0.mid'), ('Beethoven', \"/content/Beethoven_augmented/Piano Sonata n15 2mov ''Pastoral''_aug0.mid\"), ('Beethoven', '/content/Beethoven_augmented/Piano Sonata n03_aug3.mid'), ('Beethoven', '/content/Beethoven_augmented/Piano Sonata n04_aug4.mid'), ('Beethoven', '/content/Beethoven_augmented/Piano Concerto n3 op37 1mov_aug2.mid'), ('Beethoven', '/content/Beethoven_augmented/Symphony op93 n8 1mov_aug1.mid'), ('Beethoven', '/content/Beethoven_augmented/Symphony op93 n8 4mov_aug1.mid'), ('Beethoven', '/content/Beethoven_augmented/Symphony n4 3mov_aug2.mid'), ('Beethoven', '/content/Beethoven_augmented/Symphony op93 n8 4mov_aug3.mid'), ('Beethoven', '/content/Beethoven_augmented/WoO010 Six Menuets for Orchestra_aug0.mid'), ('Beethoven', '/content/Beethoven_augmented/Symphony n2 op36 2mov_aug2.mid'), ('Beethoven', '/content/Beethoven_augmented/String Quartet n2 op18 n2 3mov_aug1.mid'), ('Beethoven', '/content/Beethoven_augmented/Andante in F Major_aug4.mid'), ('Beethoven', \"/content/Beethoven_augmented/Symphony n3 2mov ''Eroica''_aug2.mid\"), ('Beethoven', \"/content/Beethoven_augmented/Piano Sonata n29 Op106 ''Hammerklavier''_aug4.mid\"), ('Beethoven', '/content/Beethoven_augmented/Hess059 Exercizio Per Pianoforte_aug4.mid'), ('Beethoven', '/content/Beethoven_augmented/Rondo in B flat_aug1.mid'), ('Beethoven', '/content/Beethoven_augmented/Piano Sonata n03_aug0.mid'), ('Beethoven', \"/content/Beethoven_augmented/Symphony op68 n6 3mov ''Pastorale''_aug2.mid\"), ('Beethoven', '/content/Beethoven_augmented/Piano Sonata n20_aug0.mid'), ('Beethoven', '/content/Beethoven_augmented/Piano Concerto No5,Mov.3_aug4.mid'), ('Beethoven', '/content/Beethoven_augmented/Symphony n7 3mov_aug3.mid'), ('Beethoven', '/content/Beethoven_augmented/String Quartet n1 op18 2mov_aug2.mid'), ('Beethoven', '/content/Beethoven_augmented/Sonatina WoO050_aug2.mid'), ('Beethoven', '/content/Beethoven_augmented/Piano Sonata n24_aug1.mid'), ('Beethoven', \"/content/Beethoven_augmented/Piano Sonata n21 2mov ''Waldstein''_aug1.mid\"), ('Beethoven', \"/content/Beethoven_augmented/Piano Sonata n15 2mov ''Pastoral''_aug1.mid\"), ('Beethoven', '/content/Beethoven_augmented/Bagatella op33 n2_aug4.mid'), ('Beethoven', \"/content/Beethoven_augmented/Piano Sonata n18 ''The Hunt''_aug0.mid\"), ('Beethoven', \"/content/Beethoven_augmented/Overture ''Corolian'' op62_aug4.mid\"), ('Beethoven', \"/content/Beethoven_augmented/Piano Sonata n21 3mov ''Waldstein''_aug0.mid\"), ('Beethoven', '/content/Beethoven_augmented/Violin Concerto op61 1mov_aug0.mid'), ('Beethoven', '/content/Beethoven_augmented/Piano Sonata n03_aug1.mid'), ('Beethoven', '/content/Beethoven_augmented/Symphony op93 n8 3mov _aug1.mid'), ('Beethoven', '/content/Beethoven_augmented/Piano Sonata n10 2mov_aug1.mid'), ('Beethoven', '/content/Beethoven_augmented/Piano Sonata n02_aug3.mid'), ('Beethoven', \"/content/Beethoven_augmented/Lieder op48 n4 ''Die Ehre Gottes Aus Der Natur''_aug0.mid\"), ('Beethoven', '/content/Beethoven_augmented/Symphony n2 op36 2mov_aug3.mid'), ('Beethoven', '/content/Beethoven_augmented/String Quartet n16 op135 4mov_aug1.mid'), ('Beethoven', \"/content/Beethoven_augmented/Piano Sonata n21 2mov ''Waldstein''_aug4.mid\"), ('Beethoven', \"/content/Beethoven_augmented/Overture ''Leonore'' n3 op72_aug3.mid\"), ('Beethoven', \"/content/Beethoven_augmented/Piano Sonata n15 ''Pastoral''_aug2.mid\"), ('Beethoven', '/content/Beethoven_augmented/32 Variations on a theme_aug0.mid'), ('Beethoven', \"/content/Beethoven_augmented/Piano Sonata n15 ''Pastoral''_aug4.mid\"), ('Beethoven', \"/content/Beethoven_augmented/Piano Sonata n15 3mov ''Pastoral''_aug0.mid\"), ('Beethoven', '/content/Beethoven_augmented/Hess057 Bagatella_aug3.mid'), ('Beethoven', '/content/Beethoven_augmented/Piano Sonata n20_aug4.mid'), ('Beethoven', \"/content/Beethoven_augmented/Piano Sonata n08 op13 2mov ''Pathetique''_aug3.mid\"), ('Beethoven', '/content/Beethoven_augmented/Piano Sonata n12 op26_aug2.mid'), ('Beethoven', '/content/Beethoven_augmented/Bagatella op33 n2_aug1.mid'), ('Beethoven', '/content/Beethoven_augmented/Piano Concerto n4 op58 3mov_aug0.mid'), ('Beethoven', '/content/Beethoven_augmented/Piano Concerto n4 op58 2mov_aug4.mid'), ('Beethoven', '/content/Beethoven_augmented/WoO061 Mouvement Pour Piano_aug3.mid'), ('Beethoven', '/content/Beethoven_augmented/WoO051 Sonatina 1-2 movs_aug4.mid'), ('Beethoven', '/content/Beethoven_augmented/Rondo in B flat_aug0.mid'), ('Beethoven', \"/content/Beethoven_augmented/Overture ''Egmont''_aug4.mid\"), ('Beethoven', '/content/Beethoven_augmented/WoO083 Six Escotish Dances for Piano_aug4.mid'), ('Beethoven', '/content/Beethoven_augmented/Piano Sonata n10 2mov_aug0.mid'), ('Beethoven', '/content/Beethoven_augmented/Symphony n4 2mov_aug2.mid'), ('Beethoven', '/content/Beethoven_augmented/Op.51_aug2.mid'), ('Beethoven', \"/content/Beethoven_augmented/Piano Sonata n08 op13 3mov ''Pathetique''_aug3.mid\"), ('Beethoven', '/content/Beethoven_augmented/Sieben Bagatellen, in F Major, Opus.33, No.3_aug2.mid'), ('Beethoven', '/content/Beethoven_augmented/Sonata, Opus.111 C minor No.2_aug1.mid'), ('Beethoven', '/content/Beethoven_augmented/Piano Sonata n11_aug1.mid'), ('Beethoven', '/content/Beethoven_augmented/Piano Concerto n3 op37 2mov_aug2.mid'), ('Beethoven', '/content/Beethoven_augmented/Rondo Opus.51, No.1_aug0.mid'), ('Beethoven', '/content/Beethoven_augmented/String Quartet n1 op18 4mov_aug3.mid'), ('Beethoven', \"/content/Beethoven_augmented/Symphony op125 n9 4mov ''Choral''_aug0.mid\"), ('Beethoven', '/content/Beethoven_augmented/WoO086 Scotish_aug4.mid'), ('Beethoven', '/content/Beethoven_augmented/String Quartet n2 op18 n2 1mov_aug4.mid'), ('Beethoven', \"/content/Beethoven_augmented/Lieder op99 ''Der Mann Von Wort''_aug0.mid\"), ('Beethoven', '/content/Beethoven_augmented/Piano Concerto n4 op58 3mov_aug2.mid'), ('Beethoven', '/content/Beethoven_augmented/Bagatella op33 n4_aug4.mid'), ('Beethoven', '/content/Beethoven_augmented/Sonatina In C_aug4.mid'), ('Beethoven', '/content/Beethoven_augmented/String Quartet n1 op18 4mov_aug4.mid'), ('Beethoven', '/content/Beethoven_augmented/Rondo in B flat_aug4.mid'), ('Beethoven', '/content/Beethoven_augmented/Symphony n7 2mov_aug1.mid'), ('Beethoven', '/content/Beethoven_augmented/Symphony n5 op67 3-4mov_aug2.mid'), ('Beethoven', '/content/Beethoven_augmented/Piano Sonata n10 1mov_aug4.mid'), ('Beethoven', '/content/Beethoven_augmented/Symphony n2 op36 3mov_aug2.mid'), ('Beethoven', '/content/Beethoven_augmented/Rondo Opus.51, No.2_aug3.mid'), ('Beethoven', '/content/Beethoven_augmented/Piano Sonata n28_aug4.mid'), ('Beethoven', \"/content/Beethoven_augmented/Symphony op125 n9 3mov ''Choral''_aug4.mid\"), ('Beethoven', '/content/Beethoven_augmented/Sonata Opus.81a -Les Adieux- E flat No.2 & 3_aug2.mid'), ('Beethoven', '/content/Beethoven_augmented/32 Variations on a theme_aug3.mid'), ('Beethoven', '/content/Beethoven_augmented/Romance piano_aug4.mid'), ('Beethoven', '/content/Beethoven_augmented/Sonata No.14 Op 27 Moonlight Sonata_aug3.mid'), ('Beethoven', '/content/Beethoven_augmented/Sonata Opus.81a -Les Adieux- E flat No.1_aug2.mid'), ('Beethoven', '/content/Beethoven_augmented/Piano Sonata n05_aug4.mid'), ('Beethoven', \"/content/Beethoven_augmented/Piano Sonata n14 op27 2mov ''Moonlight''_aug2.mid\"), ('Beethoven', \"/content/Beethoven_augmented/Lieder op48 n3 ''Vom Tode''_aug3.mid\"), ('Beethoven', '/content/Beethoven_augmented/Sechs Variationen_aug4.mid'), ('Beethoven', '/content/Beethoven_augmented/Sketch for Piano Allegro_aug3.mid'), ('Beethoven', \"/content/Beethoven_augmented/Piano Sonata n17 ''Tempestat''_aug4.mid\"), ('Beethoven', \"/content/Beethoven_augmented/Symphony op68 n6 ''Pastorale''_aug2.mid\"), ('Beethoven', '/content/Beethoven_augmented/Symphony n7 2mov_aug3.mid'), ('Beethoven', '/content/Beethoven_augmented/Piano Sonata n30_aug2.mid'), ('Beethoven', '/content/Beethoven_augmented/Sonatina n1 op05_aug2.mid'), ('Beethoven', \"/content/Beethoven_augmented/Overture ''King Stephen''_aug1.mid\"), ('Beethoven', '/content/Beethoven_augmented/Piano Sonatina No.2 Op 49_aug3.mid'), ('Beethoven', '/content/Beethoven_augmented/Piano Concerto n1 op15 2mov_aug3.mid'), ('Beethoven', '/content/Beethoven_augmented/WoO082 Menuet_aug1.mid'), ('Beethoven', '/content/Beethoven_augmented/Sieben Bagatellen, in F Major, Opus.33, No.3_aug0.mid'), ('Beethoven', '/content/Beethoven_augmented/Sieben Bagatellen, in A Major, Opus.33, No.4_aug1.mid'), ('Beethoven', '/content/Beethoven_augmented/Bagatella Fur Elise_aug2.mid'), ('Beethoven', '/content/Beethoven_augmented/String Quartet n2 op18 n2 4mov_aug3.mid'), ('Beethoven', '/content/Beethoven_augmented/WoO083 Six Escotish Dances for Piano_aug2.mid'), ('Beethoven', '/content/Beethoven_augmented/Piano Sonata n19_aug4.mid'), ('Beethoven', \"/content/Beethoven_augmented/Symphony op125 n9 1mov ''Choral''_aug4.mid\"), ('Beethoven', '/content/Beethoven_augmented/op089 Polonaise_aug2.mid'), ('Beethoven', '/content/Beethoven_augmented/Bagatella op33 n1_aug2.mid'), ('Beethoven', '/content/Beethoven_augmented/Anh06 Rondo_aug1.mid'), ('Beethoven', '/content/Beethoven_augmented/Piano Sonata No.27,  3rd mov_aug0.mid'), ('Beethoven', '/content/Beethoven_augmented/Symphony n1 1mov_aug1.mid'), ('Beethoven', \"/content/Beethoven_augmented/Piano Concerto n5 op73 2-3mov ''Emperor''_aug0.mid\"), ('Beethoven', \"/content/Beethoven_augmented/Symphony op68 n6 2mov ''Pastorale''_aug2.mid\"), ('Beethoven', '/content/Beethoven_augmented/Piano Sonata n24_aug4.mid'), ('Beethoven', \"/content/Beethoven_augmented/Piano Concerto n5 op73 1mov ''Emperor''_aug1.mid\"), ('Beethoven', '/content/Beethoven_augmented/Sonatina n1 op05_aug1.mid'), ('Beethoven', \"/content/Beethoven_augmented/Symphony n3 4mov ''Eroica''_aug2.mid\"), ('Beethoven', '/content/Beethoven_augmented/Symphony n4 2mov_aug4.mid'), ('Beethoven', '/content/Beethoven_augmented/Piano Concerto n2 op19 3mov_aug1.mid'), ('Beethoven', '/content/Beethoven_augmented/WoO051 Sonatina 1-2 movs_aug1.mid'), ('Beethoven', \"/content/Beethoven_augmented/Symphony n3 4mov ''Eroica''_aug4.mid\"), ('Beethoven', '/content/Beethoven_augmented/Piano Concerto n1 op15 1mov_aug2.mid'), ('Beethoven', '/content/Beethoven_augmented/Piano Sonata No 28 in B flat -Hammerklavier- Op.106, 2nd Mov Scherzo_aug0.mid'), ('Beethoven', \"/content/Beethoven_augmented/Overture ''Inauguration of the House'' op214_aug1.mid\"), ('Beethoven', '/content/Beethoven_augmented/Piano Sonata n16_aug3.mid'), ('Beethoven', \"/content/Beethoven_augmented/Symphony op68 n6 2mov ''Pastorale''_aug0.mid\"), ('Beethoven', \"/content/Beethoven_augmented/Overture ''King Stephen''_aug2.mid\"), ('Beethoven', '/content/Beethoven_augmented/Piano Sonata n16_aug2.mid'), ('Beethoven', '/content/Beethoven_augmented/Symphony n1 2mov_aug0.mid'), ('Beethoven', '/content/Beethoven_augmented/Hess061 Anglaise_aug1.mid'), ('Beethoven', '/content/Beethoven_augmented/String Quartet n16 op135 3mov_aug4.mid'), ('Beethoven', '/content/Beethoven_augmented/WoO082 Menuet_aug0.mid'), ('Beethoven', '/content/Beethoven_augmented/Symphony op93 n8 4mov_aug2.mid'), ('Beethoven', \"/content/Beethoven_augmented/Symphony op68 n6 3mov ''Pastorale''_aug1.mid\"), ('Beethoven', '/content/Beethoven_augmented/Symphony n7 1mov_aug3.mid'), ('Beethoven', '/content/Beethoven_augmented/Piano Concerto n2 op19 1mov_aug2.mid'), ('Beethoven', '/content/Beethoven_augmented/Symphony n1 3mov_aug3.mid'), ('Beethoven', '/content/Beethoven_augmented/Piano Concerto n2 op19 1mov_aug0.mid'), ('Beethoven', \"/content/Beethoven_augmented/Piano Sonata n23 op57 3mov ''Apassionata''_aug0.mid\"), ('Beethoven', '/content/Beethoven_augmented/op119 Douze Bagatellas_aug3.mid'), ('Beethoven', '/content/Beethoven_augmented/Piano Sonata n30_aug0.mid'), ('Beethoven', '/content/Beethoven_augmented/op126 Six Bagatellas_aug3.mid'), ('Beethoven', '/content/Beethoven_augmented/Symphony n1 1mov_aug4.mid'), ('Beethoven', '/content/Beethoven_augmented/Piano Sonatina in G Op79_aug1.mid'), ('Beethoven', '/content/Beethoven_augmented/Piano Sonata n31 op110_aug0.mid'), ('Beethoven', '/content/Beethoven_augmented/Piano Sonata n31 op110_aug1.mid'), ('Beethoven', '/content/Beethoven_augmented/Sonatina Fa maj woo_aug4.mid'), ('Beethoven', '/content/Beethoven_augmented/Sonata in Bflat Major Op.106_aug1.mid'), ('Beethoven', '/content/Beethoven_augmented/Symphony n4 2mov_aug3.mid'), ('Beethoven', '/content/Beethoven_augmented/Piano Concerto n4 op58 1mov_aug4.mid'), ('Beethoven', '/content/Beethoven_augmented/Piano Sonata n28_aug3.mid'), ('Beethoven', '/content/Beethoven_augmented/String Quartet n16 op135 2mov_aug2.mid'), ('Beethoven', '/content/Beethoven_augmented/Hess073 Bagatella_aug2.mid'), ('Beethoven', \"/content/Beethoven_augmented/Piano Sonata n15 2mov ''Pastoral''_aug2.mid\"), ('Beethoven', '/content/Beethoven_augmented/Sketch for Piano Allegro Giocoso_aug4.mid'), ('Beethoven', '/content/Beethoven_augmented/WoO060 Mouvement Pour Piano_aug4.mid'), ('Beethoven', \"/content/Beethoven_augmented/Piano Sonata n14 op27 3mov ''Moonlight''_aug3.mid\"), ('Beethoven', '/content/Beethoven_augmented/Sketch for Piano Allegro Giocoso_aug1.mid'), ('Beethoven', '/content/Beethoven_augmented/Piano Sonata n07_aug3.mid'), ('Beethoven', \"/content/Beethoven_augmented/Piano Sonata n23 op57 3mov ''Apassionata''_aug3.mid\"), ('Beethoven', '/content/Beethoven_augmented/Piano Sonata n05_aug1.mid'), ('Beethoven', '/content/Beethoven_augmented/Symphony n1 3mov_aug2.mid'), ('Beethoven', \"/content/Beethoven_augmented/Lieder op99 ''Der Mann Von Wort''_aug1.mid\"), ('Beethoven', '/content/Beethoven_augmented/Symphony n4 4mov_aug2.mid'), ('Beethoven', \"/content/Beethoven_augmented/Symphony op125 n9 4mov ''Choral''_aug3.mid\"), ('Beethoven', '/content/Beethoven_augmented/Sonatina In C_aug3.mid'), ('Beethoven', '/content/Beethoven_augmented/Symphony op93 n8 4mov_aug0.mid'), ('Beethoven', '/content/Beethoven_augmented/WoO061a Mouvement Pour Piano_aug2.mid'), ('Beethoven', \"/content/Beethoven_augmented/Piano Sonata n14 op27 2mov ''Moonlight''_aug3.mid\"), ('Beethoven', '/content/Beethoven_augmented/Piano Concerto n2 op19 2mov_aug2.mid'), ('Beethoven', '/content/Beethoven_augmented/Piano Sonata n13_aug4.mid'), ('Beethoven', \"/content/Beethoven_augmented/Piano Sonata n23 op57 2mov ''Apassionata''_aug4.mid\"), ('Beethoven', '/content/Beethoven_augmented/Piano Sonata n03_aug2.mid'), ('Beethoven', '/content/Beethoven_augmented/Sieben Bagatellen, in C Major, Opus.33, No.5_aug0.mid'), ('Beethoven', '/content/Beethoven_augmented/Symphony n2 op36 4mov_aug3.mid'), ('Beethoven', '/content/Beethoven_augmented/Piano Sonata n05_aug2.mid'), ('Beethoven', '/content/Beethoven_augmented/Bagatella op33 n4_aug2.mid'), ('Beethoven', '/content/Beethoven_augmented/Symphony n1 4mov_aug4.mid'), ('Beethoven', '/content/Beethoven_augmented/Symphony n7 2mov_aug2.mid'), ('Beethoven', \"/content/Beethoven_augmented/Lieder op48 n5 ''Gottes Macht Und Vorsehung''_aug4.mid\"), ('Beethoven', '/content/Beethoven_augmented/WoO082 Menuet_aug4.mid'), ('Beethoven', '/content/Beethoven_augmented/Symphony op93 n8 3mov _aug3.mid'), ('Beethoven', '/content/Beethoven_augmented/Hess074 Bagatella_aug3.mid'), ('Beethoven', '/content/Beethoven_augmented/op126 Six Bagatellas_aug1.mid'), ('Beethoven', \"/content/Beethoven_augmented/Lieder op99 ''Der Mann Von Wort''_aug2.mid\"), ('Beethoven', '/content/Beethoven_augmented/Sieben Bagatellen, in C Major, Opus.33, No.5_aug4.mid'), ('Beethoven', '/content/Beethoven_augmented/Piano Sonata n02_aug2.mid'), ('Beethoven', '/content/Beethoven_augmented/Sieben Bagatellen, in A Major, Opus.33, No.4_aug4.mid'), ('Beethoven', '/content/Beethoven_augmented/Piano Sonata n10_aug1.mid')]\n",
            "Beethoven dataset: Feature arrays extracted from 300 files.\n"
          ]
        }
      ],
      "source": [
        "beethoven_feature_arrays, beethoven_label_list, beethoven_file_list = collect_composer_data(\"Beethoven\", beethoven_midi_list)\n",
        "print(f\"Beethoven dataset: Feature arrays extracted from {len(beethoven_feature_arrays)} files.\")"
      ]
    },
    {
      "cell_type": "code",
      "execution_count": 16,
      "metadata": {
        "colab": {
          "base_uri": "https://localhost:8080/"
        },
        "id": "JygHTEicqfiA",
        "outputId": "0af2888c-b855-4d43-f3ae-37da8e8a5fc6"
      },
      "outputs": [
        {
          "name": "stdout",
          "output_type": "stream",
          "text": [
            "[('Chopin', '/content/Chopin_augmented/Mazurka op30 n2 Drchew_aug0.mid'), ('Chopin', '/content/Chopin_augmented/Prelude op.28-15 Raindrop_aug3.mid'), ('Chopin', \"/content/Chopin_augmented/Etude op25 n12 ''The Ocean''_aug4.mid\"), ('Chopin', '/content/Chopin_augmented/Nocturne op09 n3_aug0.mid'), ('Chopin', '/content/Chopin_augmented/Etude No.1_aug0.mid'), ('Chopin', '/content/Chopin_augmented/Scherzo n1 op20_aug5.mid'), ('Chopin', '/content/Chopin_augmented/Nocturne op37 01_aug5.mid'), ('Chopin', '/content/Chopin_augmented/Etude No.7 in C Major Opus.10, No.7_aug1.mid'), ('Chopin', '/content/Chopin_augmented/19 Polish Songs, for Solo Voice and Piano accomplements, No.9_aug3.mid'), ('Chopin', \"/content/Chopin_augmented/Prelude n17 op28 ''Scene On the Place of Notre Dame_aug4.mid\"), ('Chopin', '/content/Chopin_augmented/Nocturne No.18 in E Major Op62_aug5.mid'), ('Chopin', '/content/Chopin_augmented/Sonata op35 n1 _aug3.mid'), ('Chopin', '/content/Chopin_augmented/Mazurka op30 n2 Drchew_aug4.mid'), ('Chopin', '/content/Chopin_augmented/Piano Concerto n2 1mov_aug4.mid'), ('Chopin', \"/content/Chopin_augmented/Prelude n18 op28 ''Suicide''_aug1.mid\"), ('Chopin', '/content/Chopin_augmented/Trois Nouvelles Etudes (Op.posth.)_aug2.mid'), ('Chopin', '/content/Chopin_augmented/Waltz in Ab (Op.posth., Brown21)_aug0.mid'), ('Chopin', '/content/Chopin_augmented/Nocturne No.15 in F Minor Opus.55 -1_aug5.mid'), ('Chopin', '/content/Chopin_augmented/Scherzo No.2, Opus.31_aug2.mid'), ('Chopin', \"/content/Chopin_augmented/Prelude n09 op28 ''Vision''_aug2.mid\"), ('Chopin', '/content/Chopin_augmented/Etude op10 n08_aug1.mid'), ('Chopin', '/content/Chopin_augmented/Etude op10 n01_aug1.mid'), ('Chopin', \"/content/Chopin_augmented/Op.53 'Polonaise in A flat' Heroic_aug2.mid\"), ('Chopin', \"/content/Chopin_augmented/Etude op10 n05 ''Black Key''_aug4.mid\"), ('Chopin', '/content/Chopin_augmented/Piano Concerto n1 op11 3mov_aug0.mid'), ('Chopin', '/content/Chopin_augmented/Etude Op.10 No.11_aug0.mid'), ('Chopin', \"/content/Chopin_augmented/Prelude n06 op28 ''Tolling Bells''_aug5.mid\"), ('Chopin', '/content/Chopin_augmented/Ballad op53_aug4.mid'), ('Chopin', '/content/Chopin_augmented/Impromptu n3 op51_aug4.mid'), ('Chopin', '/content/Chopin_augmented/19 Polish Songs, for Solo Voice and Piano accomplements, No.6_aug2.mid'), ('Chopin', '/content/Chopin_augmented/Etude op25 n05_aug1.mid'), ('Chopin', '/content/Chopin_augmented/19 Polish Songs, for Solo Voice and Piano accomplements, No.14_aug3.mid'), ('Chopin', '/content/Chopin_augmented/19 Polish Songs, for Solo Voice and Piano accomplements, No.7_aug1.mid'), ('Chopin', '/content/Chopin_augmented/Etude No.2 in A Minor_aug4.mid'), ('Chopin', '/content/Chopin_augmented/Nocturne op48 n1_aug2.mid'), ('Chopin', '/content/Chopin_augmented/19 Polish Songs, for Solo Voice and Piano accomplements, No.6_aug5.mid'), ('Chopin', \"/content/Chopin_augmented/Prelude n04 op28 ''Suffocation''_aug2.mid\"), ('Chopin', '/content/Chopin_augmented/Piano Concerto n2 1mov_aug1.mid'), ('Chopin', \"/content/Chopin_augmented/Prelude n06 op28 ''Tolling Bells''_aug0.mid\"), ('Chopin', '/content/Chopin_augmented/19 Polish Songs, for Solo Voice and Piano accomplements, No.19_aug3.mid'), ('Chopin', '/content/Chopin_augmented/Scherzo op31_aug5.mid'), ('Chopin', '/content/Chopin_augmented/Fantasie Impromptu op66_aug4.mid'), ('Chopin', \"/content/Chopin_augmented/Prelude n10 op28 ''The Night Moth''_aug2.mid\"), ('Chopin', '/content/Chopin_augmented/Etude op25 n04_aug0.mid'), ('Chopin', \"/content/Chopin_augmented/Prelude n21 op28 ''Sunday''_aug4.mid\"), ('Chopin', '/content/Chopin_augmented/Prelude op.28-15 Raindrop_aug5.mid'), ('Chopin', \"/content/Chopin_augmented/Prelude n24 op28 ''The Storm''_aug4.mid\"), ('Chopin', '/content/Chopin_augmented/Etude op. 10-5 Black keys_aug2.mid'), ('Chopin', \"/content/Chopin_augmented/Prelude n11 op28 ''Dragonfly''_aug2.mid\"), ('Chopin', '/content/Chopin_augmented/Ballad op53_aug2.mid'), ('Chopin', '/content/Chopin_augmented/2 Polonaises op26 n1_aug5.mid'), ('Chopin', '/content/Chopin_augmented/Waltz in Ab (Op.posth., Brown21)_aug4.mid'), ('Chopin', '/content/Chopin_augmented/Etude No.2 in A Minor_aug5.mid'), ('Chopin', \"/content/Chopin_augmented/Etude op25 n11 ''Winter Wind''_aug2.mid\"), ('Chopin', \"/content/Chopin_augmented/Etude op10 n05 ''Black Key''_aug0.mid\"), ('Chopin', '/content/Chopin_augmented/Mazurka op33 n2 Drchew_aug3.mid'), ('Chopin', \"/content/Chopin_augmented/Etude op10 n12 ''Revolutionary''_aug0.mid\"), ('Chopin', \"/content/Chopin_augmented/Etude op25 n01 ''Harp Etude''_aug5.mid\"), ('Chopin', '/content/Chopin_augmented/Nocturne op33 n4_aug4.mid'), ('Chopin', \"/content/Chopin_augmented/Prelude n20 op28 ''Funeral March''_aug4.mid\"), ('Chopin', '/content/Chopin_augmented/Sonata op35 n4 _aug1.mid'), ('Chopin', '/content/Chopin_augmented/19 Polish Songs, for Solo Voice and Piano accomplements, No.10_aug0.mid'), ('Chopin', '/content/Chopin_augmented/Winter wind etude_aug1.mid'), ('Chopin', \"/content/Chopin_augmented/Op.53 'Polonaise in A flat' Heroic_aug4.mid\"), ('Chopin', '/content/Chopin_augmented/Nocturne op33 n2_aug0.mid'), ('Chopin', '/content/Chopin_augmented/Etude op10 n10_aug1.mid'), ('Chopin', '/content/Chopin_augmented/Mazurka op7 n1_aug0.mid'), ('Chopin', '/content/Chopin_augmented/19 Polish Songs, for Solo Voice and Piano accomplements, No.4_aug0.mid'), ('Chopin', '/content/Chopin_augmented/Waltz op70 n2_aug1.mid'), ('Chopin', '/content/Chopin_augmented/Waltz op64 n1_aug5.mid'), ('Chopin', '/content/Chopin_augmented/19 Polish Songs, for Solo Voice and Piano accomplements, No.8_aug4.mid'), ('Chopin', '/content/Chopin_augmented/Etude op25 n06_aug0.mid'), ('Chopin', '/content/Chopin_augmented/Nocturne op72 n1_aug2.mid'), ('Chopin', '/content/Chopin_augmented/19 Polish Songs, for Solo Voice and Piano accomplements, No.17_aug5.mid'), ('Chopin', \"/content/Chopin_augmented/Prelude n17 op28 ''Scene On the Place of Notre Dame_aug5.mid\"), ('Chopin', \"/content/Chopin_augmented/Prelude n05 op28 ''Uncertainty''_aug5.mid\"), ('Chopin', '/content/Chopin_augmented/Etude op25 n08_aug2.mid'), ('Chopin', '/content/Chopin_augmented/Nocturne op27 n1_aug0.mid'), ('Chopin', '/content/Chopin_augmented/19 Polish Songs, for Solo Voice and Piano accomplements, No.2_aug5.mid'), ('Chopin', \"/content/Chopin_augmented/Prelude n04 op28 ''Suffocation''_aug1.mid\"), ('Chopin', '/content/Chopin_augmented/Etude op10 n08_aug3.mid'), ('Chopin', \"/content/Chopin_augmented/Prelude n04 op28 ''Suffocation''_aug3.mid\"), ('Chopin', \"/content/Chopin_augmented/Etude op25 n01 ''Harp Etude''_aug3.mid\"), ('Chopin', \"/content/Chopin_augmented/Prelude n07 op28 ''The Polish Dance''_aug0.mid\"), ('Chopin', '/content/Chopin_augmented/Etude op25 n03_aug0.mid'), ('Chopin', '/content/Chopin_augmented/Sonata op35 n3 _aug0.mid'), ('Chopin', '/content/Chopin_augmented/Nocturne op32 n1_aug1.mid'), ('Chopin', \"/content/Chopin_augmented/Prelude n18 op28 ''Suicide''_aug4.mid\"), ('Chopin', '/content/Chopin_augmented/Etude op25 n07_aug4.mid'), ('Chopin', '/content/Chopin_augmented/Waltz in Ab (Op.posth., Brown21)_aug2.mid'), ('Chopin', '/content/Chopin_augmented/Etude op10 n06_aug4.mid'), ('Chopin', \"/content/Chopin_augmented/Prelude n12 op28 ''Duel''_aug5.mid\"), ('Chopin', '/content/Chopin_augmented/Fantasie Impromptu op66_aug0.mid'), ('Chopin', '/content/Chopin_augmented/Ballade No.2 in F Major_aug3.mid'), ('Chopin', \"/content/Chopin_augmented/Prelude n02 op28 ''Presentiment of Death''_aug1.mid\"), ('Chopin', \"/content/Chopin_augmented/Prelude n23 op28 ''A Pleasure Boat''_aug4.mid\"), ('Chopin', '/content/Chopin_augmented/19 Polish Songs, for Solo Voice and Piano accomplements, No.6_aug4.mid'), ('Chopin', \"/content/Chopin_augmented/Op.53 'Polonaise in A flat' Heroic_aug3.mid\"), ('Chopin', \"/content/Chopin_augmented/Prelude n03 op28 ''Thou Art So Like A Flower''_aug3.mid\"), ('Chopin', \"/content/Chopin_augmented/Prelude n10 op28 ''The Night Moth''_aug3.mid\"), ('Chopin', '/content/Chopin_augmented/19 Polish Songs, for Solo Voice and Piano accomplements, No.9_aug2.mid'), ('Chopin', '/content/Chopin_augmented/19 Polish Songs, for Solo Voice and Piano accomplements, No.15_aug2.mid'), ('Chopin', '/content/Chopin_augmented/Nocturne op33 n4_aug1.mid'), ('Chopin', '/content/Chopin_augmented/Nocturne op27 n2_aug0.mid'), ('Chopin', '/content/Chopin_augmented/Etude op25 n08_aug5.mid'), ('Chopin', '/content/Chopin_augmented/Barcarolle in F sharp Major_aug1.mid'), ('Chopin', '/content/Chopin_augmented/Etude op. 10-5 Black keys_aug3.mid'), ('Chopin', '/content/Chopin_augmented/Etude op25 n03_aug2.mid'), ('Chopin', '/content/Chopin_augmented/Waltz op64 n1_aug1.mid'), ('Chopin', '/content/Chopin_augmented/Etude op10 n03_aug0.mid'), ('Chopin', '/content/Chopin_augmented/Sonata No.3, 2nd Mov, Scherzo_aug3.mid'), ('Chopin', '/content/Chopin_augmented/Etude Op.10 No.11_aug1.mid'), ('Chopin', '/content/Chopin_augmented/Nocturne op48 n2_aug3.mid'), ('Chopin', \"/content/Chopin_augmented/Prelude n06 op28 ''Tolling Bells''_aug4.mid\"), ('Chopin', '/content/Chopin_augmented/19 Polish Songs, for Solo Voice and Piano accomplements, No.12_aug2.mid'), ('Chopin', '/content/Chopin_augmented/Nocturne No.1, Opus.62_aug3.mid'), ('Chopin', \"/content/Chopin_augmented/Etude op25 n01 ''Harp Etude''_aug0.mid\"), ('Chopin', '/content/Chopin_augmented/Etude op10 n07_aug3.mid'), ('Chopin', '/content/Chopin_augmented/Ballade No.2 in F Major_aug2.mid'), ('Chopin', '/content/Chopin_augmented/Etude Op 25, No.1_aug3.mid'), ('Chopin', '/content/Chopin_augmented/19 Polish Songs, for Solo Voice and Piano accomplements, No.8_aug2.mid'), ('Chopin', \"/content/Chopin_augmented/Prelude n08 op28 ''Desparation''_aug2.mid\"), ('Chopin', '/content/Chopin_augmented/Etude op25 n07_aug5.mid'), ('Chopin', '/content/Chopin_augmented/19 Polish Songs, for Solo Voice and Piano accomplements, No.17_aug0.mid'), ('Chopin', '/content/Chopin_augmented/Nocturne op15 n2_aug1.mid'), ('Chopin', '/content/Chopin_augmented/19 Polish Songs, for Solo Voice and Piano accomplements, No.10_aug2.mid'), ('Chopin', '/content/Chopin_augmented/Nocturne op37 01_aug4.mid'), ('Chopin', '/content/Chopin_augmented/Etude op10 n03_aug2.mid'), ('Chopin', '/content/Chopin_augmented/19 Polish Songs, for Solo Voice and Piano accomplements, No.9_aug1.mid'), ('Chopin', '/content/Chopin_augmented/Etude No.2 in A Minor_aug1.mid'), ('Chopin', '/content/Chopin_augmented/Sonata op35 n3 _aug2.mid'), ('Chopin', '/content/Chopin_augmented/Nocturne No.18 in E Major Op62_aug0.mid'), ('Chopin', \"/content/Chopin_augmented/Prelude n16 op28 ''Hades''_aug2.mid\"), ('Chopin', '/content/Chopin_augmented/19 Polish Songs, for Solo Voice and Piano accomplements, No.9_aug0.mid'), ('Chopin', '/content/Chopin_augmented/Nocturne op27 n2_aug3.mid'), ('Chopin', '/content/Chopin_augmented/Scherzo No.2, Opus.31_aug0.mid'), ('Chopin', '/content/Chopin_augmented/Sonata No.3, 2nd Mov, Scherzo_aug1.mid'), ('Chopin', '/content/Chopin_augmented/Scherzo No.2, Opus.31_aug4.mid'), ('Chopin', \"/content/Chopin_augmented/Prelude n13 op28 ''Loss''_aug1.mid\"), ('Chopin', '/content/Chopin_augmented/Etude op10 n06_aug2.mid'), ('Chopin', '/content/Chopin_augmented/Sonata op35 n1 _aug5.mid'), ('Chopin', '/content/Chopin_augmented/Piano Concerto n2 3mov_aug2.mid'), ('Chopin', \"/content/Chopin_augmented/Etude op10 n05 ''Black Key''_aug3.mid\"), ('Chopin', '/content/Chopin_augmented/19 Polish Songs, for Solo Voice and Piano accomplements, No.14_aug2.mid'), ('Chopin', '/content/Chopin_augmented/Scherzo op31_aug3.mid'), ('Chopin', '/content/Chopin_augmented/19 Polish Songs, for Solo Voice and Piano accomplements, No.3_aug2.mid'), ('Chopin', '/content/Chopin_augmented/Nocturne op15 n2_aug4.mid'), ('Chopin', '/content/Chopin_augmented/Ballade No.2 in F Major_aug0.mid'), ('Chopin', '/content/Chopin_augmented/Fantasie Impromptu op66_aug3.mid'), ('Chopin', '/content/Chopin_augmented/Mazurka op7 n1_aug3.mid'), ('Chopin', '/content/Chopin_augmented/Nocturne op55 n2_aug0.mid'), ('Chopin', '/content/Chopin_augmented/Nocturne op15 n3_aug2.mid'), ('Chopin', '/content/Chopin_augmented/19 Polish Songs, for Solo Voice and Piano accomplements, No.16_aug0.mid'), ('Chopin', '/content/Chopin_augmented/Nocturne op55 n1_aug5.mid'), ('Chopin', '/content/Chopin_augmented/19 Polish Songs, for Solo Voice and Piano accomplements, No.8_aug5.mid'), ('Chopin', '/content/Chopin_augmented/19 Polish Songs, for Solo Voice and Piano accomplements, No.14_aug5.mid'), ('Chopin', \"/content/Chopin_augmented/Prelude n14 op28 ''Fear''_aug2.mid\"), ('Chopin', \"/content/Chopin_augmented/Prelude n24 op28 ''The Storm''_aug0.mid\"), ('Chopin', '/content/Chopin_augmented/Etude op10 n01_aug5.mid'), ('Chopin', '/content/Chopin_augmented/Grande Waltz op18_aug1.mid'), ('Chopin', '/content/Chopin_augmented/Nocturne op37 n2_aug0.mid'), ('Chopin', \"/content/Chopin_augmented/Prelude n03 op28 ''Thou Art So Like A Flower''_aug2.mid\"), ('Chopin', '/content/Chopin_augmented/Mazurka op33 n2 Drchew_aug4.mid'), ('Chopin', \"/content/Chopin_augmented/Prelude n16 op28 ''Hades''_aug0.mid\"), ('Chopin', '/content/Chopin_augmented/Etude op10 n11_aug0.mid'), ('Chopin', '/content/Chopin_augmented/Ballad op53_aug0.mid'), ('Chopin', '/content/Chopin_augmented/Etude op10 n09_aug3.mid'), ('Chopin', \"/content/Chopin_augmented/Prelude n10 op28 ''The Night Moth''_aug5.mid\"), ('Chopin', '/content/Chopin_augmented/Nocturne No.15 in F Minor Opus.55 -1_aug3.mid'), ('Chopin', '/content/Chopin_augmented/19 Polish Songs, for Solo Voice and Piano accomplements, No.16_aug2.mid'), ('Chopin', \"/content/Chopin_augmented/Prelude n15 op28 ''Raindrop''_aug2.mid\"), ('Chopin', '/content/Chopin_augmented/Etude No.2 in A Minor_aug0.mid'), ('Chopin', '/content/Chopin_augmented/Nocturne No.18 in E Major Op62_aug1.mid'), ('Chopin', '/content/Chopin_augmented/19 Polish Songs, for Solo Voice and Piano accomplements, No.11_aug5.mid'), ('Chopin', '/content/Chopin_augmented/Etude Op 25, No.1_aug2.mid'), ('Chopin', '/content/Chopin_augmented/Ballad op32_aug0.mid'), ('Chopin', '/content/Chopin_augmented/Revolutionary_aug1.mid'), ('Chopin', '/content/Chopin_augmented/Etude op25 n03_aug3.mid'), ('Chopin', '/content/Chopin_augmented/Piano Concerto n1 op11 3mov_aug4.mid'), ('Chopin', \"/content/Chopin_augmented/Etude op10 n12 ''Revolutionary''_aug3.mid\"), ('Chopin', \"/content/Chopin_augmented/Etude op25 n12 ''The Ocean''_aug1.mid\"), ('Chopin', '/content/Chopin_augmented/Ecossaise No.2 in G_aug0.mid'), ('Chopin', '/content/Chopin_augmented/19 Polish Songs, for Solo Voice and Piano accomplements, No.4_aug5.mid'), ('Chopin', '/content/Chopin_augmented/Etude op. 10-5 Black keys_aug4.mid'), ('Chopin', '/content/Chopin_augmented/2 Polonaises op26 n1_aug4.mid'), ('Chopin', '/content/Chopin_augmented/Finale to B Minor Paino Sonata_aug0.mid'), ('Chopin', '/content/Chopin_augmented/19 Polish Songs, for Solo Voice and Piano accomplements, No.4_aug1.mid'), ('Chopin', '/content/Chopin_augmented/Sonata op35 n1 _aug0.mid'), ('Chopin', '/content/Chopin_augmented/Etude No.7 in C Major Opus.10, No.7_aug3.mid'), ('Chopin', '/content/Chopin_augmented/Piano Concerto n2 1mov_aug2.mid'), ('Chopin', \"/content/Chopin_augmented/Prelude n02 op28 ''Presentiment of Death''_aug3.mid\"), ('Chopin', '/content/Chopin_augmented/Etude op10 n07_aug2.mid'), ('Chopin', '/content/Chopin_augmented/Polonaise Opus.40, No.1 (Military)_aug5.mid'), ('Chopin', \"/content/Chopin_augmented/Prelude n03 op28 ''Thou Art So Like A Flower''_aug1.mid\"), ('Chopin', \"/content/Chopin_augmented/Prelude n20 op28 ''Funeral March''_aug3.mid\"), ('Chopin', '/content/Chopin_augmented/Etude op10 n02_aug4.mid'), ('Chopin', '/content/Chopin_augmented/Nocturne op55 n2_aug3.mid'), ('Chopin', \"/content/Chopin_augmented/Prelude n15 op28 ''Raindrop''_aug0.mid\"), ('Chopin', '/content/Chopin_augmented/Etude op25 n05_aug3.mid'), ('Chopin', '/content/Chopin_augmented/Nocturne op27 n1_aug1.mid'), ('Chopin', '/content/Chopin_augmented/Piano Concerto n2 2mov_aug0.mid'), ('Chopin', '/content/Chopin_augmented/Etude op25 n06_aug4.mid'), ('Chopin', '/content/Chopin_augmented/Sonata No.3 1st Mov Allegro_aug1.mid'), ('Chopin', '/content/Chopin_augmented/Nocturne op62 n2_aug4.mid'), ('Chopin', '/content/Chopin_augmented/Mazurka op7 n2_aug2.mid'), ('Chopin', \"/content/Chopin_augmented/Prelude n03 op28 ''Thou Art So Like A Flower''_aug4.mid\"), ('Chopin', '/content/Chopin_augmented/19 Polish Songs, for Solo Voice and Piano accomplements, No.19_aug0.mid'), ('Chopin', '/content/Chopin_augmented/19 Polish Songs, for Solo Voice and Piano accomplements, No.13_aug1.mid'), ('Chopin', '/content/Chopin_augmented/Etude op10 n02_aug1.mid'), ('Chopin', '/content/Chopin_augmented/Finale to B Minor Paino Sonata_aug2.mid'), ('Chopin', '/content/Chopin_augmented/19 Polish Songs, for Solo Voice and Piano accomplements, No.2_aug3.mid'), ('Chopin', '/content/Chopin_augmented/Mazurka op33 n2 Drchew_aug5.mid'), ('Chopin', '/content/Chopin_augmented/Grande Waltz op18_aug4.mid'), ('Chopin', '/content/Chopin_augmented/Etude Op 25, No.1_aug5.mid'), ('Chopin', '/content/Chopin_augmented/19 Polish Songs, for Solo Voice and Piano accomplements, No.9_aug5.mid'), ('Chopin', '/content/Chopin_augmented/Etude op10 n04 Drchew_aug0.mid'), ('Chopin', \"/content/Chopin_augmented/Prelude n01 op28 ''Reunion''_aug4.mid\"), ('Chopin', '/content/Chopin_augmented/Mazurka op68 n2 Drchew_aug3.mid'), ('Chopin', '/content/Chopin_augmented/Etude op10 n01_aug3.mid'), ('Chopin', '/content/Chopin_augmented/19 Polish Songs, for Solo Voice and Piano accomplements, No.8_aug1.mid'), ('Chopin', \"/content/Chopin_augmented/Etude op25 n01 ''Harp Etude''_aug2.mid\"), ('Chopin', '/content/Chopin_augmented/Sonata op35 n1 _aug1.mid'), ('Chopin', '/content/Chopin_augmented/Sonata op35 n4 _aug3.mid'), ('Chopin', \"/content/Chopin_augmented/Prelude n16 op28 ''Hades''_aug5.mid\"), ('Chopin', \"/content/Chopin_augmented/Prelude n20 op28 ''Funeral March''_aug1.mid\"), ('Chopin', '/content/Chopin_augmented/(2542)Prelude opus.28, No.16 in B flat minor_aug1.mid'), ('Chopin', '/content/Chopin_augmented/19 Polish Songs, for Solo Voice and Piano accomplements, No.11_aug4.mid'), ('Chopin', '/content/Chopin_augmented/Prelude n19 op28_aug5.mid'), ('Chopin', '/content/Chopin_augmented/Etude No.2 in A Minor_aug2.mid'), ('Chopin', \"/content/Chopin_augmented/Prelude n21 op28 ''Sunday''_aug5.mid\"), ('Chopin', '/content/Chopin_augmented/Etude op10 n01_aug2.mid'), ('Chopin', '/content/Chopin_augmented/19 Polish Songs, for Solo Voice and Piano accomplements, No.17_aug4.mid'), ('Chopin', \"/content/Chopin_augmented/Etude op10 n12 ''Revolutionary''_aug2.mid\"), ('Chopin', '/content/Chopin_augmented/Etude op25 n02_aug2.mid'), ('Chopin', \"/content/Chopin_augmented/Prelude n11 op28 ''Dragonfly''_aug1.mid\"), ('Chopin', '/content/Chopin_augmented/Etude No.1_aug1.mid'), ('Chopin', '/content/Chopin_augmented/Nocturne op15 n3_aug3.mid'), ('Chopin', \"/content/Chopin_augmented/Prelude n13 op28 ''Loss''_aug3.mid\"), ('Chopin', '/content/Chopin_augmented/Etude op10 n01_aug0.mid'), ('Chopin', '/content/Chopin_augmented/Nocturne op37 01_aug2.mid'), ('Chopin', '/content/Chopin_augmented/Ballad op53_aug5.mid'), ('Chopin', '/content/Chopin_augmented/Sonata op35 n2 _aug0.mid'), ('Chopin', \"/content/Chopin_augmented/Prelude n15 op28 ''Raindrop''_aug1.mid\"), ('Chopin', '/content/Chopin_augmented/Nocturne No.15 in F Minor Opus.55 -1_aug4.mid'), ('Chopin', '/content/Chopin_augmented/Nocturne op32 n1_aug2.mid'), ('Chopin', '/content/Chopin_augmented/Sonata op35 n4 _aug4.mid'), ('Chopin', '/content/Chopin_augmented/Etude op25 n03_aug1.mid'), ('Chopin', \"/content/Chopin_augmented/Prelude n22 op28 ''Impatience''_aug4.mid\"), ('Chopin', '/content/Chopin_augmented/Etude op10 n09_aug4.mid'), ('Chopin', '/content/Chopin_augmented/Nocturne op37 01_aug0.mid'), ('Chopin', '/content/Chopin_augmented/Nocturne op55 n2_aug1.mid'), ('Chopin', '/content/Chopin_augmented/19 Polish Songs, for Solo Voice and Piano accomplements, No.3_aug4.mid'), ('Chopin', '/content/Chopin_augmented/19 Polish Songs, for Solo Voice and Piano accomplements, No.3_aug5.mid'), ('Chopin', '/content/Chopin_augmented/Etude op25 n09_aug0.mid'), ('Chopin', '/content/Chopin_augmented/Nocturne op09 n2_aug3.mid'), ('Chopin', '/content/Chopin_augmented/Nocturne op48 n1_aug5.mid'), ('Chopin', '/content/Chopin_augmented/Prelude n19 op28_aug4.mid'), ('Chopin', '/content/Chopin_augmented/Sonata No.3 1st Mov Allegro_aug4.mid'), ('Chopin', \"/content/Chopin_augmented/Prelude n14 op28 ''Fear''_aug5.mid\"), ('Chopin', '/content/Chopin_augmented/Etude op25 n07_aug1.mid'), ('Chopin', \"/content/Chopin_augmented/Prelude n14 op28 ''Fear''_aug4.mid\"), ('Chopin', '/content/Chopin_augmented/19 Polish Songs, for Solo Voice and Piano accomplements, No.12_aug3.mid'), ('Chopin', '/content/Chopin_augmented/Nocturne op55 n2_aug4.mid'), ('Chopin', '/content/Chopin_augmented/Nocturne op09 n3_aug4.mid'), ('Chopin', '/content/Chopin_augmented/Etude op25 n10_aug5.mid'), ('Chopin', \"/content/Chopin_augmented/Etude op10 n12 ''Revolutionary''_aug1.mid\"), ('Chopin', '/content/Chopin_augmented/Sonata op35 n2 _aug5.mid'), ('Chopin', '/content/Chopin_augmented/Waltz op64 n1_aug4.mid'), ('Chopin', '/content/Chopin_augmented/Nocturne op27 n1_aug5.mid'), ('Chopin', '/content/Chopin_augmented/Etude op10 n04 Drchew_aug1.mid'), ('Chopin', \"/content/Chopin_augmented/Prelude n08 op28 ''Desparation''_aug5.mid\"), ('Chopin', \"/content/Chopin_augmented/Prelude n08 op28 ''Desparation''_aug4.mid\"), ('Chopin', '/content/Chopin_augmented/Etude No.1_aug3.mid'), ('Chopin', '/content/Chopin_augmented/Etude op25 n07_aug0.mid'), ('Chopin', '/content/Chopin_augmented/Nocturne op15 n2_aug3.mid'), ('Chopin', '/content/Chopin_augmented/Mazurka op30 n2 Drchew_aug2.mid'), ('Chopin', '/content/Chopin_augmented/19 Polish Songs, for Solo Voice and Piano accomplements, No.5_aug5.mid'), ('Chopin', '/content/Chopin_augmented/Sonata No.3 1st Mov Allegro_aug2.mid'), ('Chopin', '/content/Chopin_augmented/19 Polish Songs, for Solo Voice and Piano accomplements, No.11_aug2.mid'), ('Chopin', '/content/Chopin_augmented/19 Polish Songs, for Solo Voice and Piano accomplements, No.18_aug0.mid'), ('Chopin', '/content/Chopin_augmented/19 Polish Songs, for Solo Voice and Piano accomplements, No.11_aug1.mid'), ('Chopin', '/content/Chopin_augmented/Fantasie Impromptu op66_aug1.mid'), ('Chopin', '/content/Chopin_augmented/Revolutionary_aug0.mid'), ('Chopin', '/content/Chopin_augmented/Etude op10 n02_aug5.mid'), ('Chopin', '/content/Chopin_augmented/Tarantella_aug4.mid'), ('Chopin', '/content/Chopin_augmented/Nocturne op15 n3_aug0.mid'), ('Chopin', '/content/Chopin_augmented/Nocturne op15 n2_aug2.mid'), ('Chopin', \"/content/Chopin_augmented/Prelude n24 op28 ''The Storm''_aug5.mid\"), ('Chopin', '/content/Chopin_augmented/Nocturne op32 n2_aug1.mid'), ('Chopin', '/content/Chopin_augmented/19 Polish Songs, for Solo Voice and Piano accomplements, No.6_aug3.mid'), ('Chopin', '/content/Chopin_augmented/Etude No.7 in C Major Opus.10, No.7_aug0.mid'), ('Chopin', '/content/Chopin_augmented/Etude op10 n06_aug3.mid'), ('Chopin', '/content/Chopin_augmented/19 Polish Songs, for Solo Voice and Piano accomplements, No.18_aug2.mid'), ('Chopin', '/content/Chopin_augmented/Etude No.1_aug4.mid'), ('Chopin', \"/content/Chopin_augmented/Prelude n22 op28 ''Impatience''_aug5.mid\"), ('Chopin', \"/content/Chopin_augmented/Prelude n01 op28 ''Reunion''_aug3.mid\"), ('Chopin', \"/content/Chopin_augmented/Prelude n05 op28 ''Uncertainty''_aug3.mid\"), ('Chopin', '/content/Chopin_augmented/Sonata No.3 1st Mov Allegro_aug5.mid'), ('Chopin', '/content/Chopin_augmented/Mazurka op7 n2_aug0.mid'), ('Chopin', \"/content/Chopin_augmented/Etude op25 n11 ''Winter Wind''_aug1.mid\")]\n",
            "Chopin dataset: Feature arrays extracted from 300 files.\n"
          ]
        }
      ],
      "source": [
        "chopin_feature_arrays, chopin_label_list, chopin_file_list = collect_composer_data(\"Chopin\", chopin_midi_list)\n",
        "print(f\"Chopin dataset: Feature arrays extracted from {len(chopin_feature_arrays)} files.\")"
      ]
    },
    {
      "cell_type": "code",
      "execution_count": null,
      "metadata": {
        "colab": {
          "base_uri": "https://localhost:8080/"
        },
        "id": "zIFgU2X7DepX",
        "outputId": "03cfd999-76c4-43f4-bdb4-1e377bfa0710"
      },
      "outputs": [
        {
          "name": "stdout",
          "output_type": "stream",
          "text": [
            "[('Mozart', '/content/Mozart_augmented/Symphony n25 K183 4mov_aug1.mid'), ('Mozart', \"/content/Mozart_augmented/Vesperae solemnes de confessore ''Vespers'' K339 1 Dixit Dominus_aug1.mid\"), ('Mozart', '/content/Mozart_augmented/K191 Bassoon Concerto 2mov_aug0.mid'), ('Mozart', '/content/Mozart_augmented/K333 Piano Sonata n13 3mov_aug3.mid'), ('Mozart', '/content/Mozart_augmented/Early Pieces n20 Presto_aug0.mid'), ('Mozart', '/content/Mozart_augmented/K546 Adagio & Fugue for Strings_aug2.mid'), ('Mozart', \"/content/Mozart_augmented/Symphony n41 K551 1mov ''Jupiter''_aug3.mid\"), ('Mozart', '/content/Mozart_augmented/Symphony n37 K444 1mov_aug1.mid'), ('Mozart', '/content/Mozart_augmented/Early Pieces n16 Minuet_aug1.mid'), ('Mozart', '/content/Mozart_augmented/Piano Sonata n11 K331_aug3.mid'), ('Mozart', \"/content/Mozart_augmented/K525 Serenade 3mov ''Eine Kleine Natchmusik''_aug2.mid\"), ('Mozart', '/content/Mozart_augmented/Piano Concerto n24 K491 3mov_aug3.mid'), ('Mozart', '/content/Mozart_augmented/Early Pieces n2 Minuet_aug3.mid'), ('Mozart', '/content/Mozart_augmented/Sonatina n21 3mov_aug1.mid'), ('Mozart', '/content/Mozart_augmented/K381 Piano Sonata 4 Hands_aug2.mid'), ('Mozart', '/content/Mozart_augmented/K393 Solfeggi n3_aug1.mid'), ('Mozart', '/content/Mozart_augmented/Sonatina n21 3mov_aug0.mid'), ('Mozart', \"/content/Mozart_augmented/Symphony n35 K385 3mov ''Haffner''_aug3.mid\"), ('Mozart', '/content/Mozart_augmented/K626 Requiem kyrie_aug1.mid'), ('Mozart', \"/content/Mozart_augmented/Piano Concerto n7 for 3 Pianos K242 2mov ''Lodron''_aug1.mid\"), ('Mozart', '/content/Mozart_augmented/Piano Concerto n14 K449 2mov_aug0.mid'), ('Mozart', '/content/Mozart_augmented/K361 Serenade n10 3mov_aug0.mid'), ('Mozart', '/content/Mozart_augmented/Piano Concerto n20 K466 1mov_aug2.mid'), ('Mozart', '/content/Mozart_augmented/Symphony n39 K543 4mov_aug2.mid'), ('Mozart', '/content/Mozart_augmented/Piano Concerto n24 K491 2mov_aug3.mid'), ('Mozart', '/content/Mozart_augmented/Viennese Sonatinas K439b n2 1mov_aug3.mid'), ('Mozart', '/content/Mozart_augmented/K299 Flute Harp Concerto 1mov_aug0.mid'), ('Mozart', '/content/Mozart_augmented/K136 Divertimento 1mov_aug0.mid'), ('Mozart', '/content/Mozart_augmented/Early Pieces n16 Minuet_aug2.mid'), ('Mozart', \"/content/Mozart_augmented/Piano Concerto n21 K467 3mov ''Elvira Madigan''_aug1.mid\"), ('Mozart', \"/content/Mozart_augmented/Symphony n31 K297 2mov ''Paris''_aug0.mid\"), ('Mozart', '/content/Mozart_augmented/K570 Piano Sonata 3mov_aug2.mid'), ('Mozart', '/content/Mozart_augmented/Piano Sonata n10 K330_aug3.mid'), ('Mozart', '/content/Mozart_augmented/K617 Adagio_aug2.mid'), ('Mozart', '/content/Mozart_augmented/Contradance n1_aug1.mid'), ('Mozart', \"/content/Mozart_augmented/Symphony n41 K551 2mov ''Jupiter''_aug2.mid\"), ('Mozart', '/content/Mozart_augmented/K626 Requiem 09 hostias_aug2.mid'), ('Mozart', '/content/Mozart_augmented/Sonatina n22 4mov_aug2.mid'), ('Mozart', '/content/Mozart_augmented/K570 Piano Sonata 2mov_aug3.mid'), ('Mozart', '/content/Mozart_augmented/K280 Piano sonata n02 3mov_aug1.mid'), ('Mozart', '/content/Mozart_augmented/K02 Minuet in F_aug0.mid'), ('Mozart', '/content/Mozart_augmented/Piano Concerto n25 K503 1mov_aug3.mid'), ('Mozart', '/content/Mozart_augmented/K576 Piano Sonata n19 _aug2.mid'), ('Mozart', '/content/Mozart_augmented/Early Pieces n5 Country Dance_aug3.mid'), ('Mozart', \"/content/Mozart_augmented/Piano Concerto n18 K456 1mov ''Paradis''_aug2.mid\"), ('Mozart', \"/content/Mozart_augmented/Piano Concerto n26 K537 1mov ''Coronation''_aug0.mid\"), ('Mozart', '/content/Mozart_augmented/Early Pieces n6 Llittle minuet_aug2.mid'), ('Mozart', '/content/Mozart_augmented/Symphony n34 K338 2mov_aug1.mid'), ('Mozart', '/content/Mozart_augmented/K393 Solfeggi n4_aug2.mid'), ('Mozart', '/content/Mozart_augmented/Piano Concerto n8 K246 1mov_aug3.mid'), ('Mozart', \"/content/Mozart_augmented/K398 Piano Variations ''Salve Tu Domine''_aug3.mid\"), ('Mozart', '/content/Mozart_augmented/K608 Fantasia for Mechanical Organ_aug2.mid'), ('Mozart', '/content/Mozart_augmented/K191 Bassoon Concerto 3mov_aug1.mid'), ('Mozart', '/content/Mozart_augmented/Piano Concerto n16 K451 3mov_aug0.mid'), ('Mozart', '/content/Mozart_augmented/Viennese Sonatinas K439b n6 1mov_aug3.mid'), ('Mozart', '/content/Mozart_augmented/Symphony n28 K200 1mov_aug0.mid'), ('Mozart', '/content/Mozart_augmented/Piano Sonata n03 K281_aug3.mid'), ('Mozart', '/content/Mozart_augmented/K330 Piano Sonata n10 3mov_aug3.mid'), ('Mozart', '/content/Mozart_augmented/Symphony n25 K183 3mov_aug2.mid'), ('Mozart', '/content/Mozart_augmented/K576 Piano Sonata n19 _aug1.mid'), ('Mozart', '/content/Mozart_augmented/K626 Requiem 04 Dies Irae_aug2.mid'), ('Mozart', '/content/Mozart_augmented/Early Pieces n7 Country dance_aug2.mid'), ('Mozart', '/content/Mozart_augmented/Early Pieces n8 Minuet_aug1.mid'), ('Mozart', '/content/Mozart_augmented/Symphony n28 K200 3mov_aug1.mid'), ('Mozart', '/content/Mozart_augmented/K626 Requiem 03 tuba mirum_aug0.mid'), ('Mozart', \"/content/Mozart_augmented/Piano Concerto n26 K537 1mov ''Coronation''_aug1.mid\"), ('Mozart', '/content/Mozart_augmented/Another piece for Piano,K.176_aug3.mid'), ('Mozart', \"/content/Mozart_augmented/K354 Piano Variations ''Je Suis Lindor''_aug1.mid\"), ('Mozart', '/content/Mozart_augmented/K280 Piano sonata n02 2mov_aug1.mid'), ('Mozart', \"/content/Mozart_augmented/Symphony n31 K297 2mov ''Paris''_aug3.mid\"), ('Mozart', '/content/Mozart_augmented/K332 Piano Sonata n12 3mov_aug0.mid'), ('Mozart', '/content/Mozart_augmented/Symphony n40 K550 3mov_aug3.mid'), ('Mozart', '/content/Mozart_augmented/Viennese Sonatinas K439b n2 3mov_aug1.mid'), ('Mozart', '/content/Mozart_augmented/K279 Piano sonata n01 3mov_aug0.mid'), ('Mozart', '/content/Mozart_augmented/Early Pieces n2 Minuet_aug1.mid'), ('Mozart', '/content/Mozart_augmented/Symphony n34 K338 3mov_aug2.mid'), ('Mozart', '/content/Mozart_augmented/Viennese Sonatinas K439b n6 1mov_aug1.mid'), ('Mozart', '/content/Mozart_augmented/K501 Andante with 5 Variations for Piano Duet_aug2.mid'), ('Mozart', '/content/Mozart_augmented/Piano Sonata n01 K279_aug3.mid'), ('Mozart', \"/content/Mozart_augmented/Symphony n41 K551 1mov ''Jupiter''_aug1.mid\"), ('Mozart', '/content/Mozart_augmented/K495 Horn Concerto n4 2mov_aug0.mid'), ('Mozart', '/content/Mozart_augmented/Piano Sonata n06 K284_aug0.mid'), ('Mozart', '/content/Mozart_augmented/Piano Concerto n25 K503 1mov_aug1.mid'), ('Mozart', '/content/Mozart_augmented/K04 Minuet in F_aug1.mid'), ('Mozart', '/content/Mozart_augmented/K04 Minuet in F_aug3.mid'), ('Mozart', '/content/Mozart_augmented/Piano Sonata n12 K332_aug2.mid'), ('Mozart', '/content/Mozart_augmented/K281 Piano Sonata n03 2mov_aug2.mid'), ('Mozart', \"/content/Mozart_augmented/Symphony n41 K551 4mov ''Jupiter''_aug2.mid\"), ('Mozart', '/content/Mozart_augmented/Sonatina n3 1mov_aug1.mid'), ('Mozart', '/content/Mozart_augmented/K02 Minuet in F_aug2.mid'), ('Mozart', '/content/Mozart_augmented/K332 Piano Sonata n12 2mov_aug1.mid'), ('Mozart', '/content/Mozart_augmented/K03 Allegro in Bb_aug3.mid'), ('Mozart', '/content/Mozart_augmented/Symphony n34 K338 1mov_aug0.mid'), ('Mozart', '/content/Mozart_augmented/K136 Divertimento 2mov_aug1.mid'), ('Mozart', \"/content/Mozart_augmented/Symphony n36 K425 1mov ''Linz''_aug3.mid\"), ('Mozart', '/content/Mozart_augmented/K299 Flute Harp Concerto 2mov_aug0.mid'), ('Mozart', '/content/Mozart_augmented/Early Pieces n18 Little Song_aug3.mid'), ('Mozart', '/content/Mozart_augmented/K626 Requiem 02 rextremendae_aug2.mid'), ('Mozart', '/content/Mozart_augmented/K280 Piano sonata n02 3mov_aug3.mid'), ('Mozart', '/content/Mozart_augmented/Piano Concerto n16 K451 1mov_aug0.mid'), ('Mozart', '/content/Mozart_augmented/Symphony n28 K200 4mov_aug0.mid'), ('Mozart', '/content/Mozart_augmented/Symphony n22 K162 3mov_aug0.mid'), ('Mozart', \"/content/Mozart_augmented/K525 Serenade 4mov ''Eine Kleine Natchmusik''_aug1.mid\"), ('Mozart', '/content/Mozart_augmented/Early Pieces n1 Andante_aug0.mid'), ('Mozart', '/content/Mozart_augmented/K357 Piano Sonata 4 Hands_aug1.mid'), ('Mozart', '/content/Mozart_augmented/K622 Clarinet Concerto 2mov_aug0.mid'), ('Mozart', '/content/Mozart_augmented/K309 Piano Sonata n10 2mov_aug3.mid'), ('Mozart', '/content/Mozart_augmented/K570 Piano Sonata 2mov_aug2.mid'), ('Mozart', \"/content/Mozart_augmented/Symphony n38 K504 3mov ''Prague''_aug1.mid\"), ('Mozart', '/content/Mozart_augmented/K626 Requiem 06 confutatis_aug3.mid'), ('Mozart', '/content/Mozart_augmented/Early Pieces n8 Minuet_aug3.mid'), ('Mozart', '/content/Mozart_augmented/Early Pieces n10 Air_aug0.mid'), ('Mozart', '/content/Mozart_augmented/K622 Clarinet Concerto 1mov_aug1.mid'), ('Mozart', '/content/Mozart_augmented/K393 Solfeggi n2_aug0.mid'), ('Mozart', '/content/Mozart_augmented/K626 Requiem 02 rextremendae_aug3.mid'), ('Mozart', '/content/Mozart_augmented/Symphony n4 K19 3mov_aug1.mid'), ('Mozart', '/content/Mozart_augmented/K626 Requiem 12 agnus dei_aug3.mid'), ('Mozart', '/content/Mozart_augmented/Piano Sonata n01 K279_aug2.mid'), ('Mozart', '/content/Mozart_augmented/K401 Fuga in G minor _aug0.mid'), ('Mozart', '/content/Mozart_augmented/Piano Sonata n12 K332_aug3.mid'), ('Mozart', '/content/Mozart_augmented/K339 Vesperae solemnes de confessore (Vespers) 1mov Dixit Dominus_aug2.mid'), ('Mozart', '/content/Mozart_augmented/Symphony n22 K162 1mov_aug2.mid'), ('Mozart', '/content/Mozart_augmented/Symphony n25 K183 3mov_aug0.mid'), ('Mozart', '/content/Mozart_augmented/K284 Piano Sonata n06 _aug3.mid'), ('Mozart', '/content/Mozart_augmented/Piano Concerto n12 K414 3mov_aug2.mid'), ('Mozart', '/content/Mozart_augmented/Early Pieces n10 Air_aug2.mid'), ('Mozart', '/content/Mozart_augmented/Early Pieces n3 Little march_aug1.mid'), ('Mozart', '/content/Mozart_augmented/K299 Flute Harp Concerto 1mov_aug1.mid'), ('Mozart', '/content/Mozart_augmented/Sonatina n21 3mov_aug3.mid'), ('Mozart', '/content/Mozart_augmented/K19d Piano Sonata Duet_aug3.mid'), ('Mozart', '/content/Mozart_augmented/K281 Piano Sonata n03 1mov_aug0.mid'), ('Mozart', '/content/Mozart_augmented/Piano Concerto n6 K238 1mov_aug0.mid'), ('Mozart', '/content/Mozart_augmented/Piano Concerto n8 K246 1mov_aug1.mid'), ('Mozart', '/content/Mozart_augmented/Symphony n25 K183 1mov_aug0.mid'), ('Mozart', '/content/Mozart_augmented/K279 Piano sonata n01 3mov_aug2.mid'), ('Mozart', '/content/Mozart_augmented/K191 Bassoon Concerto 1mov_aug3.mid'), ('Mozart', '/content/Mozart_augmented/K03 Allegro in Bb_aug1.mid'), ('Mozart', '/content/Mozart_augmented/Symphony n22 K162 1mov_aug3.mid'), ('Mozart', '/content/Mozart_augmented/K19d Piano Sonata Duet_aug1.mid'), ('Mozart', '/content/Mozart_augmented/Viennese Sonatinas K439b n2 2mov_aug3.mid'), ('Mozart', '/content/Mozart_augmented/K317 Coronation Mass 4mov_aug0.mid'), ('Mozart', \"/content/Mozart_augmented/Piano Concerto n26 K537 3mov ''Coronation''_aug3.mid\"), ('Mozart', '/content/Mozart_augmented/Rondo_aug3.mid'), ('Mozart', '/content/Mozart_augmented/Piano Concerto n16 K451 3mov_aug1.mid'), ('Mozart', '/content/Mozart_augmented/K136 Divertimento 2mov_aug2.mid'), ('Mozart', \"/content/Mozart_augmented/Symphony n41 K551 3mov ''Jupiter''_aug0.mid\"), ('Mozart', \"/content/Mozart_augmented/Piano Concerto n21 K467 3mov ''Elvira Madigan''_aug3.mid\"), ('Mozart', '/content/Mozart_augmented/K626 Requiem 03 tuba mirum_aug3.mid'), ('Mozart', '/content/Mozart_augmented/Fantasia in C K.475_aug0.mid'), ('Mozart', \"/content/Mozart_augmented/Symphony n35 K385 4mov ''Haffner''_aug3.mid\"), ('Mozart', '/content/Mozart_augmented/Early Pieces n19 Giga_aug2.mid'), ('Mozart', '/content/Mozart_augmented/Piano Concerto n23 K488 2mov_aug1.mid'), ('Mozart', '/content/Mozart_augmented/Early Pieces n1 Andante_aug3.mid'), ('Mozart', '/content/Mozart_augmented/K626 Requiem 07 Lacrimosa_aug2.mid'), ('Mozart', '/content/Mozart_augmented/Viennese Sonatinas K439b n6 2mov_aug2.mid'), ('Mozart', \"/content/Mozart_augmented/Symphony n38 K504 1mov ''Prague''_aug2.mid\"), ('Mozart', '/content/Mozart_augmented/Piano Concerto n25 K503 1mov_aug2.mid'), ('Mozart', '/content/Mozart_augmented/K284 Piano Sonata n06 _aug0.mid'), ('Mozart', '/content/Mozart_augmented/A piece for Piano,K.176_aug1.mid'), ('Mozart', '/content/Mozart_augmented/Symphony n22 K162 3mov_aug1.mid'), ('Mozart', \"/content/Mozart_augmented/Symphony n41 K551 2mov ''Jupiter''_aug1.mid\"), ('Mozart', '/content/Mozart_augmented/Early Pieces n12 Rondino_aug2.mid'), ('Mozart', '/content/Mozart_augmented/K594 Adagio & Allegro for Mechanical Organ_aug1.mid'), ('Mozart', '/content/Mozart_augmented/K317 Coronation Mass 5mov_aug1.mid'), ('Mozart', '/content/Mozart_augmented/K333 Piano Sonata n13 3mov_aug2.mid'), ('Mozart', \"/content/Mozart_augmented/Piano Concerto n18 K456 3mov ''Paradis''_aug3.mid\"), ('Mozart', \"/content/Mozart_augmented/Piano Concerto n26 K537 2mov ''Coronation''_aug2.mid\"), ('Mozart', '/content/Mozart_augmented/K279 Piano sonata n01 2mov_aug0.mid'), ('Mozart', '/content/Mozart_augmented/K573 9 Variations for Piano Uber Duport_aug1.mid'), ('Mozart', '/content/Mozart_augmented/K622 Clarinet Concerto 3mov_aug1.mid'), ('Mozart', '/content/Mozart_augmented/K393 Solfeggi n3_aug3.mid'), ('Mozart', '/content/Mozart_augmented/K576 Piano Sonata n19 _aug3.mid'), ('Mozart', '/content/Mozart_augmented/Symphony n30 K202 3mov_aug2.mid'), ('Mozart', '/content/Mozart_augmented/Symphony n28 K200 4mov_aug2.mid'), ('Mozart', '/content/Mozart_augmented/Piano Concerto n14 K449 3mov_aug1.mid'), ('Mozart', '/content/Mozart_augmented/K608 Fantasia for Mechanical Organ_aug3.mid'), ('Mozart', '/content/Mozart_augmented/K280 Piano sonata n02 2mov_aug2.mid'), ('Mozart', '/content/Mozart_augmented/Early Pieces n6 Llittle minuet_aug3.mid'), ('Mozart', '/content/Mozart_augmented/K281 Piano Sonata n03 1mov_aug1.mid'), ('Mozart', '/content/Mozart_augmented/Symphony n39 K543 3mov_aug3.mid'), ('Mozart', '/content/Mozart_augmented/K314 Flute Concerto n2 2mov_aug1.mid'), ('Mozart', '/content/Mozart_augmented/Fantasia in C K.475_aug3.mid'), ('Mozart', '/content/Mozart_augmented/Symphony n33 K319 4mov_aug3.mid'), ('Mozart', '/content/Mozart_augmented/Piano Sonata n12 K332_aug0.mid'), ('Mozart', '/content/Mozart_augmented/Viennese Sonatinas K439b n2 3mov_aug2.mid'), ('Mozart', '/content/Mozart_augmented/K314 Flute Concerto n2 2mov_aug0.mid'), ('Mozart', '/content/Mozart_augmented/K317 Coronation Mass 5mov_aug3.mid'), ('Mozart', '/content/Mozart_augmented/Piano Sonata n07 K309_aug3.mid'), ('Mozart', '/content/Mozart_augmented/Symphony n39 K543 1mov_aug0.mid'), ('Mozart', '/content/Mozart_augmented/Symphony n30 K202 3mov_aug3.mid'), ('Mozart', '/content/Mozart_augmented/K497 Piano Sonata 4 Hands_aug1.mid'), ('Mozart', \"/content/Mozart_augmented/Symphony n36 K425 4mov ''Linz''_aug3.mid\"), ('Mozart', '/content/Mozart_augmented/Symphony n33 K319 4mov_aug1.mid'), ('Mozart', '/content/Mozart_augmented/K331 Piano Sonata n11 _aug3.mid'), ('Mozart', '/content/Mozart_augmented/Symphony n28 K200 1mov_aug1.mid'), ('Mozart', '/content/Mozart_augmented/Symphony n29 K201 2mov_aug3.mid'), ('Mozart', '/content/Mozart_augmented/Symphony n40 K550 4mov_aug0.mid'), ('Mozart', '/content/Mozart_augmented/K332 Piano Sonata n12 1mov_aug3.mid'), ('Mozart', '/content/Mozart_augmented/Early Pieces n15 Andantino_aug2.mid'), ('Mozart', \"/content/Mozart_augmented/K354 Piano Variations ''Je Suis Lindor''_aug3.mid\"), ('Mozart', \"/content/Mozart_augmented/K492 Overture ''Le Nozze di Figaro''_aug3.mid\"), ('Mozart', '/content/Mozart_augmented/Rondo in C_aug2.mid'), ('Mozart', '/content/Mozart_augmented/K358 Piano Sonata 4 Hands_aug3.mid'), ('Mozart', '/content/Mozart_augmented/Piano Concerto n23 K488 2mov_aug0.mid'), ('Mozart', '/content/Mozart_augmented/Symphony n29 K201 1mov_aug3.mid'), ('Mozart', '/content/Mozart_augmented/K317 Coronation Mass 1mov_aug2.mid'), ('Mozart', '/content/Mozart_augmented/K314 Flute Concerto n2 3mov_aug3.mid'), ('Mozart', '/content/Mozart_augmented/K317 Coronation Mass 1mov_aug0.mid'), ('Mozart', '/content/Mozart_augmented/Early Pieces n12 Rondino_aug0.mid'), ('Mozart', '/content/Mozart_augmented/K191 Bassoon Concerto 1mov_aug2.mid'), ('Mozart', '/content/Mozart_augmented/Piano Concerto n20 K466 3mov_aug2.mid'), ('Mozart', \"/content/Mozart_augmented/Piano Concerto n18 K456 1mov ''Paradis''_aug3.mid\"), ('Mozart', \"/content/Mozart_augmented/Piano Concerto n21 K467 2mov ''Elvira Madigan''_aug3.mid\"), ('Mozart', '/content/Mozart_augmented/Symphony n33 K319 2mov_aug0.mid'), ('Mozart', '/content/Mozart_augmented/K333 Piano Sonata n13 1mov_aug3.mid'), ('Mozart', '/content/Mozart_augmented/K545 Piano Sonata_aug3.mid'), ('Mozart', '/content/Mozart_augmented/K618 Ave Verum Corpus_aug2.mid'), ('Mozart', '/content/Mozart_augmented/K457 Piano Sonata n14 _aug3.mid'), ('Mozart', '/content/Mozart_augmented/Piano Sonata n18 K570_aug1.mid'), ('Mozart', '/content/Mozart_augmented/Piano Concerto n20 K466 3mov_aug1.mid'), ('Mozart', '/content/Mozart_augmented/K279 Piano sonata n01 3mov_aug3.mid'), ('Mozart', \"/content/Mozart_augmented/Symphony n36 K425 4mov ''Linz''_aug0.mid\"), ('Mozart', '/content/Mozart_augmented/Piano Concerto n8 K246 3mov_aug1.mid'), ('Mozart', '/content/Mozart_augmented/Piano Sonata n11 K331_aug0.mid'), ('Mozart', '/content/Mozart_augmented/K358 Piano Sonata 4 Hands_aug0.mid'), ('Mozart', '/content/Mozart_augmented/K284 Piano Sonata n06 _aug1.mid'), ('Mozart', '/content/Mozart_augmented/K136 Divertimento 1mov_aug2.mid'), ('Mozart', '/content/Mozart_augmented/K618 Ave Verum Corpus_aug1.mid'), ('Mozart', \"/content/Mozart_augmented/Symphony n41 K551 4mov ''Jupiter''_aug0.mid\"), ('Mozart', '/content/Mozart_augmented/Early Pieces n1 Andante_aug2.mid'), ('Mozart', '/content/Mozart_augmented/K622 Clarinet Concerto 3mov_aug0.mid'), ('Mozart', '/content/Mozart_augmented/Early Pieces n5 Country Dance_aug2.mid'), ('Mozart', \"/content/Mozart_augmented/Symphony n35 K385 1mov ''Haffner''_aug1.mid\"), ('Mozart', '/content/Mozart_augmented/Contradance n3_aug3.mid'), ('Mozart', \"/content/Mozart_augmented/Symphony n35 K385 1mov ''Haffner''_aug2.mid\"), ('Mozart', '/content/Mozart_augmented/Viennese Sonatinas K439b n6 2mov_aug1.mid'), ('Mozart', '/content/Mozart_augmented/K280 Piano sonata n02 1mov_aug0.mid'), ('Mozart', '/content/Mozart_augmented/Sonatina n3 1mov_aug0.mid'), ('Mozart', '/content/Mozart_augmented/Symphony n33 K319 4mov_aug0.mid'), ('Mozart', '/content/Mozart_augmented/Piano Concerto n24 K491 3mov_aug0.mid'), ('Mozart', '/content/Mozart_augmented/Symphony n25 K183 2mov_aug0.mid'), ('Mozart', '/content/Mozart_augmented/K136 Divertimento 3mov_aug1.mid'), ('Mozart', '/content/Mozart_augmented/Piano Concerto n25 K503 2mov_aug0.mid'), ('Mozart', '/content/Mozart_augmented/K497 Piano Sonata 4 Hands_aug0.mid'), ('Mozart', '/content/Mozart_augmented/K626 Requiem 10 Sanctus_aug3.mid'), ('Mozart', '/content/Mozart_augmented/Piano Concerto n23 K488 1mov_aug0.mid'), ('Mozart', '/content/Mozart_augmented/Piano Sonata n02 K280_aug3.mid'), ('Mozart', '/content/Mozart_augmented/Sonatina n3 2mov_aug2.mid'), ('Mozart', '/content/Mozart_augmented/Piano Sonata n18 K570_aug2.mid'), ('Mozart', '/content/Mozart_augmented/Early Pieces n18 Little Song_aug2.mid'), ('Mozart', '/content/Mozart_augmented/Piano Sonata n14 K457_aug0.mid'), ('Mozart', '/content/Mozart_augmented/Early Pieces n20 Presto_aug1.mid'), ('Mozart', \"/content/Mozart_augmented/K492 Overture ''Le Nozze di Figaro''_aug1.mid\"), ('Mozart', '/content/Mozart_augmented/Piano Sonata n02 K280_aug2.mid'), ('Mozart', '/content/Mozart_augmented/Symphony n33 K319 2mov_aug3.mid'), ('Mozart', '/content/Mozart_augmented/Piano Concerto n17 K453 3mov_aug1.mid'), ('Mozart', '/content/Mozart_augmented/K299 Flute Harp Concerto 3mov_aug2.mid'), ('Mozart', '/content/Mozart_augmented/Piano Concerto n14 K449 1mov_aug2.mid'), ('Mozart', '/content/Mozart_augmented/Piano Concerto n17 K453 3mov_aug0.mid'), ('Mozart', '/content/Mozart_augmented/Early Pieces n6 Llittle minuet_aug1.mid'), ('Mozart', '/content/Mozart_augmented/K495 Horn Concerto n4 1mov_aug1.mid'), ('Mozart', '/content/Mozart_augmented/Piano Concerto n12 K414 3mov_aug1.mid'), ('Mozart', \"/content/Mozart_augmented/K525 Serenade 2mov ''Eine Kleine Natchmusik''_aug1.mid\"), ('Mozart', '/content/Mozart_augmented/Symphony n34 K338 3mov_aug3.mid'), ('Mozart', '/content/Mozart_augmented/K333 Piano Sonata n13 3mov_aug0.mid'), ('Mozart', '/content/Mozart_augmented/Piano Sonata n07 K309_aug1.mid'), ('Mozart', \"/content/Mozart_augmented/K525 Serenade 4mov ''Eine Kleine Natchmusik''_aug2.mid\"), ('Mozart', '/content/Mozart_augmented/Piano Sonata n10 K330_aug1.mid'), ('Mozart', '/content/Mozart_augmented/Piano Sonata n02 K280_aug1.mid'), ('Mozart', '/content/Mozart_augmented/Piano Sonata n08 K311_aug0.mid'), ('Mozart', '/content/Mozart_augmented/K309 Piano Sonata n10 2mov_aug0.mid'), ('Mozart', '/content/Mozart_augmented/Symphony n40 K550 3mov_aug2.mid'), ('Mozart', '/content/Mozart_augmented/Symphony n29 K201 1mov_aug1.mid'), ('Mozart', '/content/Mozart_augmented/Adagio in B flat_aug3.mid'), ('Mozart', '/content/Mozart_augmented/K280 Piano sonata n02 1mov_aug1.mid'), ('Mozart', '/content/Mozart_augmented/Early Pieces n10 Air_aug1.mid'), ('Mozart', '/content/Mozart_augmented/Early Pieces n4 Minuet_aug3.mid'), ('Mozart', '/content/Mozart_augmented/Piano Concerto n25 K503 3mov_aug2.mid'), ('Mozart', \"/content/Mozart_augmented/Piano Concerto n7 for 3 Pianos K242 3mov ''Lodron''_aug2.mid\"), ('Mozart', '/content/Mozart_augmented/K317 Coronation Mass 4mov_aug1.mid'), ('Mozart', '/content/Mozart_augmented/K333 Piano Sonata n13 3mov_aug1.mid'), ('Mozart', '/content/Mozart_augmented/K357 Piano Sonata 4 Hands_aug0.mid'), ('Mozart', \"/content/Mozart_augmented/Symphony n35 K385 2mov ''Haffner''_aug0.mid\"), ('Mozart', \"/content/Mozart_augmented/Symphony n35 K385 4mov ''Haffner''_aug0.mid\"), ('Mozart', '/content/Mozart_augmented/Symphony n25 K183 1mov_aug1.mid'), ('Mozart', '/content/Mozart_augmented/Early Pieces n11 Country dance_aug1.mid'), ('Mozart', \"/content/Mozart_augmented/Piano Concerto n7 for 3 Pianos K242 3mov ''Lodron''_aug3.mid\"), ('Mozart', '/content/Mozart_augmented/K279 Piano sonata n01 3mov_aug1.mid'), ('Mozart', '/content/Mozart_augmented/K361 Serenade n10 3mov_aug2.mid'), ('Mozart', '/content/Mozart_augmented/K284 Piano Sonata n06 _aug2.mid'), ('Mozart', '/content/Mozart_augmented/Viennese Sonatinas K439b n6 1mov_aug2.mid'), ('Mozart', \"/content/Mozart_augmented/Piano Concerto n7 for 3 Pianos K242 1mov ''Lodron''_aug2.mid\"), ('Mozart', '/content/Mozart_augmented/K573 9 Variations for Piano Uber Duport_aug0.mid'), ('Mozart', '/content/Mozart_augmented/Piano Concerto n6 K238 3mov_aug1.mid'), ('Mozart', '/content/Mozart_augmented/K332 Piano Sonata n12 2mov_aug3.mid'), ('Mozart', '/content/Mozart_augmented/Symphony n30 K202 4mov_aug2.mid'), ('Mozart', '/content/Mozart_augmented/Early Pieces n20 Presto_aug2.mid'), ('Mozart', \"/content/Mozart_augmented/Symphony n35 K385 2mov ''Haffner''_aug1.mid\"), ('Mozart', '/content/Mozart_augmented/K299 Flute Harp Concerto 2mov_aug2.mid'), ('Mozart', '/content/Mozart_augmented/Piano Sonata n02 K280_aug0.mid')]\n"
          ]
        }
      ],
      "source": [
        "mozart_feature_arrays, mozart_label_list, mozart_file_list = collect_composer_data(\"Mozart\", mozart_midi_list)\n",
        "print(f\"Mozart dataset: Feature arrays extracted from {len(mozart_feature_arrays)} files.\")"
      ]
    },
    {
      "cell_type": "code",
      "execution_count": null,
      "metadata": {
        "id": "njJDCrpkLsHV"
      },
      "outputs": [],
      "source": []
    }
  ],
  "metadata": {
    "accelerator": "GPU",
    "colab": {
      "gpuType": "T4",
      "provenance": []
    },
    "kernelspec": {
      "display_name": "Python 3",
      "name": "python3"
    },
    "language_info": {
      "codemirror_mode": {
        "name": "ipython",
        "version": 3
      },
      "file_extension": ".py",
      "mimetype": "text/x-python",
      "name": "python",
      "nbconvert_exporter": "python",
      "pygments_lexer": "ipython3",
      "version": "3.8.5"
    }
  },
  "nbformat": 4,
  "nbformat_minor": 0
}
