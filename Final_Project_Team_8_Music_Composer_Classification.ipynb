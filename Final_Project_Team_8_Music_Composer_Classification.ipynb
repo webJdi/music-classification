{
  "cells": [
    {
      "cell_type": "code",
      "source": [
        "from google.colab import drive\n",
        "drive.mount('/content/drive')"
      ],
      "metadata": {
        "colab": {
          "base_uri": "https://localhost:8080/"
        },
        "id": "FQ3KkV7-iNLH",
        "outputId": "95d03496-bc24-4dd5-b44a-7f565c8ee2bb"
      },
      "execution_count": 1,
      "outputs": [
        {
          "output_type": "stream",
          "name": "stdout",
          "text": [
            "Mounted at /content/drive\n"
          ]
        }
      ]
    },
    {
      "cell_type": "code",
      "source": [
        "import zipfile\n",
        "import os\n",
        "\n",
        "zip_path = '/content/drive/MyDrive/midiclassics.zip'\n",
        "extract_path = '/content/'\n",
        "\n",
        "with zipfile.ZipFile(zip_path, 'r') as zip_ref:\n",
        "    zip_ref.extractall(extract_path)\n",
        "\n",
        "# Check folder structure\n",
        "os.listdir(extract_path)"
      ],
      "metadata": {
        "colab": {
          "base_uri": "https://localhost:8080/"
        },
        "id": "PZYYvIk4iRzX",
        "outputId": "6c659469-d023-43b7-8dc8-9c0aedc674e1"
      },
      "execution_count": 2,
      "outputs": [
        {
          "output_type": "execute_result",
          "data": {
            "text/plain": [
              "['.config',\n",
              " 'Rothchild Piano Sonata Rmw13 1mov.mid',\n",
              " 'Vaughan',\n",
              " 'Reinecke Piano Concerto n3 3mov.mid',\n",
              " 'Dvorak Symphony op70 n7 3mov.mid',\n",
              " 'Lange',\n",
              " 'Dvorak Symphony op70 n7 2mov.mid',\n",
              " 'Rothchild Oboe Concerto Rmw09 3mov.mid',\n",
              " 'Hemery',\n",
              " 'Botsford',\n",
              " 'Field',\n",
              " 'Katzwarra',\n",
              " 'Herold',\n",
              " 'Debussy Suite Bergamasque 4mov.mid',\n",
              " 'Stravinski',\n",
              " 'Beethoven',\n",
              " 'Gershuin Rhapsody In Blue Piano Duet.mid',\n",
              " 'Alkan',\n",
              " 'Gottschalk',\n",
              " 'German',\n",
              " 'Jensen',\n",
              " 'Grainger',\n",
              " 'Buxethude Buxwv158 Preambulum.mid',\n",
              " 'Chabrier',\n",
              " 'Handel',\n",
              " 'Bach',\n",
              " 'Shostakovich',\n",
              " 'Busser',\n",
              " 'Tchaikovsky Lake Of The Swans Act 2 14mov.mid',\n",
              " 'Borodin',\n",
              " 'Tchaikovsky Lake Of The Swans Act 1 6mov.mid',\n",
              " 'Brahms',\n",
              " 'Berlin',\n",
              " 'Schubert',\n",
              " 'Grieg',\n",
              " 'Pachebel Toccata n2.mid',\n",
              " 'Pollen Beguine Royale.mid',\n",
              " 'Kuhlau Sonatina op60 n3.mid',\n",
              " 'Holst',\n",
              " 'Rothchild Oboe Concerto Rmw09 1mov.mid',\n",
              " 'Peterson-Berger',\n",
              " 'Rothchild Oboe Concerto Rmw09 2mov.mid',\n",
              " 'Reinecke Piano Concerto n3 1mov.mid',\n",
              " 'Holst, M',\n",
              " 'Barber',\n",
              " 'Lecuona',\n",
              " 'Pachebel Toccata n7.mid',\n",
              " 'Tchaikovsky Lake Of The Swans Act 1 1mov.mid',\n",
              " 'MacCunn',\n",
              " 'Franck',\n",
              " 'Heidrich',\n",
              " 'Heller',\n",
              " 'Debussy Suite Bergamasque 1mov.mid',\n",
              " 'Bizet Symphony in C 1mov.mid',\n",
              " 'Buxethude Buxwv155 Toccata.mid',\n",
              " 'Buxethude Buxwv145 Prelude.mid',\n",
              " 'Vivaldi',\n",
              " 'Pachebel Toccata n1.mid',\n",
              " 'Paganini',\n",
              " \"Varios - Ti'tulo desconocido\",\n",
              " 'Wolf',\n",
              " 'Pachebel Toccata n4.mid',\n",
              " 'Ravel',\n",
              " 'Rothchild Horn Concerto Rmw16 2mov.mid',\n",
              " 'Tchaikovsky Lake Of The Swans Act 1 3mov.mid',\n",
              " 'Friedman',\n",
              " 'Couperin',\n",
              " 'drive',\n",
              " 'Mussorgski',\n",
              " 'Coleridge-Taylor',\n",
              " 'Reinecke Piano Concerto n3 2mov.mid',\n",
              " 'Thomas',\n",
              " \"Rimsky Korsakov ''Flight Of the Bumblebee''.mid\",\n",
              " 'Bartok Suite 1mov.mid',\n",
              " 'Diabelli Sonatina op151 n4 1mov.mid',\n",
              " 'Tchaikovsky',\n",
              " 'Reger Burlesque op58 n3.mid',\n",
              " 'Diabelli Sonatina op151 n1 1mov.mid',\n",
              " 'Sarasate',\n",
              " 'Ambroise',\n",
              " 'Rothchild Symphony Rmw12 1mov.mid',\n",
              " 'Fucick',\n",
              " 'Scarlatti',\n",
              " 'Laurent',\n",
              " 'Tchaikovsky Lake Of The Swans Act 1 5mov.mid',\n",
              " 'Meyerbeer',\n",
              " 'Satie',\n",
              " 'Bartok Suite 2mov.mid',\n",
              " 'Liszt Paganini Etude n3.mid',\n",
              " 'Buxethude Buxwv162 Prelude.mid',\n",
              " 'Schoenberg',\n",
              " 'Hummel',\n",
              " 'Debussy Suite Bergamasque 2mov.mid',\n",
              " 'Ginastera Estancia.mid',\n",
              " 'Ganne',\n",
              " 'Mehul',\n",
              " 'Gershwin',\n",
              " 'Rothchild Piano Sonata Rmw13 2mov.mid',\n",
              " 'meditation thais.mid',\n",
              " '.DS_Store',\n",
              " 'Skriabin',\n",
              " 'Lemire',\n",
              " 'Rimsky-Korsakov',\n",
              " 'Chopin',\n",
              " 'Buxehude',\n",
              " 'Bellini',\n",
              " 'Mendelsonn',\n",
              " 'Copland',\n",
              " 'Diabelli Sonatina op151 n1 2mov.mid',\n",
              " 'Liszt',\n",
              " 'Bizet Symphony in C 2mov.mid',\n",
              " 'Le Thiere',\n",
              " 'Kuhlau Sonatina op60 n2.mid',\n",
              " 'Tchaikovsky Lake Of The Swans Act 2 11mov.mid',\n",
              " 'Dvorak Trio op26.mid',\n",
              " 'Morel',\n",
              " 'Messager',\n",
              " 'Joplin',\n",
              " 'Reger Burlesque op58 n6.mid',\n",
              " 'Cramer',\n",
              " 'Diabelli Sonatina op151 n3 3mov.mid',\n",
              " 'Arndt',\n",
              " 'Liszt Hungarian Rhapsody n2.MID',\n",
              " 'Clementi',\n",
              " 'Liszt Paganini Etude n2.mid',\n",
              " 'Grieg Piano Concerto 2mov.mid',\n",
              " 'Busoni',\n",
              " 'Burgmuller',\n",
              " 'Resch',\n",
              " 'Kuhlau Sonatina op55 n1.mid',\n",
              " 'Tchaikovsky Lake Of The Swans Act 2 13mov.mid',\n",
              " 'Prokofiev',\n",
              " 'Rothchlid Symphony Rmw12 3mov.mid',\n",
              " 'Clarke',\n",
              " 'Buxethude Buxwv157 Toccata.mid',\n",
              " 'Paradisi',\n",
              " 'Buxethude Buxwv136 Prelude.mid',\n",
              " 'Debussy Suite Bergamasque 3mov.mid',\n",
              " 'Straus',\n",
              " 'Ivanovici',\n",
              " 'Mozart',\n",
              " 'Haendel',\n",
              " 'Kuhlau Sonatina op55 n3 1mov.mid',\n",
              " 'Strauss, J',\n",
              " 'Buxethude Buxwv167 Canzonetta.mid',\n",
              " 'Buxethude Buxwv160 Ciacona.mid',\n",
              " 'Pachelbel',\n",
              " \"Liszt Ab irato ''The Perfect Etude'' S143 R4b.mid\",\n",
              " 'Dvorak Slavonic dance n8.mid',\n",
              " 'Tchaikovsky Lake Of The Swans Act 1 2mov.mid',\n",
              " 'Chasins',\n",
              " 'Rachmaninov',\n",
              " 'Flotow',\n",
              " 'Buxethude Buxwv157 Tocatta and Fugue.mid',\n",
              " 'Poulenc',\n",
              " 'Bizet Symphony in C 4mov.mid',\n",
              " 'Buxethude Buxwv156 Toccata.mid',\n",
              " 'Sullivan',\n",
              " 'Taube',\n",
              " 'Griffes',\n",
              " 'Rothchild Horn Concerto Rmw16 1mov.mid',\n",
              " 'Wagner Ride of the valkyries.mid',\n",
              " 'Suppe',\n",
              " 'Saint-Saens',\n",
              " 'Diabelli Sonatina op151 n3 2mov.mid',\n",
              " 'Diabelli Sonatina op151 n2 1mov.mid',\n",
              " 'Debussy',\n",
              " 'Faure',\n",
              " 'Sinding',\n",
              " 'Diabelli Sonatina op151 n1 3mov.mid',\n",
              " \"Albe'niz\",\n",
              " 'Dvorak Symphony op70 n7 4mov.mid',\n",
              " 'Sibelius',\n",
              " 'Tchakoff',\n",
              " 'Dvorak',\n",
              " 'MacBeth',\n",
              " 'Frescobaldi',\n",
              " 'Cons',\n",
              " 'Hiller',\n",
              " 'Jakobowski',\n",
              " 'Verdi',\n",
              " 'Haydn',\n",
              " 'Moszkowski',\n",
              " 'Diabelli Sonatina op151 n4 2mov.mid',\n",
              " 'Durand, E',\n",
              " 'Bizet Symphony in C 3mov.mid',\n",
              " 'Rossini',\n",
              " 'Dussek',\n",
              " 'Bernstein',\n",
              " 'Nicolai Overture The Merry Wives of Windsor.mid',\n",
              " 'Schumann',\n",
              " 'Diabelli Sonatina op151 n3 1mov.mid',\n",
              " 'Chaminade',\n",
              " 'Arensky',\n",
              " 'Sudds',\n",
              " 'Kuhlau',\n",
              " 'Tchaikovsky Lake Of The Swans Act 2 12mov.mid',\n",
              " 'Buxethude Buxwv153 Prelude.mid',\n",
              " 'Liszt Bach Prelude Transcription.mid',\n",
              " 'Bacewitz',\n",
              " 'Rothchild Horn Concerto Rmw16 3mov.mid',\n",
              " 'C.P.E.Bach Solfeggieto.mid',\n",
              " 'Komzak',\n",
              " 'Tarrega',\n",
              " 'Maier',\n",
              " 'Lyssenko',\n",
              " 'Swinstead',\n",
              " 'Pridhan',\n",
              " 'Buxethude Buxwv138 Prelude.mid',\n",
              " 'Wagner',\n",
              " 'Tchaikovsky Lake Of The Swans Act 2 10mov.mid',\n",
              " 'Tchaikovsky Lake Of The Swans Act 1 4mov.mid',\n",
              " 'Grieg Piano Concerto op16 1mov.mid',\n",
              " 'Liszt Paganini Etude n5.mid',\n",
              " 'Bartok',\n",
              " 'Pachebel Toccata n3.mid',\n",
              " 'Diabelli Sonatina op151 n2 3mov.mid',\n",
              " 'Kuhlau Sonatina op20 n1.mid',\n",
              " 'Dvorak Symphony op70 n7 1mov.mid',\n",
              " 'Ginastera',\n",
              " 'Sibelius Kuolema Vals op44.mid',\n",
              " 'Diabelli Sonatina op151 n2 2mov.mid',\n",
              " 'Czibulka',\n",
              " 'Finck',\n",
              " 'Bizet Carmen Prelude.mid',\n",
              " 'Liszt Paganini Etude n1.mid',\n",
              " 'Rothchild Piano Sonata Rmw13 3mov.mid',\n",
              " 'Coates',\n",
              " 'Paderewski',\n",
              " 'Raff',\n",
              " 'Tchaicovsky Waltz of the Flowers.MID',\n",
              " 'Tchaikovsky Lake Of The Swans Act 1 9mov.mid',\n",
              " 'Mendelssohn',\n",
              " 'Buxethude Buxwv161 Passcaglia.mid',\n",
              " 'Tchaikovsky Lake Of The Swans Act 1 7-8movs.mid',\n",
              " 'Lizt Piano Concerto n1 S124.mid',\n",
              " 'Lavallee',\n",
              " 'Durand, MA',\n",
              " 'Bartelet',\n",
              " 'Becker',\n",
              " 'Rothchild Symphony Rmw12 2mov.mid',\n",
              " 'Reger Burlesque op58 n5.mid',\n",
              " 'Czerny',\n",
              " 'sample_data']"
            ]
          },
          "metadata": {},
          "execution_count": 2
        }
      ]
    },
    {
      "cell_type": "code",
      "execution_count": 9,
      "metadata": {
        "id": "Q1nScyhCDepU"
      },
      "outputs": [],
      "source": [
        "import os\n",
        "import glob\n",
        "import warnings\n",
        "\n",
        "warnings.filterwarnings(\"ignore\")\n",
        "\n",
        "def gather_distinct_midis(folder_path):\n",
        "    midi_path_set = set()\n",
        "    distinct_midi_files = []\n",
        "\n",
        "    midi_file_list = glob.glob(os.path.join(folder_path, '**', '*.mid'), recursive=True)\n",
        "\n",
        "    for midi in midi_file_list:\n",
        "        full_path = os.path.abspath(midi)\n",
        "        if full_path not in midi_path_set:\n",
        "            midi_path_set.add(full_path)\n",
        "            distinct_midi_files.append(full_path)\n",
        "\n",
        "    return distinct_midi_files"
      ]
    },
    {
      "cell_type": "code",
      "execution_count": 10,
      "metadata": {
        "colab": {
          "base_uri": "https://localhost:8080/"
        },
        "id": "Jbcnd8ehDepV",
        "outputId": "501620cf-abfd-4040-e557-86497556f0e2"
      },
      "outputs": [
        {
          "output_type": "stream",
          "name": "stdout",
          "text": [
            "Number of MIDI files found for Bach: 925\n"
          ]
        }
      ],
      "source": [
        "# Bach directory\n",
        "bach_folder_path = '/content/Bach'\n",
        "bach_midi_list = gather_distinct_midis(bach_folder_path)\n",
        "print(f\"Number of MIDI files found for Bach: {len(bach_midi_list)}\")"
      ]
    },
    {
      "cell_type": "code",
      "execution_count": 11,
      "metadata": {
        "colab": {
          "base_uri": "https://localhost:8080/"
        },
        "id": "zBfQhTxVDepV",
        "outputId": "df33590a-8eac-4705-b06c-625c049df7f0"
      },
      "outputs": [
        {
          "output_type": "stream",
          "name": "stdout",
          "text": [
            "Number of MIDI files found for Beethoven: 212\n"
          ]
        }
      ],
      "source": [
        "# Beethoven directory\n",
        "beethoven_folder_path = '/content/Beethoven'\n",
        "beethoven_midi_list = gather_distinct_midis(beethoven_folder_path)\n",
        "print(f\"Number of MIDI files found for Beethoven: {len(beethoven_midi_list)}\")"
      ]
    },
    {
      "cell_type": "code",
      "execution_count": 12,
      "metadata": {
        "colab": {
          "base_uri": "https://localhost:8080/"
        },
        "id": "g10tOn44DepW",
        "outputId": "0da3fde1-1db5-4718-f2c5-f797827cf787"
      },
      "outputs": [
        {
          "output_type": "stream",
          "name": "stdout",
          "text": [
            "Number of MIDI files found for Chopin: 136\n"
          ]
        }
      ],
      "source": [
        "# Chopin directory\n",
        "chopin_folder_path = '/content/Chopin'\n",
        "chopin_midi_list = gather_distinct_midis(chopin_folder_path)\n",
        "print(f\"Number of MIDI files found for Chopin: {len(chopin_midi_list)}\")"
      ]
    },
    {
      "cell_type": "code",
      "execution_count": 13,
      "metadata": {
        "colab": {
          "base_uri": "https://localhost:8080/"
        },
        "id": "vH16jhuCDepW",
        "outputId": "243f54c5-56d6-45b2-f5ec-1b37aada99fa"
      },
      "outputs": [
        {
          "output_type": "stream",
          "name": "stdout",
          "text": [
            "Number of MIDI files found for Mozart: 257\n"
          ]
        }
      ],
      "source": [
        "# Mozart directory\n",
        "mozart_folder_path = '/content/Mozart'\n",
        "mozart_midi_list = gather_distinct_midis(mozart_folder_path)\n",
        "print(f\"Number of MIDI files found for Mozart: {len(mozart_midi_list)}\")"
      ]
    },
    {
      "cell_type": "code",
      "source": [
        "from music21 import converter, note, chord, tempo, meter\n",
        "import numpy as np\n",
        "from fractions import Fraction\n",
        "\n",
        "# Utility Functions\n",
        "\n",
        "def to_float(value):\n",
        "    if isinstance(value, Fraction):\n",
        "        return float(value)\n",
        "    return float(value)\n",
        "\n",
        "def complete_chord_row(chord_row, max_pitches=4, fill_note=0):\n",
        "    start_time = to_float(chord_row[0])\n",
        "    chord_pitches = chord_row[1:]\n",
        "    chord_pitches += [fill_note] * (max_pitches - len(chord_pitches))\n",
        "    return [start_time] + chord_pitches\n",
        "\n",
        "def pad_feature_table(feature_rows, expected_length, fill_note=0):\n",
        "    result = []\n",
        "    for row in feature_rows:\n",
        "        row = row + [fill_note] * (expected_length - len(row))\n",
        "        result.append(row)\n",
        "    return np.array(result, dtype=float)"
      ],
      "metadata": {
        "id": "UnZPtgrEpUm7"
      },
      "execution_count": 14,
      "outputs": []
    },
    {
      "cell_type": "code",
      "execution_count": 15,
      "metadata": {
        "id": "04QJY4xKDepW"
      },
      "outputs": [],
      "source": [
        "# Feature Extraction\n",
        "\n",
        "def extract_score_data(parsed_score, max_chord_count=4):\n",
        "    note_data            = []\n",
        "    chord_data           = []\n",
        "    tempo_data           = []\n",
        "    rhythm_pattern_data  = []\n",
        "    time_signature_data  = []\n",
        "\n",
        "    for item in parsed_score.flat:\n",
        "        if isinstance(item, note.Note):\n",
        "            note_data.append([\n",
        "                to_float(item.offset),\n",
        "                item.pitch.midi,\n",
        "                to_float(item.quarterLength),\n",
        "                item.volume.realized\n",
        "            ])\n",
        "            rhythm_pattern_data.append([\n",
        "                to_float(item.offset),\n",
        "                to_float(item.quarterLength)\n",
        "            ])\n",
        "        elif isinstance(item, chord.Chord):\n",
        "            this_chord = [to_float(item.offset)] + [p.midi for p in item.pitches]\n",
        "            chord_data.append(complete_chord_row(this_chord, max_pitches=max_chord_count))\n",
        "\n",
        "    for t in parsed_score.flat.getElementsByClass(tempo.MetronomeMark):\n",
        "        tempo_data.append([to_float(t.offset), t.number])\n",
        "\n",
        "    for sig in parsed_score.flat.getElementsByClass(meter.TimeSignature):\n",
        "        time_signature_data.append([to_float(sig.offset), sig.numerator, sig.denominator])\n",
        "\n",
        "    max_col_notes      = max((len(r) for r in note_data), default=0)\n",
        "    max_col_chords     = max((len(r) for r in chord_data), default=0)\n",
        "    max_col_tempo      = max((len(r) for r in tempo_data), default=0)\n",
        "    max_col_rhythm     = max((len(r) for r in rhythm_pattern_data), default=0)\n",
        "    max_col_timesig    = max((len(r) for r in time_signature_data), default=0)\n",
        "\n",
        "    expected_cols = max(max_col_notes, max_col_chords, max_col_tempo, max_col_rhythm, max_col_timesig)\n",
        "\n",
        "    note_array         = pad_feature_table(note_data, expected_cols)\n",
        "    chord_array        = pad_feature_table(chord_data, expected_cols)\n",
        "    tempo_array        = pad_feature_table(tempo_data, expected_cols)\n",
        "    rhythm_array       = pad_feature_table(rhythm_pattern_data, expected_cols)\n",
        "    timesig_array      = pad_feature_table(time_signature_data, expected_cols)\n",
        "\n",
        "    min_row_count = min(\n",
        "        len(note_array), len(chord_array), len(tempo_array),\n",
        "        len(rhythm_array), len(timesig_array)\n",
        "    )\n",
        "\n",
        "    note_array     = note_array[:min_row_count]\n",
        "    chord_array    = chord_array[:min_row_count]\n",
        "    tempo_array    = tempo_array[:min_row_count]\n",
        "    rhythm_array   = rhythm_array[:min_row_count]\n",
        "    timesig_array  = timesig_array[:min_row_count]\n",
        "\n",
        "    def force_2d(matrix):\n",
        "        if matrix.ndim == 1:\n",
        "            return matrix.reshape(-1, 1)\n",
        "        return matrix\n",
        "\n",
        "    note_array     = force_2d(note_array)\n",
        "    chord_array    = force_2d(chord_array)\n",
        "    tempo_array    = force_2d(tempo_array)\n",
        "    rhythm_array   = force_2d(rhythm_array)\n",
        "    timesig_array  = force_2d(timesig_array)\n",
        "\n",
        "    combined_array = np.hstack([note_array, chord_array, tempo_array, rhythm_array, timesig_array]) \\\n",
        "        if min_row_count > 0 else np.empty((0, 0))\n",
        "    return combined_array\n"
      ]
    },
    {
      "cell_type": "code",
      "execution_count": 16,
      "metadata": {
        "id": "Fd89Eu56DepX"
      },
      "outputs": [],
      "source": [
        "# Collect features for composers\n",
        "\n",
        "def collect_composer_data(composer_title, midi_path_list, max_files=136):\n",
        "    all_composer_features = []\n",
        "    composer_label_list = []\n",
        "    midi_used_files = []\n",
        "\n",
        "    i = 0\n",
        "    for midi_path in midi_path_list:\n",
        "        if i >= max_files:\n",
        "            break\n",
        "        try:\n",
        "            music_score = converter.parse(midi_path)\n",
        "            data_matrix = extract_score_data(music_score)\n",
        "            all_composer_features.append(data_matrix)\n",
        "            composer_label_list.append(composer_title)\n",
        "            midi_used_files.append(midi_path)\n",
        "            i += 1\n",
        "        except Exception:\n",
        "            continue\n",
        "\n",
        "    return np.array(all_composer_features, dtype=object), np.array(composer_label_list), np.array(midi_used_files)\n"
      ]
    },
    {
      "cell_type": "code",
      "source": [
        "\n",
        "bach_feature_arrays, bach_label_list, bach_file_list = collect_composer_data(\"Bach\", bach_midi_list)\n",
        "print(f\"Bach dataset: Feature arrays extracted from {len(bach_feature_arrays)} files.\")"
      ],
      "metadata": {
        "colab": {
          "base_uri": "https://localhost:8080/"
        },
        "id": "0VklyvuYqad0",
        "outputId": "bd7c628f-eea1-4a58-f434-adb61f5275ed"
      },
      "execution_count": 18,
      "outputs": [
        {
          "output_type": "stream",
          "name": "stdout",
          "text": [
            "Bach dataset: Feature arrays extracted from 136 files.\n"
          ]
        }
      ]
    },
    {
      "cell_type": "code",
      "source": [
        "beethoven_feature_arrays, beethoven_label_list, beethoven_file_list = collect_composer_data(\"Beethoven\", beethoven_midi_list)\n",
        "print(f\"Beethoven dataset: Feature arrays extracted from {len(beethoven_feature_arrays)} files.\")"
      ],
      "metadata": {
        "colab": {
          "base_uri": "https://localhost:8080/"
        },
        "id": "ejNPTXGNqdkx",
        "outputId": "27d0df2c-cf04-40b9-e37e-1bc9b1eede92"
      },
      "execution_count": 19,
      "outputs": [
        {
          "output_type": "stream",
          "name": "stdout",
          "text": [
            "Beethoven dataset: Feature arrays extracted from 136 files.\n"
          ]
        }
      ]
    },
    {
      "cell_type": "code",
      "source": [
        "chopin_feature_arrays, chopin_label_list, chopin_file_list = collect_composer_data(\"Chopin\", chopin_midi_list)\n",
        "print(f\"Chopin dataset: Feature arrays extracted from {len(chopin_feature_arrays)} files.\")"
      ],
      "metadata": {
        "colab": {
          "base_uri": "https://localhost:8080/"
        },
        "id": "JygHTEicqfiA",
        "outputId": "3cfcb154-9807-465c-c7ed-37cad54c792a"
      },
      "execution_count": 20,
      "outputs": [
        {
          "output_type": "stream",
          "name": "stdout",
          "text": [
            "Chopin dataset: Feature arrays extracted from 136 files.\n"
          ]
        }
      ]
    },
    {
      "cell_type": "code",
      "execution_count": 21,
      "metadata": {
        "colab": {
          "base_uri": "https://localhost:8080/"
        },
        "id": "zIFgU2X7DepX",
        "outputId": "38264361-9848-44b9-eca1-24c0a839aad4"
      },
      "outputs": [
        {
          "output_type": "stream",
          "name": "stdout",
          "text": [
            "Mozart dataset: Feature arrays extracted from 136 files.\n"
          ]
        }
      ],
      "source": [
        "mozart_feature_arrays, mozart_label_list, mozart_file_list = collect_composer_data(\"Mozart\", mozart_midi_list)\n",
        "print(f\"Mozart dataset: Feature arrays extracted from {len(mozart_feature_arrays)} files.\")"
      ]
    },
    {
      "cell_type": "code",
      "execution_count": 33,
      "metadata": {
        "id": "KplEdJ6fDepZ"
      },
      "outputs": [],
      "source": [
        "import numpy as np\n",
        "from sklearn.preprocessing import StandardScaler\n",
        "from sklearn.model_selection import train_test_split\n",
        "import tensorflow as tf\n",
        "from tensorflow.keras.models import Sequential\n",
        "from tensorflow.keras.layers import Conv2D, MaxPooling2D, Flatten, Dense\n",
        "from sklearn.metrics import classification_report\n",
        "import warnings\n",
        "warnings.filterwarnings(\"ignore\")\n",
        "\n",
        "# --- Padding function with truncation if too large ---\n",
        "def pad_feature_cubes(feature_cubes, max_row_count, pad_entry=0.0):\n",
        "    \"\"\"\n",
        "    Pad or truncate each 2D feature matrix in the 3D array collection to have shape\n",
        "    (max_row_count, max_columns), ensuring consistent input shapes.\n",
        "    \"\"\"\n",
        "    padded_cubes = []\n",
        "    max_column_count = max(matrix.shape[1] for matrix in feature_cubes)\n",
        "    for matrix in feature_cubes:\n",
        "        truncated = matrix[:max_row_count, :]  # truncate if too many rows\n",
        "        rows, cols = truncated.shape\n",
        "        temp_padded = np.full((max_row_count, max_column_count), pad_entry, dtype=float)\n",
        "        temp_padded[:rows, :cols] = truncated\n",
        "        padded_cubes.append(temp_padded)\n",
        "    return np.array(padded_cubes)"
      ]
    },
    {
      "cell_type": "code",
      "execution_count": 34,
      "metadata": {
        "id": "6n2ruhRsDepa"
      },
      "outputs": [],
      "source": [
        "# --- Standardize (normalize) features ---\n",
        "def standardize_feature_cubes(feature_cubes, max_row_count):\n",
        "    padded_cubes = pad_feature_cubes(feature_cubes, max_row_count)\n",
        "    flattened = padded_cubes.reshape(padded_cubes.shape[0], -1)\n",
        "    scaler = StandardScaler()\n",
        "    scaled = scaler.fit_transform(flattened)\n",
        "    reshaped = scaled.reshape(padded_cubes.shape)\n",
        "    return reshaped"
      ]
    },
    {
      "cell_type": "code",
      "execution_count": 35,
      "metadata": {
        "id": "bemiBMwdDepa"
      },
      "outputs": [],
      "source": [
        "# --- Pad to max width for uniform column count ---\n",
        "def pad_to_max_width(feature_set, final_width, pad_fill=0.0):\n",
        "    output = []\n",
        "    for matrix in feature_set:\n",
        "        rows, cols = matrix.shape\n",
        "        filled = np.full((rows, final_width), pad_fill, dtype=float)\n",
        "        filled[:, :cols] = matrix\n",
        "        output.append(filled)\n",
        "    return np.array(output)"
      ]
    },
    {
      "cell_type": "code",
      "source": [
        "# --- ==== MAIN PREPROCESSING ====\n",
        "\n",
        "# Set desired fixed height and width matching model input_shape\n",
        "DESIRED_HEIGHT = 168\n",
        "DESIRED_WIDTH = 85\n",
        "\n",
        "# Standardize features with fixed height\n",
        "bach_features_standardized = standardize_feature_cubes(bach_feature_arrays, DESIRED_HEIGHT)\n",
        "beethoven_features_standardized = standardize_feature_cubes(beethoven_feature_arrays, DESIRED_HEIGHT)\n",
        "chopin_features_standardized = standardize_feature_cubes(chopin_feature_arrays, DESIRED_HEIGHT)\n",
        "mozart_features_standardized = standardize_feature_cubes(mozart_feature_arrays, DESIRED_HEIGHT)"
      ],
      "metadata": {
        "id": "RRDvXa-LwBTn"
      },
      "execution_count": 36,
      "outputs": []
    },
    {
      "cell_type": "code",
      "source": [
        "# Determine max width after standardization (should usually be consistent)\n",
        "max_col_count = max(\n",
        "    bach_features_standardized.shape[2],\n",
        "    beethoven_features_standardized.shape[2],\n",
        "    chopin_features_standardized.shape[2],\n",
        "    mozart_features_standardized.shape[2]\n",
        ")"
      ],
      "metadata": {
        "id": "8wGwfI7rBpUM"
      },
      "execution_count": 37,
      "outputs": []
    },
    {
      "cell_type": "code",
      "source": [
        "# Pad to uniform max width\n",
        "bach_features_final = pad_to_max_width(bach_features_standardized, max_col_count)\n",
        "beethoven_features_final = pad_to_max_width(beethoven_features_standardized, max_col_count)\n",
        "chopin_features_final = pad_to_max_width(chopin_features_standardized, max_col_count)\n",
        "mozart_features_final = pad_to_max_width(mozart_features_standardized, max_col_count)"
      ],
      "metadata": {
        "id": "6RHbiyaZBr5y"
      },
      "execution_count": 38,
      "outputs": []
    },
    {
      "cell_type": "code",
      "source": [
        "# Confirm shapes\n",
        "print(f\"Bach features shape:      {bach_features_final.shape}\")\n",
        "print(f\"Beethoven features shape: {beethoven_features_final.shape}\")\n",
        "print(f\"Chopin features shape:    {chopin_features_final.shape}\")\n",
        "print(f\"Mozart features shape:    {mozart_features_final.shape}\")"
      ],
      "metadata": {
        "colab": {
          "base_uri": "https://localhost:8080/"
        },
        "id": "SZZJRrsOBukQ",
        "outputId": "f99f93d2-59d2-4826-83d9-8c073e6560c1"
      },
      "execution_count": 39,
      "outputs": [
        {
          "output_type": "stream",
          "name": "stdout",
          "text": [
            "Bach features shape:      (136, 168, 85)\n",
            "Beethoven features shape: (136, 168, 85)\n",
            "Chopin features shape:    (136, 168, 85)\n",
            "Mozart features shape:    (136, 168, 85)\n"
          ]
        }
      ]
    },
    {
      "cell_type": "code",
      "source": [
        "# === Train/Test split per composer ===\n",
        "bach_x_train, bach_x_test, bach_y_train, bach_y_test = train_test_split(\n",
        "    bach_features_final, bach_label_list, test_size=0.2, random_state=42)\n",
        "beethoven_x_train, beethoven_x_test, beethoven_y_train, beethoven_y_test = train_test_split(\n",
        "    beethoven_features_final, beethoven_label_list, test_size=0.2, random_state=42)\n",
        "chopin_x_train, chopin_x_test, chopin_y_train, chopin_y_test = train_test_split(\n",
        "    chopin_features_final, chopin_label_list, test_size=0.2, random_state=42)\n",
        "mozart_x_train, mozart_x_test, mozart_y_train, mozart_y_test = train_test_split(\n",
        "    mozart_features_final, mozart_label_list, test_size=0.2, random_state=42)"
      ],
      "metadata": {
        "id": "AsbomkQfBxUJ"
      },
      "execution_count": 40,
      "outputs": []
    },
    {
      "cell_type": "code",
      "source": [
        "# === Combine all for training and testing ===\n",
        "x_train_all = np.concatenate([bach_x_train, beethoven_x_train, chopin_x_train, mozart_x_train], axis=0)\n",
        "x_test_all = np.concatenate([bach_x_test, beethoven_x_test, chopin_x_test, mozart_x_test], axis=0)\n",
        "y_train_all = np.concatenate([bach_y_train, beethoven_y_train, chopin_y_train, mozart_y_train], axis=0)\n",
        "y_test_all = np.concatenate([bach_y_test, beethoven_y_test, chopin_y_test, mozart_y_test], axis=0)\n",
        "\n",
        "print(f\"Combined training features shape: {x_train_all.shape}\")\n",
        "print(f\"Combined testing features shape: {x_test_all.shape}\")\n",
        "print(f\"Combined training labels shape: {y_train_all.shape}\")\n",
        "print(f\"Combined testing labels shape: {y_test_all.shape}\")"
      ],
      "metadata": {
        "colab": {
          "base_uri": "https://localhost:8080/"
        },
        "id": "R2avU6hhBzFo",
        "outputId": "5c73d229-96db-4f53-8ada-3bbb453cad4e"
      },
      "execution_count": 41,
      "outputs": [
        {
          "output_type": "stream",
          "name": "stdout",
          "text": [
            "Combined training features shape: (432, 168, 85)\n",
            "Combined testing features shape: (112, 168, 85)\n",
            "Combined training labels shape: (432,)\n",
            "Combined testing labels shape: (112,)\n"
          ]
        }
      ]
    },
    {
      "cell_type": "code",
      "source": [
        "# --- Encode labels numerically ---\n",
        "composer_label_map = {\"Bach\":0, \"Beethoven\":1, \"Chopin\":2, \"Mozart\":3}\n",
        "y_train_all_encoded = np.array([composer_label_map[label] for label in y_train_all])\n",
        "y_test_all_encoded  = np.array([composer_label_map[label] for label in y_test_all])\n",
        "\n",
        "print(f\"Encoded training labels shape: {y_train_all_encoded.shape}\")\n",
        "print(f\"Encoded testing labels shape: {y_test_all_encoded.shape}\")"
      ],
      "metadata": {
        "colab": {
          "base_uri": "https://localhost:8080/"
        },
        "id": "YEr-j_QdB4tA",
        "outputId": "cc9d0f86-a984-418b-c2b2-c723a6330379"
      },
      "execution_count": 42,
      "outputs": [
        {
          "output_type": "stream",
          "name": "stdout",
          "text": [
            "Encoded training labels shape: (432,)\n",
            "Encoded testing labels shape: (112,)\n"
          ]
        }
      ]
    },
    {
      "cell_type": "code",
      "source": [
        "# --- Add channel dimension for CNN ---\n",
        "x_train_all = np.expand_dims(x_train_all, axis=-1)  # Shape now: (samples, 168, 85, 1)\n",
        "x_test_all = np.expand_dims(x_test_all, axis=-1)\n",
        "\n",
        "print(f\"x_train_all shape after channel add: {x_train_all.shape}\")\n",
        "print(f\"x_test_all shape after channel add: {x_test_all.shape}\")"
      ],
      "metadata": {
        "colab": {
          "base_uri": "https://localhost:8080/"
        },
        "id": "Az3wBUATB8E3",
        "outputId": "3af8fc9b-a6bb-4ee7-942e-8769636af336"
      },
      "execution_count": 43,
      "outputs": [
        {
          "output_type": "stream",
          "name": "stdout",
          "text": [
            "x_train_all shape after channel add: (432, 168, 85, 1)\n",
            "x_test_all shape after channel add: (112, 168, 85, 1)\n"
          ]
        }
      ]
    },
    {
      "cell_type": "code",
      "source": [
        "# === Define CNN model matching input shape ===\n",
        "num_composer_classes = 4\n",
        "\n",
        "composer_cnn_model = Sequential([\n",
        "    Conv2D(32, (3,3), activation='relu', input_shape=(DESIRED_HEIGHT, DESIRED_WIDTH, 1)),\n",
        "    MaxPooling2D((2,2)),\n",
        "    Conv2D(64, (3,3), activation='relu'),\n",
        "    MaxPooling2D((2,2)),\n",
        "    Conv2D(128, (3,3), activation='relu'),\n",
        "    Flatten(),\n",
        "    Dense(64, activation='relu'),\n",
        "    Dense(num_composer_classes, activation='softmax')\n",
        "])"
      ],
      "metadata": {
        "id": "0U9usYQvB_5g"
      },
      "execution_count": 44,
      "outputs": []
    },
    {
      "cell_type": "code",
      "source": [
        "composer_cnn_model.compile(\n",
        "    optimizer='adam',\n",
        "    loss='sparse_categorical_crossentropy',\n",
        "    metrics=['accuracy']\n",
        ")"
      ],
      "metadata": {
        "id": "vMP6yboaCDCA"
      },
      "execution_count": 45,
      "outputs": []
    },
    {
      "cell_type": "code",
      "source": [
        "composer_cnn_model.summary()"
      ],
      "metadata": {
        "colab": {
          "base_uri": "https://localhost:8080/",
          "height": 393
        },
        "id": "Y_BL5J8KCEzq",
        "outputId": "9684443d-a979-44f7-c691-e75460b5ed6e"
      },
      "execution_count": 46,
      "outputs": [
        {
          "output_type": "display_data",
          "data": {
            "text/plain": [
              "\u001b[1mModel: \"sequential_2\"\u001b[0m\n"
            ],
            "text/html": [
              "<pre style=\"white-space:pre;overflow-x:auto;line-height:normal;font-family:Menlo,'DejaVu Sans Mono',consolas,'Courier New',monospace\"><span style=\"font-weight: bold\">Model: \"sequential_2\"</span>\n",
              "</pre>\n"
            ]
          },
          "metadata": {}
        },
        {
          "output_type": "display_data",
          "data": {
            "text/plain": [
              "┏━━━━━━━━━━━━━━━━━━━━━━━━━━━━━━━━━┳━━━━━━━━━━━━━━━━━━━━━━━━┳━━━━━━━━━━━━━━━┓\n",
              "┃\u001b[1m \u001b[0m\u001b[1mLayer (type)                   \u001b[0m\u001b[1m \u001b[0m┃\u001b[1m \u001b[0m\u001b[1mOutput Shape          \u001b[0m\u001b[1m \u001b[0m┃\u001b[1m \u001b[0m\u001b[1m      Param #\u001b[0m\u001b[1m \u001b[0m┃\n",
              "┡━━━━━━━━━━━━━━━━━━━━━━━━━━━━━━━━━╇━━━━━━━━━━━━━━━━━━━━━━━━╇━━━━━━━━━━━━━━━┩\n",
              "│ conv2d_6 (\u001b[38;5;33mConv2D\u001b[0m)               │ (\u001b[38;5;45mNone\u001b[0m, \u001b[38;5;34m166\u001b[0m, \u001b[38;5;34m83\u001b[0m, \u001b[38;5;34m32\u001b[0m)    │           \u001b[38;5;34m320\u001b[0m │\n",
              "├─────────────────────────────────┼────────────────────────┼───────────────┤\n",
              "│ max_pooling2d_4 (\u001b[38;5;33mMaxPooling2D\u001b[0m)  │ (\u001b[38;5;45mNone\u001b[0m, \u001b[38;5;34m83\u001b[0m, \u001b[38;5;34m41\u001b[0m, \u001b[38;5;34m32\u001b[0m)     │             \u001b[38;5;34m0\u001b[0m │\n",
              "├─────────────────────────────────┼────────────────────────┼───────────────┤\n",
              "│ conv2d_7 (\u001b[38;5;33mConv2D\u001b[0m)               │ (\u001b[38;5;45mNone\u001b[0m, \u001b[38;5;34m81\u001b[0m, \u001b[38;5;34m39\u001b[0m, \u001b[38;5;34m64\u001b[0m)     │        \u001b[38;5;34m18,496\u001b[0m │\n",
              "├─────────────────────────────────┼────────────────────────┼───────────────┤\n",
              "│ max_pooling2d_5 (\u001b[38;5;33mMaxPooling2D\u001b[0m)  │ (\u001b[38;5;45mNone\u001b[0m, \u001b[38;5;34m40\u001b[0m, \u001b[38;5;34m19\u001b[0m, \u001b[38;5;34m64\u001b[0m)     │             \u001b[38;5;34m0\u001b[0m │\n",
              "├─────────────────────────────────┼────────────────────────┼───────────────┤\n",
              "│ conv2d_8 (\u001b[38;5;33mConv2D\u001b[0m)               │ (\u001b[38;5;45mNone\u001b[0m, \u001b[38;5;34m38\u001b[0m, \u001b[38;5;34m17\u001b[0m, \u001b[38;5;34m128\u001b[0m)    │        \u001b[38;5;34m73,856\u001b[0m │\n",
              "├─────────────────────────────────┼────────────────────────┼───────────────┤\n",
              "│ flatten_2 (\u001b[38;5;33mFlatten\u001b[0m)             │ (\u001b[38;5;45mNone\u001b[0m, \u001b[38;5;34m82688\u001b[0m)          │             \u001b[38;5;34m0\u001b[0m │\n",
              "├─────────────────────────────────┼────────────────────────┼───────────────┤\n",
              "│ dense_4 (\u001b[38;5;33mDense\u001b[0m)                 │ (\u001b[38;5;45mNone\u001b[0m, \u001b[38;5;34m64\u001b[0m)             │     \u001b[38;5;34m5,292,096\u001b[0m │\n",
              "├─────────────────────────────────┼────────────────────────┼───────────────┤\n",
              "│ dense_5 (\u001b[38;5;33mDense\u001b[0m)                 │ (\u001b[38;5;45mNone\u001b[0m, \u001b[38;5;34m4\u001b[0m)              │           \u001b[38;5;34m260\u001b[0m │\n",
              "└─────────────────────────────────┴────────────────────────┴───────────────┘\n"
            ],
            "text/html": [
              "<pre style=\"white-space:pre;overflow-x:auto;line-height:normal;font-family:Menlo,'DejaVu Sans Mono',consolas,'Courier New',monospace\">┏━━━━━━━━━━━━━━━━━━━━━━━━━━━━━━━━━┳━━━━━━━━━━━━━━━━━━━━━━━━┳━━━━━━━━━━━━━━━┓\n",
              "┃<span style=\"font-weight: bold\"> Layer (type)                    </span>┃<span style=\"font-weight: bold\"> Output Shape           </span>┃<span style=\"font-weight: bold\">       Param # </span>┃\n",
              "┡━━━━━━━━━━━━━━━━━━━━━━━━━━━━━━━━━╇━━━━━━━━━━━━━━━━━━━━━━━━╇━━━━━━━━━━━━━━━┩\n",
              "│ conv2d_6 (<span style=\"color: #0087ff; text-decoration-color: #0087ff\">Conv2D</span>)               │ (<span style=\"color: #00d7ff; text-decoration-color: #00d7ff\">None</span>, <span style=\"color: #00af00; text-decoration-color: #00af00\">166</span>, <span style=\"color: #00af00; text-decoration-color: #00af00\">83</span>, <span style=\"color: #00af00; text-decoration-color: #00af00\">32</span>)    │           <span style=\"color: #00af00; text-decoration-color: #00af00\">320</span> │\n",
              "├─────────────────────────────────┼────────────────────────┼───────────────┤\n",
              "│ max_pooling2d_4 (<span style=\"color: #0087ff; text-decoration-color: #0087ff\">MaxPooling2D</span>)  │ (<span style=\"color: #00d7ff; text-decoration-color: #00d7ff\">None</span>, <span style=\"color: #00af00; text-decoration-color: #00af00\">83</span>, <span style=\"color: #00af00; text-decoration-color: #00af00\">41</span>, <span style=\"color: #00af00; text-decoration-color: #00af00\">32</span>)     │             <span style=\"color: #00af00; text-decoration-color: #00af00\">0</span> │\n",
              "├─────────────────────────────────┼────────────────────────┼───────────────┤\n",
              "│ conv2d_7 (<span style=\"color: #0087ff; text-decoration-color: #0087ff\">Conv2D</span>)               │ (<span style=\"color: #00d7ff; text-decoration-color: #00d7ff\">None</span>, <span style=\"color: #00af00; text-decoration-color: #00af00\">81</span>, <span style=\"color: #00af00; text-decoration-color: #00af00\">39</span>, <span style=\"color: #00af00; text-decoration-color: #00af00\">64</span>)     │        <span style=\"color: #00af00; text-decoration-color: #00af00\">18,496</span> │\n",
              "├─────────────────────────────────┼────────────────────────┼───────────────┤\n",
              "│ max_pooling2d_5 (<span style=\"color: #0087ff; text-decoration-color: #0087ff\">MaxPooling2D</span>)  │ (<span style=\"color: #00d7ff; text-decoration-color: #00d7ff\">None</span>, <span style=\"color: #00af00; text-decoration-color: #00af00\">40</span>, <span style=\"color: #00af00; text-decoration-color: #00af00\">19</span>, <span style=\"color: #00af00; text-decoration-color: #00af00\">64</span>)     │             <span style=\"color: #00af00; text-decoration-color: #00af00\">0</span> │\n",
              "├─────────────────────────────────┼────────────────────────┼───────────────┤\n",
              "│ conv2d_8 (<span style=\"color: #0087ff; text-decoration-color: #0087ff\">Conv2D</span>)               │ (<span style=\"color: #00d7ff; text-decoration-color: #00d7ff\">None</span>, <span style=\"color: #00af00; text-decoration-color: #00af00\">38</span>, <span style=\"color: #00af00; text-decoration-color: #00af00\">17</span>, <span style=\"color: #00af00; text-decoration-color: #00af00\">128</span>)    │        <span style=\"color: #00af00; text-decoration-color: #00af00\">73,856</span> │\n",
              "├─────────────────────────────────┼────────────────────────┼───────────────┤\n",
              "│ flatten_2 (<span style=\"color: #0087ff; text-decoration-color: #0087ff\">Flatten</span>)             │ (<span style=\"color: #00d7ff; text-decoration-color: #00d7ff\">None</span>, <span style=\"color: #00af00; text-decoration-color: #00af00\">82688</span>)          │             <span style=\"color: #00af00; text-decoration-color: #00af00\">0</span> │\n",
              "├─────────────────────────────────┼────────────────────────┼───────────────┤\n",
              "│ dense_4 (<span style=\"color: #0087ff; text-decoration-color: #0087ff\">Dense</span>)                 │ (<span style=\"color: #00d7ff; text-decoration-color: #00d7ff\">None</span>, <span style=\"color: #00af00; text-decoration-color: #00af00\">64</span>)             │     <span style=\"color: #00af00; text-decoration-color: #00af00\">5,292,096</span> │\n",
              "├─────────────────────────────────┼────────────────────────┼───────────────┤\n",
              "│ dense_5 (<span style=\"color: #0087ff; text-decoration-color: #0087ff\">Dense</span>)                 │ (<span style=\"color: #00d7ff; text-decoration-color: #00d7ff\">None</span>, <span style=\"color: #00af00; text-decoration-color: #00af00\">4</span>)              │           <span style=\"color: #00af00; text-decoration-color: #00af00\">260</span> │\n",
              "└─────────────────────────────────┴────────────────────────┴───────────────┘\n",
              "</pre>\n"
            ]
          },
          "metadata": {}
        },
        {
          "output_type": "display_data",
          "data": {
            "text/plain": [
              "\u001b[1m Total params: \u001b[0m\u001b[38;5;34m5,385,028\u001b[0m (20.54 MB)\n"
            ],
            "text/html": [
              "<pre style=\"white-space:pre;overflow-x:auto;line-height:normal;font-family:Menlo,'DejaVu Sans Mono',consolas,'Courier New',monospace\"><span style=\"font-weight: bold\"> Total params: </span><span style=\"color: #00af00; text-decoration-color: #00af00\">5,385,028</span> (20.54 MB)\n",
              "</pre>\n"
            ]
          },
          "metadata": {}
        },
        {
          "output_type": "display_data",
          "data": {
            "text/plain": [
              "\u001b[1m Trainable params: \u001b[0m\u001b[38;5;34m5,385,028\u001b[0m (20.54 MB)\n"
            ],
            "text/html": [
              "<pre style=\"white-space:pre;overflow-x:auto;line-height:normal;font-family:Menlo,'DejaVu Sans Mono',consolas,'Courier New',monospace\"><span style=\"font-weight: bold\"> Trainable params: </span><span style=\"color: #00af00; text-decoration-color: #00af00\">5,385,028</span> (20.54 MB)\n",
              "</pre>\n"
            ]
          },
          "metadata": {}
        },
        {
          "output_type": "display_data",
          "data": {
            "text/plain": [
              "\u001b[1m Non-trainable params: \u001b[0m\u001b[38;5;34m0\u001b[0m (0.00 B)\n"
            ],
            "text/html": [
              "<pre style=\"white-space:pre;overflow-x:auto;line-height:normal;font-family:Menlo,'DejaVu Sans Mono',consolas,'Courier New',monospace\"><span style=\"font-weight: bold\"> Non-trainable params: </span><span style=\"color: #00af00; text-decoration-color: #00af00\">0</span> (0.00 B)\n",
              "</pre>\n"
            ]
          },
          "metadata": {}
        }
      ]
    },
    {
      "cell_type": "code",
      "source": [
        "# --- Train the model ---\n",
        "training_history = composer_cnn_model.fit(\n",
        "    x_train_all, y_train_all_encoded,\n",
        "    epochs=10, batch_size=32,\n",
        "    validation_data=(x_test_all, y_test_all_encoded)\n",
        ")"
      ],
      "metadata": {
        "colab": {
          "base_uri": "https://localhost:8080/"
        },
        "id": "d75gzE_dCHyI",
        "outputId": "75b27939-aac0-4698-b9b0-8e5c38019e74"
      },
      "execution_count": 47,
      "outputs": [
        {
          "output_type": "stream",
          "name": "stdout",
          "text": [
            "Epoch 1/10\n",
            "\u001b[1m14/14\u001b[0m \u001b[32m━━━━━━━━━━━━━━━━━━━━\u001b[0m\u001b[37m\u001b[0m \u001b[1m17s\u001b[0m 1s/step - accuracy: 0.5606 - loss: 0.9187 - val_accuracy: 1.0000 - val_loss: 0.0083\n",
            "Epoch 2/10\n",
            "\u001b[1m14/14\u001b[0m \u001b[32m━━━━━━━━━━━━━━━━━━━━\u001b[0m\u001b[37m\u001b[0m \u001b[1m22s\u001b[0m 1s/step - accuracy: 1.0000 - loss: 0.0051 - val_accuracy: 1.0000 - val_loss: 0.0012\n",
            "Epoch 3/10\n",
            "\u001b[1m14/14\u001b[0m \u001b[32m━━━━━━━━━━━━━━━━━━━━\u001b[0m\u001b[37m\u001b[0m \u001b[1m20s\u001b[0m 1s/step - accuracy: 1.0000 - loss: 6.5534e-04 - val_accuracy: 1.0000 - val_loss: 2.8111e-05\n",
            "Epoch 4/10\n",
            "\u001b[1m14/14\u001b[0m \u001b[32m━━━━━━━━━━━━━━━━━━━━\u001b[0m\u001b[37m\u001b[0m \u001b[1m19s\u001b[0m 956ms/step - accuracy: 1.0000 - loss: 3.4076e-05 - val_accuracy: 1.0000 - val_loss: 9.4460e-06\n",
            "Epoch 5/10\n",
            "\u001b[1m14/14\u001b[0m \u001b[32m━━━━━━━━━━━━━━━━━━━━\u001b[0m\u001b[37m\u001b[0m \u001b[1m22s\u001b[0m 1s/step - accuracy: 1.0000 - loss: 6.7272e-06 - val_accuracy: 1.0000 - val_loss: 5.2339e-06\n",
            "Epoch 6/10\n",
            "\u001b[1m14/14\u001b[0m \u001b[32m━━━━━━━━━━━━━━━━━━━━\u001b[0m\u001b[37m\u001b[0m \u001b[1m15s\u001b[0m 1s/step - accuracy: 1.0000 - loss: 1.9692e-06 - val_accuracy: 1.0000 - val_loss: 3.8303e-06\n",
            "Epoch 7/10\n",
            "\u001b[1m14/14\u001b[0m \u001b[32m━━━━━━━━━━━━━━━━━━━━\u001b[0m\u001b[37m\u001b[0m \u001b[1m14s\u001b[0m 1s/step - accuracy: 1.0000 - loss: 1.7520e-06 - val_accuracy: 1.0000 - val_loss: 3.2078e-06\n",
            "Epoch 8/10\n",
            "\u001b[1m14/14\u001b[0m \u001b[32m━━━━━━━━━━━━━━━━━━━━\u001b[0m\u001b[37m\u001b[0m \u001b[1m19s\u001b[0m 952ms/step - accuracy: 1.0000 - loss: 1.3958e-06 - val_accuracy: 1.0000 - val_loss: 2.7342e-06\n",
            "Epoch 9/10\n",
            "\u001b[1m14/14\u001b[0m \u001b[32m━━━━━━━━━━━━━━━━━━━━\u001b[0m\u001b[37m\u001b[0m \u001b[1m14s\u001b[0m 1s/step - accuracy: 1.0000 - loss: 1.6260e-06 - val_accuracy: 1.0000 - val_loss: 2.3809e-06\n",
            "Epoch 10/10\n",
            "\u001b[1m14/14\u001b[0m \u001b[32m━━━━━━━━━━━━━━━━━━━━\u001b[0m\u001b[37m\u001b[0m \u001b[1m19s\u001b[0m 887ms/step - accuracy: 1.0000 - loss: 1.1127e-06 - val_accuracy: 1.0000 - val_loss: 2.1701e-06\n"
          ]
        }
      ]
    },
    {
      "cell_type": "code",
      "source": [
        "# --- Evaluation ---\n",
        "test_loss, test_accuracy = composer_cnn_model.evaluate(x_test_all, y_test_all_encoded)\n",
        "print(f\"Test accuracy: {test_accuracy}\")"
      ],
      "metadata": {
        "colab": {
          "base_uri": "https://localhost:8080/"
        },
        "id": "EVmI30FlCU0J",
        "outputId": "88ded2a4-6e07-4c4f-cad9-fb9e57ead70e"
      },
      "execution_count": 48,
      "outputs": [
        {
          "output_type": "stream",
          "name": "stdout",
          "text": [
            "\u001b[1m4/4\u001b[0m \u001b[32m━━━━━━━━━━━━━━━━━━━━\u001b[0m\u001b[37m\u001b[0m \u001b[1m1s\u001b[0m 186ms/step - accuracy: 1.0000 - loss: 2.1789e-06\n",
            "Test accuracy: 1.0\n"
          ]
        }
      ]
    },
    {
      "cell_type": "code",
      "source": [
        "# --- Prediction & classification report ---\n",
        "predictions = composer_cnn_model.predict(x_test_all)\n",
        "predicted_classes = np.argmax(predictions, axis=1)\n",
        "\n",
        "print(\"\\n=== Expected labels ===\")\n",
        "print(y_test_all_encoded)\n",
        "print(\"\\n=== Predicted labels ===\")\n",
        "print(predicted_classes)\n",
        "\n",
        "print(\"\\n=== Classification Report ===\")\n",
        "print(classification_report(y_test_all_encoded, predicted_classes))"
      ],
      "metadata": {
        "colab": {
          "base_uri": "https://localhost:8080/"
        },
        "id": "GYiRVbUFCXfD",
        "outputId": "fb6b3242-8e07-49f9-eef2-e3615367fe1c"
      },
      "execution_count": 49,
      "outputs": [
        {
          "output_type": "stream",
          "name": "stdout",
          "text": [
            "\u001b[1m4/4\u001b[0m \u001b[32m━━━━━━━━━━━━━━━━━━━━\u001b[0m\u001b[37m\u001b[0m \u001b[1m1s\u001b[0m 200ms/step\n",
            "\n",
            "=== Expected labels ===\n",
            "[0 0 0 0 0 0 0 0 0 0 0 0 0 0 0 0 0 0 0 0 0 0 0 0 0 0 0 0 1 1 1 1 1 1 1 1 1\n",
            " 1 1 1 1 1 1 1 1 1 1 1 1 1 1 1 1 1 1 1 2 2 2 2 2 2 2 2 2 2 2 2 2 2 2 2 2 2\n",
            " 2 2 2 2 2 2 2 2 2 2 3 3 3 3 3 3 3 3 3 3 3 3 3 3 3 3 3 3 3 3 3 3 3 3 3 3 3\n",
            " 3]\n",
            "\n",
            "=== Predicted labels ===\n",
            "[0 0 0 0 0 0 0 0 0 0 0 0 0 0 0 0 0 0 0 0 0 0 0 0 0 0 0 0 1 1 1 1 1 1 1 1 1\n",
            " 1 1 1 1 1 1 1 1 1 1 1 1 1 1 1 1 1 1 1 2 2 2 2 2 2 2 2 2 2 2 2 2 2 2 2 2 2\n",
            " 2 2 2 2 2 2 2 2 2 2 3 3 3 3 3 3 3 3 3 3 3 3 3 3 3 3 3 3 3 3 3 3 3 3 3 3 3\n",
            " 3]\n",
            "\n",
            "=== Classification Report ===\n",
            "              precision    recall  f1-score   support\n",
            "\n",
            "           0       1.00      1.00      1.00        28\n",
            "           1       1.00      1.00      1.00        28\n",
            "           2       1.00      1.00      1.00        28\n",
            "           3       1.00      1.00      1.00        28\n",
            "\n",
            "    accuracy                           1.00       112\n",
            "   macro avg       1.00      1.00      1.00       112\n",
            "weighted avg       1.00      1.00      1.00       112\n",
            "\n"
          ]
        }
      ]
    },
    {
      "cell_type": "code",
      "source": [
        "import tensorflow as tf\n",
        "from tensorflow.keras.models import Sequential\n",
        "from tensorflow.keras.layers import Conv2D, MaxPooling2D, Flatten, Dense\n",
        "from sklearn.metrics import classification_report\n",
        "\n",
        "num_composers = 4  # Number of output classes\n",
        "\n",
        "# Define CNN architecture\n",
        "composer_cnn = Sequential([\n",
        "    Conv2D(32, (3, 3), activation='relu', input_shape=(168, 85, 1)),\n",
        "    MaxPooling2D((2, 2)),\n",
        "    Flatten(),\n",
        "    Dense(64, activation='relu'),\n",
        "    Dense(num_composers, activation='softmax')  # Output layer with softmax activation\n",
        "])\n"
      ],
      "metadata": {
        "id": "P0hL2d_gEynD"
      },
      "execution_count": 50,
      "outputs": []
    },
    {
      "cell_type": "code",
      "source": [
        "# Compile model with optimizer, loss, and metric\n",
        "composer_cnn.compile(\n",
        "    optimizer='adam',\n",
        "    loss='sparse_categorical_crossentropy',\n",
        "    metrics=['accuracy']\n",
        ")\n",
        "\n",
        "# Print model architecture summary\n",
        "composer_cnn.summary()"
      ],
      "metadata": {
        "colab": {
          "base_uri": "https://localhost:8080/",
          "height": 295
        },
        "id": "SeMN7W-NEz67",
        "outputId": "0aacb313-e15f-4dc8-c49f-629272ad25c1"
      },
      "execution_count": 51,
      "outputs": [
        {
          "output_type": "display_data",
          "data": {
            "text/plain": [
              "\u001b[1mModel: \"sequential_3\"\u001b[0m\n"
            ],
            "text/html": [
              "<pre style=\"white-space:pre;overflow-x:auto;line-height:normal;font-family:Menlo,'DejaVu Sans Mono',consolas,'Courier New',monospace\"><span style=\"font-weight: bold\">Model: \"sequential_3\"</span>\n",
              "</pre>\n"
            ]
          },
          "metadata": {}
        },
        {
          "output_type": "display_data",
          "data": {
            "text/plain": [
              "┏━━━━━━━━━━━━━━━━━━━━━━━━━━━━━━━━━┳━━━━━━━━━━━━━━━━━━━━━━━━┳━━━━━━━━━━━━━━━┓\n",
              "┃\u001b[1m \u001b[0m\u001b[1mLayer (type)                   \u001b[0m\u001b[1m \u001b[0m┃\u001b[1m \u001b[0m\u001b[1mOutput Shape          \u001b[0m\u001b[1m \u001b[0m┃\u001b[1m \u001b[0m\u001b[1m      Param #\u001b[0m\u001b[1m \u001b[0m┃\n",
              "┡━━━━━━━━━━━━━━━━━━━━━━━━━━━━━━━━━╇━━━━━━━━━━━━━━━━━━━━━━━━╇━━━━━━━━━━━━━━━┩\n",
              "│ conv2d_9 (\u001b[38;5;33mConv2D\u001b[0m)               │ (\u001b[38;5;45mNone\u001b[0m, \u001b[38;5;34m166\u001b[0m, \u001b[38;5;34m83\u001b[0m, \u001b[38;5;34m32\u001b[0m)    │           \u001b[38;5;34m320\u001b[0m │\n",
              "├─────────────────────────────────┼────────────────────────┼───────────────┤\n",
              "│ max_pooling2d_6 (\u001b[38;5;33mMaxPooling2D\u001b[0m)  │ (\u001b[38;5;45mNone\u001b[0m, \u001b[38;5;34m83\u001b[0m, \u001b[38;5;34m41\u001b[0m, \u001b[38;5;34m32\u001b[0m)     │             \u001b[38;5;34m0\u001b[0m │\n",
              "├─────────────────────────────────┼────────────────────────┼───────────────┤\n",
              "│ flatten_3 (\u001b[38;5;33mFlatten\u001b[0m)             │ (\u001b[38;5;45mNone\u001b[0m, \u001b[38;5;34m108896\u001b[0m)         │             \u001b[38;5;34m0\u001b[0m │\n",
              "├─────────────────────────────────┼────────────────────────┼───────────────┤\n",
              "│ dense_6 (\u001b[38;5;33mDense\u001b[0m)                 │ (\u001b[38;5;45mNone\u001b[0m, \u001b[38;5;34m64\u001b[0m)             │     \u001b[38;5;34m6,969,408\u001b[0m │\n",
              "├─────────────────────────────────┼────────────────────────┼───────────────┤\n",
              "│ dense_7 (\u001b[38;5;33mDense\u001b[0m)                 │ (\u001b[38;5;45mNone\u001b[0m, \u001b[38;5;34m4\u001b[0m)              │           \u001b[38;5;34m260\u001b[0m │\n",
              "└─────────────────────────────────┴────────────────────────┴───────────────┘\n"
            ],
            "text/html": [
              "<pre style=\"white-space:pre;overflow-x:auto;line-height:normal;font-family:Menlo,'DejaVu Sans Mono',consolas,'Courier New',monospace\">┏━━━━━━━━━━━━━━━━━━━━━━━━━━━━━━━━━┳━━━━━━━━━━━━━━━━━━━━━━━━┳━━━━━━━━━━━━━━━┓\n",
              "┃<span style=\"font-weight: bold\"> Layer (type)                    </span>┃<span style=\"font-weight: bold\"> Output Shape           </span>┃<span style=\"font-weight: bold\">       Param # </span>┃\n",
              "┡━━━━━━━━━━━━━━━━━━━━━━━━━━━━━━━━━╇━━━━━━━━━━━━━━━━━━━━━━━━╇━━━━━━━━━━━━━━━┩\n",
              "│ conv2d_9 (<span style=\"color: #0087ff; text-decoration-color: #0087ff\">Conv2D</span>)               │ (<span style=\"color: #00d7ff; text-decoration-color: #00d7ff\">None</span>, <span style=\"color: #00af00; text-decoration-color: #00af00\">166</span>, <span style=\"color: #00af00; text-decoration-color: #00af00\">83</span>, <span style=\"color: #00af00; text-decoration-color: #00af00\">32</span>)    │           <span style=\"color: #00af00; text-decoration-color: #00af00\">320</span> │\n",
              "├─────────────────────────────────┼────────────────────────┼───────────────┤\n",
              "│ max_pooling2d_6 (<span style=\"color: #0087ff; text-decoration-color: #0087ff\">MaxPooling2D</span>)  │ (<span style=\"color: #00d7ff; text-decoration-color: #00d7ff\">None</span>, <span style=\"color: #00af00; text-decoration-color: #00af00\">83</span>, <span style=\"color: #00af00; text-decoration-color: #00af00\">41</span>, <span style=\"color: #00af00; text-decoration-color: #00af00\">32</span>)     │             <span style=\"color: #00af00; text-decoration-color: #00af00\">0</span> │\n",
              "├─────────────────────────────────┼────────────────────────┼───────────────┤\n",
              "│ flatten_3 (<span style=\"color: #0087ff; text-decoration-color: #0087ff\">Flatten</span>)             │ (<span style=\"color: #00d7ff; text-decoration-color: #00d7ff\">None</span>, <span style=\"color: #00af00; text-decoration-color: #00af00\">108896</span>)         │             <span style=\"color: #00af00; text-decoration-color: #00af00\">0</span> │\n",
              "├─────────────────────────────────┼────────────────────────┼───────────────┤\n",
              "│ dense_6 (<span style=\"color: #0087ff; text-decoration-color: #0087ff\">Dense</span>)                 │ (<span style=\"color: #00d7ff; text-decoration-color: #00d7ff\">None</span>, <span style=\"color: #00af00; text-decoration-color: #00af00\">64</span>)             │     <span style=\"color: #00af00; text-decoration-color: #00af00\">6,969,408</span> │\n",
              "├─────────────────────────────────┼────────────────────────┼───────────────┤\n",
              "│ dense_7 (<span style=\"color: #0087ff; text-decoration-color: #0087ff\">Dense</span>)                 │ (<span style=\"color: #00d7ff; text-decoration-color: #00d7ff\">None</span>, <span style=\"color: #00af00; text-decoration-color: #00af00\">4</span>)              │           <span style=\"color: #00af00; text-decoration-color: #00af00\">260</span> │\n",
              "└─────────────────────────────────┴────────────────────────┴───────────────┘\n",
              "</pre>\n"
            ]
          },
          "metadata": {}
        },
        {
          "output_type": "display_data",
          "data": {
            "text/plain": [
              "\u001b[1m Total params: \u001b[0m\u001b[38;5;34m6,969,988\u001b[0m (26.59 MB)\n"
            ],
            "text/html": [
              "<pre style=\"white-space:pre;overflow-x:auto;line-height:normal;font-family:Menlo,'DejaVu Sans Mono',consolas,'Courier New',monospace\"><span style=\"font-weight: bold\"> Total params: </span><span style=\"color: #00af00; text-decoration-color: #00af00\">6,969,988</span> (26.59 MB)\n",
              "</pre>\n"
            ]
          },
          "metadata": {}
        },
        {
          "output_type": "display_data",
          "data": {
            "text/plain": [
              "\u001b[1m Trainable params: \u001b[0m\u001b[38;5;34m6,969,988\u001b[0m (26.59 MB)\n"
            ],
            "text/html": [
              "<pre style=\"white-space:pre;overflow-x:auto;line-height:normal;font-family:Menlo,'DejaVu Sans Mono',consolas,'Courier New',monospace\"><span style=\"font-weight: bold\"> Trainable params: </span><span style=\"color: #00af00; text-decoration-color: #00af00\">6,969,988</span> (26.59 MB)\n",
              "</pre>\n"
            ]
          },
          "metadata": {}
        },
        {
          "output_type": "display_data",
          "data": {
            "text/plain": [
              "\u001b[1m Non-trainable params: \u001b[0m\u001b[38;5;34m0\u001b[0m (0.00 B)\n"
            ],
            "text/html": [
              "<pre style=\"white-space:pre;overflow-x:auto;line-height:normal;font-family:Menlo,'DejaVu Sans Mono',consolas,'Courier New',monospace\"><span style=\"font-weight: bold\"> Non-trainable params: </span><span style=\"color: #00af00; text-decoration-color: #00af00\">0</span> (0.00 B)\n",
              "</pre>\n"
            ]
          },
          "metadata": {}
        }
      ]
    },
    {
      "cell_type": "code",
      "source": [
        "# Train the model\n",
        "training_history = composer_cnn.fit(\n",
        "    x_train_all, y_train_all_encoded,\n",
        "    epochs=5,\n",
        "    batch_size=10,\n",
        "    validation_data=(x_test_all, y_test_all_encoded)\n",
        ")"
      ],
      "metadata": {
        "colab": {
          "base_uri": "https://localhost:8080/"
        },
        "id": "l72dDGpnE4VE",
        "outputId": "97bf674c-3ab9-4e71-ffad-db9fa4bccdd5"
      },
      "execution_count": 52,
      "outputs": [
        {
          "output_type": "stream",
          "name": "stdout",
          "text": [
            "Epoch 1/5\n",
            "\u001b[1m44/44\u001b[0m \u001b[32m━━━━━━━━━━━━━━━━━━━━\u001b[0m\u001b[37m\u001b[0m \u001b[1m8s\u001b[0m 142ms/step - accuracy: 0.7982 - loss: 1.0529 - val_accuracy: 0.9821 - val_loss: 0.0530\n",
            "Epoch 2/5\n",
            "\u001b[1m44/44\u001b[0m \u001b[32m━━━━━━━━━━━━━━━━━━━━\u001b[0m\u001b[37m\u001b[0m \u001b[1m12s\u001b[0m 194ms/step - accuracy: 0.9959 - loss: 0.0586 - val_accuracy: 0.9911 - val_loss: 0.0435\n",
            "Epoch 3/5\n",
            "\u001b[1m44/44\u001b[0m \u001b[32m━━━━━━━━━━━━━━━━━━━━\u001b[0m\u001b[37m\u001b[0m \u001b[1m12s\u001b[0m 247ms/step - accuracy: 0.9915 - loss: 0.0287 - val_accuracy: 0.9911 - val_loss: 0.0570\n",
            "Epoch 4/5\n",
            "\u001b[1m44/44\u001b[0m \u001b[32m━━━━━━━━━━━━━━━━━━━━\u001b[0m\u001b[37m\u001b[0m \u001b[1m18s\u001b[0m 191ms/step - accuracy: 0.9902 - loss: 0.0186 - val_accuracy: 0.9911 - val_loss: 0.0491\n",
            "Epoch 5/5\n",
            "\u001b[1m44/44\u001b[0m \u001b[32m━━━━━━━━━━━━━━━━━━━━\u001b[0m\u001b[37m\u001b[0m \u001b[1m9s\u001b[0m 158ms/step - accuracy: 0.9969 - loss: 0.0091 - val_accuracy: 0.9911 - val_loss: 0.0460\n"
          ]
        }
      ]
    },
    {
      "cell_type": "code",
      "source": [
        "# Evaluate on test data\n",
        "test_loss, test_accuracy = composer_cnn.evaluate(x_test_all, y_test_all_encoded)\n",
        "print(f\"Test accuracy: {test_accuracy:.4f}\")"
      ],
      "metadata": {
        "colab": {
          "base_uri": "https://localhost:8080/"
        },
        "id": "9i5W9Zt5E83t",
        "outputId": "b0187e34-0b49-4415-be31-4dfe6813958b"
      },
      "execution_count": 53,
      "outputs": [
        {
          "output_type": "stream",
          "name": "stdout",
          "text": [
            "\u001b[1m4/4\u001b[0m \u001b[32m━━━━━━━━━━━━━━━━━━━━\u001b[0m\u001b[37m\u001b[0m \u001b[1m0s\u001b[0m 81ms/step - accuracy: 0.9943 - loss: 0.0313\n",
            "Test accuracy: 0.9911\n"
          ]
        }
      ]
    },
    {
      "cell_type": "code",
      "source": [
        "# Generate predictions for test set\n",
        "test_predictions = composer_cnn.predict(x_test_all)\n",
        "predicted_labels = test_predictions.argmax(axis=1)"
      ],
      "metadata": {
        "colab": {
          "base_uri": "https://localhost:8080/"
        },
        "id": "De1kjHguFCds",
        "outputId": "8d4d249f-96d3-49b8-8c50-df179f28745c"
      },
      "execution_count": 54,
      "outputs": [
        {
          "output_type": "stream",
          "name": "stdout",
          "text": [
            "\u001b[1m4/4\u001b[0m \u001b[32m━━━━━━━━━━━━━━━━━━━━\u001b[0m\u001b[37m\u001b[0m \u001b[1m0s\u001b[0m 109ms/step\n"
          ]
        }
      ]
    },
    {
      "cell_type": "code",
      "source": [
        "print(\"\\n\" + \"=\"*40)\n",
        "print(\"        Expected Labels\")\n",
        "print(\"=\"*40)\n",
        "print(y_test_all_encoded)\n",
        "print(\"\\n\")\n",
        "\n",
        "print(\"=\"*40)\n",
        "print(\"        Predicted Labels\")\n",
        "print(\"=\"*40)\n",
        "print(predicted_labels)\n",
        "print(\"\\n\")\n",
        "\n",
        "# Print classification report\n",
        "classification_rep = classification_report(y_test_all_encoded, predicted_labels)\n",
        "print(\"=\"*40)\n",
        "print(\"      CLASSIFICATION REPORT\")\n",
        "print(\"=\"*40)\n",
        "print(classification_rep)"
      ],
      "metadata": {
        "colab": {
          "base_uri": "https://localhost:8080/"
        },
        "id": "_7kv-gzRFF7R",
        "outputId": "262f9171-e9e7-4357-cfbf-37489d891084"
      },
      "execution_count": 55,
      "outputs": [
        {
          "output_type": "stream",
          "name": "stdout",
          "text": [
            "\n",
            "========================================\n",
            "        Expected Labels\n",
            "========================================\n",
            "[0 0 0 0 0 0 0 0 0 0 0 0 0 0 0 0 0 0 0 0 0 0 0 0 0 0 0 0 1 1 1 1 1 1 1 1 1\n",
            " 1 1 1 1 1 1 1 1 1 1 1 1 1 1 1 1 1 1 1 2 2 2 2 2 2 2 2 2 2 2 2 2 2 2 2 2 2\n",
            " 2 2 2 2 2 2 2 2 2 2 3 3 3 3 3 3 3 3 3 3 3 3 3 3 3 3 3 3 3 3 3 3 3 3 3 3 3\n",
            " 3]\n",
            "\n",
            "\n",
            "========================================\n",
            "        Predicted Labels\n",
            "========================================\n",
            "[0 0 0 0 0 0 0 0 0 0 0 0 0 0 0 0 0 0 0 0 0 0 0 0 0 0 0 0 1 1 1 1 1 1 1 1 1\n",
            " 1 1 1 1 1 1 1 1 1 1 1 1 1 1 1 1 1 1 1 2 2 2 2 2 2 2 2 2 2 2 2 2 2 2 2 2 2\n",
            " 2 2 2 2 2 2 2 2 2 2 3 3 3 0 3 3 3 3 3 3 3 3 3 3 3 3 3 3 3 3 3 3 3 3 3 3 3\n",
            " 3]\n",
            "\n",
            "\n",
            "========================================\n",
            "      CLASSIFICATION REPORT\n",
            "========================================\n",
            "              precision    recall  f1-score   support\n",
            "\n",
            "           0       0.97      1.00      0.98        28\n",
            "           1       1.00      1.00      1.00        28\n",
            "           2       1.00      1.00      1.00        28\n",
            "           3       1.00      0.96      0.98        28\n",
            "\n",
            "    accuracy                           0.99       112\n",
            "   macro avg       0.99      0.99      0.99       112\n",
            "weighted avg       0.99      0.99      0.99       112\n",
            "\n"
          ]
        }
      ]
    },
    {
      "cell_type": "code",
      "execution_count": 56,
      "metadata": {
        "colab": {
          "base_uri": "https://localhost:8080/",
          "height": 328
        },
        "id": "opEbJEzMDepp",
        "outputId": "6e40f27b-5f0a-476f-de9b-8b956cee1ef7"
      },
      "outputs": [
        {
          "output_type": "display_data",
          "data": {
            "text/plain": [
              "\u001b[1mModel: \"sequential_4\"\u001b[0m\n"
            ],
            "text/html": [
              "<pre style=\"white-space:pre;overflow-x:auto;line-height:normal;font-family:Menlo,'DejaVu Sans Mono',consolas,'Courier New',monospace\"><span style=\"font-weight: bold\">Model: \"sequential_4\"</span>\n",
              "</pre>\n"
            ]
          },
          "metadata": {}
        },
        {
          "output_type": "display_data",
          "data": {
            "text/plain": [
              "┏━━━━━━━━━━━━━━━━━━━━━━━━━━━━━━━━━┳━━━━━━━━━━━━━━━━━━━━━━━━┳━━━━━━━━━━━━━━━┓\n",
              "┃\u001b[1m \u001b[0m\u001b[1mLayer (type)                   \u001b[0m\u001b[1m \u001b[0m┃\u001b[1m \u001b[0m\u001b[1mOutput Shape          \u001b[0m\u001b[1m \u001b[0m┃\u001b[1m \u001b[0m\u001b[1m      Param #\u001b[0m\u001b[1m \u001b[0m┃\n",
              "┡━━━━━━━━━━━━━━━━━━━━━━━━━━━━━━━━━╇━━━━━━━━━━━━━━━━━━━━━━━━╇━━━━━━━━━━━━━━━┩\n",
              "│ lstm (\u001b[38;5;33mLSTM\u001b[0m)                     │ (\u001b[38;5;45mNone\u001b[0m, \u001b[38;5;34m168\u001b[0m, \u001b[38;5;34m128\u001b[0m)       │       \u001b[38;5;34m109,568\u001b[0m │\n",
              "├─────────────────────────────────┼────────────────────────┼───────────────┤\n",
              "│ dropout (\u001b[38;5;33mDropout\u001b[0m)               │ (\u001b[38;5;45mNone\u001b[0m, \u001b[38;5;34m168\u001b[0m, \u001b[38;5;34m128\u001b[0m)       │             \u001b[38;5;34m0\u001b[0m │\n",
              "├─────────────────────────────────┼────────────────────────┼───────────────┤\n",
              "│ lstm_1 (\u001b[38;5;33mLSTM\u001b[0m)                   │ (\u001b[38;5;45mNone\u001b[0m, \u001b[38;5;34m128\u001b[0m)            │       \u001b[38;5;34m131,584\u001b[0m │\n",
              "├─────────────────────────────────┼────────────────────────┼───────────────┤\n",
              "│ dropout_1 (\u001b[38;5;33mDropout\u001b[0m)             │ (\u001b[38;5;45mNone\u001b[0m, \u001b[38;5;34m128\u001b[0m)            │             \u001b[38;5;34m0\u001b[0m │\n",
              "├─────────────────────────────────┼────────────────────────┼───────────────┤\n",
              "│ dense_8 (\u001b[38;5;33mDense\u001b[0m)                 │ (\u001b[38;5;45mNone\u001b[0m, \u001b[38;5;34m64\u001b[0m)             │         \u001b[38;5;34m8,256\u001b[0m │\n",
              "├─────────────────────────────────┼────────────────────────┼───────────────┤\n",
              "│ dense_9 (\u001b[38;5;33mDense\u001b[0m)                 │ (\u001b[38;5;45mNone\u001b[0m, \u001b[38;5;34m4\u001b[0m)              │           \u001b[38;5;34m260\u001b[0m │\n",
              "└─────────────────────────────────┴────────────────────────┴───────────────┘\n"
            ],
            "text/html": [
              "<pre style=\"white-space:pre;overflow-x:auto;line-height:normal;font-family:Menlo,'DejaVu Sans Mono',consolas,'Courier New',monospace\">┏━━━━━━━━━━━━━━━━━━━━━━━━━━━━━━━━━┳━━━━━━━━━━━━━━━━━━━━━━━━┳━━━━━━━━━━━━━━━┓\n",
              "┃<span style=\"font-weight: bold\"> Layer (type)                    </span>┃<span style=\"font-weight: bold\"> Output Shape           </span>┃<span style=\"font-weight: bold\">       Param # </span>┃\n",
              "┡━━━━━━━━━━━━━━━━━━━━━━━━━━━━━━━━━╇━━━━━━━━━━━━━━━━━━━━━━━━╇━━━━━━━━━━━━━━━┩\n",
              "│ lstm (<span style=\"color: #0087ff; text-decoration-color: #0087ff\">LSTM</span>)                     │ (<span style=\"color: #00d7ff; text-decoration-color: #00d7ff\">None</span>, <span style=\"color: #00af00; text-decoration-color: #00af00\">168</span>, <span style=\"color: #00af00; text-decoration-color: #00af00\">128</span>)       │       <span style=\"color: #00af00; text-decoration-color: #00af00\">109,568</span> │\n",
              "├─────────────────────────────────┼────────────────────────┼───────────────┤\n",
              "│ dropout (<span style=\"color: #0087ff; text-decoration-color: #0087ff\">Dropout</span>)               │ (<span style=\"color: #00d7ff; text-decoration-color: #00d7ff\">None</span>, <span style=\"color: #00af00; text-decoration-color: #00af00\">168</span>, <span style=\"color: #00af00; text-decoration-color: #00af00\">128</span>)       │             <span style=\"color: #00af00; text-decoration-color: #00af00\">0</span> │\n",
              "├─────────────────────────────────┼────────────────────────┼───────────────┤\n",
              "│ lstm_1 (<span style=\"color: #0087ff; text-decoration-color: #0087ff\">LSTM</span>)                   │ (<span style=\"color: #00d7ff; text-decoration-color: #00d7ff\">None</span>, <span style=\"color: #00af00; text-decoration-color: #00af00\">128</span>)            │       <span style=\"color: #00af00; text-decoration-color: #00af00\">131,584</span> │\n",
              "├─────────────────────────────────┼────────────────────────┼───────────────┤\n",
              "│ dropout_1 (<span style=\"color: #0087ff; text-decoration-color: #0087ff\">Dropout</span>)             │ (<span style=\"color: #00d7ff; text-decoration-color: #00d7ff\">None</span>, <span style=\"color: #00af00; text-decoration-color: #00af00\">128</span>)            │             <span style=\"color: #00af00; text-decoration-color: #00af00\">0</span> │\n",
              "├─────────────────────────────────┼────────────────────────┼───────────────┤\n",
              "│ dense_8 (<span style=\"color: #0087ff; text-decoration-color: #0087ff\">Dense</span>)                 │ (<span style=\"color: #00d7ff; text-decoration-color: #00d7ff\">None</span>, <span style=\"color: #00af00; text-decoration-color: #00af00\">64</span>)             │         <span style=\"color: #00af00; text-decoration-color: #00af00\">8,256</span> │\n",
              "├─────────────────────────────────┼────────────────────────┼───────────────┤\n",
              "│ dense_9 (<span style=\"color: #0087ff; text-decoration-color: #0087ff\">Dense</span>)                 │ (<span style=\"color: #00d7ff; text-decoration-color: #00d7ff\">None</span>, <span style=\"color: #00af00; text-decoration-color: #00af00\">4</span>)              │           <span style=\"color: #00af00; text-decoration-color: #00af00\">260</span> │\n",
              "└─────────────────────────────────┴────────────────────────┴───────────────┘\n",
              "</pre>\n"
            ]
          },
          "metadata": {}
        },
        {
          "output_type": "display_data",
          "data": {
            "text/plain": [
              "\u001b[1m Total params: \u001b[0m\u001b[38;5;34m249,668\u001b[0m (975.27 KB)\n"
            ],
            "text/html": [
              "<pre style=\"white-space:pre;overflow-x:auto;line-height:normal;font-family:Menlo,'DejaVu Sans Mono',consolas,'Courier New',monospace\"><span style=\"font-weight: bold\"> Total params: </span><span style=\"color: #00af00; text-decoration-color: #00af00\">249,668</span> (975.27 KB)\n",
              "</pre>\n"
            ]
          },
          "metadata": {}
        },
        {
          "output_type": "display_data",
          "data": {
            "text/plain": [
              "\u001b[1m Trainable params: \u001b[0m\u001b[38;5;34m249,668\u001b[0m (975.27 KB)\n"
            ],
            "text/html": [
              "<pre style=\"white-space:pre;overflow-x:auto;line-height:normal;font-family:Menlo,'DejaVu Sans Mono',consolas,'Courier New',monospace\"><span style=\"font-weight: bold\"> Trainable params: </span><span style=\"color: #00af00; text-decoration-color: #00af00\">249,668</span> (975.27 KB)\n",
              "</pre>\n"
            ]
          },
          "metadata": {}
        },
        {
          "output_type": "display_data",
          "data": {
            "text/plain": [
              "\u001b[1m Non-trainable params: \u001b[0m\u001b[38;5;34m0\u001b[0m (0.00 B)\n"
            ],
            "text/html": [
              "<pre style=\"white-space:pre;overflow-x:auto;line-height:normal;font-family:Menlo,'DejaVu Sans Mono',consolas,'Courier New',monospace\"><span style=\"font-weight: bold\"> Non-trainable params: </span><span style=\"color: #00af00; text-decoration-color: #00af00\">0</span> (0.00 B)\n",
              "</pre>\n"
            ]
          },
          "metadata": {}
        }
      ],
      "source": [
        "import numpy as np\n",
        "from tensorflow.keras.models import Sequential\n",
        "from tensorflow.keras.layers import LSTM, Dense, Dropout\n",
        "from sklearn.metrics import classification_report\n",
        "\n",
        "# Define input data dimensions\n",
        "sequence_length = 168  # number of time steps per sample\n",
        "feature_dim = 85       # features per time step\n",
        "num_composers = 4      # output classes (e.g., 4 composers)\n",
        "\n",
        "# Build LSTM model architecture\n",
        "composer_lstm_model = Sequential([\n",
        "    LSTM(128, input_shape=(sequence_length, feature_dim), return_sequences=True),\n",
        "    Dropout(0.2),\n",
        "    LSTM(128),\n",
        "    Dropout(0.2),\n",
        "    Dense(64, activation='relu'),\n",
        "    Dense(num_composers, activation='softmax')\n",
        "])\n",
        "\n",
        "# Compile the model\n",
        "composer_lstm_model.compile(\n",
        "    optimizer='adam',\n",
        "    loss='sparse_categorical_crossentropy',\n",
        "    metrics=['accuracy']\n",
        ")\n",
        "\n",
        "# Display model summary\n",
        "composer_lstm_model.summary()"
      ]
    },
    {
      "cell_type": "code",
      "execution_count": 57,
      "metadata": {
        "colab": {
          "base_uri": "https://localhost:8080/"
        },
        "id": "S205nl4iDepp",
        "outputId": "e5d01602-a0f9-417c-ca3c-00b0f1368a4e"
      },
      "outputs": [
        {
          "output_type": "stream",
          "name": "stdout",
          "text": [
            "Epoch 1/20\n",
            "\u001b[1m14/14\u001b[0m \u001b[32m━━━━━━━━━━━━━━━━━━━━\u001b[0m\u001b[37m\u001b[0m \u001b[1m14s\u001b[0m 662ms/step - accuracy: 0.4033 - loss: 1.2915 - val_accuracy: 0.5000 - val_loss: 0.9927\n",
            "Epoch 2/20\n",
            "\u001b[1m14/14\u001b[0m \u001b[32m━━━━━━━━━━━━━━━━━━━━\u001b[0m\u001b[37m\u001b[0m \u001b[1m9s\u001b[0m 676ms/step - accuracy: 0.4957 - loss: 0.9473 - val_accuracy: 0.5000 - val_loss: 0.8516\n",
            "Epoch 3/20\n",
            "\u001b[1m14/14\u001b[0m \u001b[32m━━━━━━━━━━━━━━━━━━━━\u001b[0m\u001b[37m\u001b[0m \u001b[1m8s\u001b[0m 495ms/step - accuracy: 0.4659 - loss: 0.8784 - val_accuracy: 0.6964 - val_loss: 0.8954\n",
            "Epoch 4/20\n",
            "\u001b[1m14/14\u001b[0m \u001b[32m━━━━━━━━━━━━━━━━━━━━\u001b[0m\u001b[37m\u001b[0m \u001b[1m11s\u001b[0m 550ms/step - accuracy: 0.5980 - loss: 0.8436 - val_accuracy: 0.7054 - val_loss: 0.7187\n",
            "Epoch 5/20\n",
            "\u001b[1m14/14\u001b[0m \u001b[32m━━━━━━━━━━━━━━━━━━━━\u001b[0m\u001b[37m\u001b[0m \u001b[1m9s\u001b[0m 680ms/step - accuracy: 0.6356 - loss: 0.8295 - val_accuracy: 0.5000 - val_loss: 0.9380\n",
            "Epoch 6/20\n",
            "\u001b[1m14/14\u001b[0m \u001b[32m━━━━━━━━━━━━━━━━━━━━\u001b[0m\u001b[37m\u001b[0m \u001b[1m9s\u001b[0m 563ms/step - accuracy: 0.4887 - loss: 0.9735 - val_accuracy: 0.5000 - val_loss: 0.9037\n",
            "Epoch 7/20\n",
            "\u001b[1m14/14\u001b[0m \u001b[32m━━━━━━━━━━━━━━━━━━━━\u001b[0m\u001b[37m\u001b[0m \u001b[1m10s\u001b[0m 547ms/step - accuracy: 0.5407 - loss: 0.8670 - val_accuracy: 0.5000 - val_loss: 0.8429\n",
            "Epoch 8/20\n",
            "\u001b[1m14/14\u001b[0m \u001b[32m━━━━━━━━━━━━━━━━━━━━\u001b[0m\u001b[37m\u001b[0m \u001b[1m10s\u001b[0m 704ms/step - accuracy: 0.4855 - loss: 0.8607 - val_accuracy: 0.5000 - val_loss: 0.8275\n",
            "Epoch 9/20\n",
            "\u001b[1m14/14\u001b[0m \u001b[32m━━━━━━━━━━━━━━━━━━━━\u001b[0m\u001b[37m\u001b[0m \u001b[1m8s\u001b[0m 501ms/step - accuracy: 0.4921 - loss: 0.8149 - val_accuracy: 0.5000 - val_loss: 0.8277\n",
            "Epoch 10/20\n",
            "\u001b[1m14/14\u001b[0m \u001b[32m━━━━━━━━━━━━━━━━━━━━\u001b[0m\u001b[37m\u001b[0m \u001b[1m12s\u001b[0m 658ms/step - accuracy: 0.4867 - loss: 0.8532 - val_accuracy: 0.5000 - val_loss: 0.8254\n",
            "Epoch 11/20\n",
            "\u001b[1m14/14\u001b[0m \u001b[32m━━━━━━━━━━━━━━━━━━━━\u001b[0m\u001b[37m\u001b[0m \u001b[1m9s\u001b[0m 647ms/step - accuracy: 0.5055 - loss: 0.8223 - val_accuracy: 0.5000 - val_loss: 0.8264\n",
            "Epoch 12/20\n",
            "\u001b[1m14/14\u001b[0m \u001b[32m━━━━━━━━━━━━━━━━━━━━\u001b[0m\u001b[37m\u001b[0m \u001b[1m10s\u001b[0m 683ms/step - accuracy: 0.5056 - loss: 0.8376 - val_accuracy: 0.5000 - val_loss: 0.8257\n",
            "Epoch 13/20\n",
            "\u001b[1m14/14\u001b[0m \u001b[32m━━━━━━━━━━━━━━━━━━━━\u001b[0m\u001b[37m\u001b[0m \u001b[1m8s\u001b[0m 494ms/step - accuracy: 0.5222 - loss: 0.8209 - val_accuracy: 0.5000 - val_loss: 0.8253\n",
            "Epoch 14/20\n",
            "\u001b[1m14/14\u001b[0m \u001b[32m━━━━━━━━━━━━━━━━━━━━\u001b[0m\u001b[37m\u001b[0m \u001b[1m9s\u001b[0m 646ms/step - accuracy: 0.5113 - loss: 0.8195 - val_accuracy: 0.5000 - val_loss: 0.8256\n",
            "Epoch 15/20\n",
            "\u001b[1m14/14\u001b[0m \u001b[32m━━━━━━━━━━━━━━━━━━━━\u001b[0m\u001b[37m\u001b[0m \u001b[1m8s\u001b[0m 556ms/step - accuracy: 0.5248 - loss: 0.7643 - val_accuracy: 0.5000 - val_loss: 0.8256\n",
            "Epoch 16/20\n",
            "\u001b[1m14/14\u001b[0m \u001b[32m━━━━━━━━━━━━━━━━━━━━\u001b[0m\u001b[37m\u001b[0m \u001b[1m10s\u001b[0m 516ms/step - accuracy: 0.5302 - loss: 0.8046 - val_accuracy: 0.5000 - val_loss: 0.8272\n",
            "Epoch 17/20\n",
            "\u001b[1m14/14\u001b[0m \u001b[32m━━━━━━━━━━━━━━━━━━━━\u001b[0m\u001b[37m\u001b[0m \u001b[1m11s\u001b[0m 551ms/step - accuracy: 0.5009 - loss: 0.8283 - val_accuracy: 0.5000 - val_loss: 0.8253\n",
            "Epoch 18/20\n",
            "\u001b[1m14/14\u001b[0m \u001b[32m━━━━━━━━━━━━━━━━━━━━\u001b[0m\u001b[37m\u001b[0m \u001b[1m9s\u001b[0m 641ms/step - accuracy: 0.4398 - loss: 0.8313 - val_accuracy: 0.5000 - val_loss: 0.8254\n",
            "Epoch 19/20\n",
            "\u001b[1m14/14\u001b[0m \u001b[32m━━━━━━━━━━━━━━━━━━━━\u001b[0m\u001b[37m\u001b[0m \u001b[1m7s\u001b[0m 506ms/step - accuracy: 0.5181 - loss: 0.8270 - val_accuracy: 0.5000 - val_loss: 0.8251\n",
            "Epoch 20/20\n",
            "\u001b[1m14/14\u001b[0m \u001b[32m━━━━━━━━━━━━━━━━━━━━\u001b[0m\u001b[37m\u001b[0m \u001b[1m12s\u001b[0m 601ms/step - accuracy: 0.4804 - loss: 0.8343 - val_accuracy: 0.5000 - val_loss: 0.8255\n"
          ]
        }
      ],
      "source": [
        "# Train model for 20 epochs with batch size 32\n",
        "training_history = composer_lstm_model.fit(\n",
        "    x_train_all, y_train_all_encoded,\n",
        "    epochs=20,\n",
        "    batch_size=32,\n",
        "    validation_data=(x_test_all, y_test_all_encoded)\n",
        ")"
      ]
    },
    {
      "cell_type": "code",
      "execution_count": 58,
      "metadata": {
        "colab": {
          "base_uri": "https://localhost:8080/"
        },
        "id": "1fnCrtAyDepp",
        "outputId": "70f04e48-3534-4a9c-bc68-194caaeaa67d"
      },
      "outputs": [
        {
          "output_type": "stream",
          "name": "stdout",
          "text": [
            "\u001b[1m4/4\u001b[0m \u001b[32m━━━━━━━━━━━━━━━━━━━━\u001b[0m\u001b[37m\u001b[0m \u001b[1m1s\u001b[0m 136ms/step - accuracy: 0.4542 - loss: 0.7970\n",
            "Test accuracy: 0.5000\n"
          ]
        }
      ],
      "source": [
        "# Evaluate the model on test set\n",
        "test_loss, test_accuracy = composer_lstm_model.evaluate(x_test_all, y_test_all_encoded)\n",
        "print(f\"Test accuracy: {test_accuracy:.4f}\")"
      ]
    },
    {
      "cell_type": "code",
      "source": [
        "# Perform predictions on test set\n",
        "test_predictions = composer_lstm_model.predict(x_test_all)\n",
        "predicted_labels = np.argmax(test_predictions, axis=1)"
      ],
      "metadata": {
        "colab": {
          "base_uri": "https://localhost:8080/"
        },
        "id": "nknGJA1OGyYf",
        "outputId": "b8c1e2d0-b018-4842-8aed-626a7b57b60a"
      },
      "execution_count": 59,
      "outputs": [
        {
          "output_type": "stream",
          "name": "stderr",
          "text": [
            "WARNING:tensorflow:5 out of the last 9 calls to <function TensorFlowTrainer.make_predict_function.<locals>.one_step_on_data_distributed at 0x7ae9bb0125c0> triggered tf.function retracing. Tracing is expensive and the excessive number of tracings could be due to (1) creating @tf.function repeatedly in a loop, (2) passing tensors with different shapes, (3) passing Python objects instead of tensors. For (1), please define your @tf.function outside of the loop. For (2), @tf.function has reduce_retracing=True option that can avoid unnecessary retracing. For (3), please refer to https://www.tensorflow.org/guide/function#controlling_retracing and https://www.tensorflow.org/api_docs/python/tf/function for  more details.\n"
          ]
        },
        {
          "output_type": "stream",
          "name": "stdout",
          "text": [
            "\u001b[1m3/4\u001b[0m \u001b[32m━━━━━━━━━━━━━━━\u001b[0m\u001b[37m━━━━━\u001b[0m \u001b[1m0s\u001b[0m 143ms/step"
          ]
        },
        {
          "output_type": "stream",
          "name": "stderr",
          "text": [
            "WARNING:tensorflow:6 out of the last 12 calls to <function TensorFlowTrainer.make_predict_function.<locals>.one_step_on_data_distributed at 0x7ae9bb0125c0> triggered tf.function retracing. Tracing is expensive and the excessive number of tracings could be due to (1) creating @tf.function repeatedly in a loop, (2) passing tensors with different shapes, (3) passing Python objects instead of tensors. For (1), please define your @tf.function outside of the loop. For (2), @tf.function has reduce_retracing=True option that can avoid unnecessary retracing. For (3), please refer to https://www.tensorflow.org/guide/function#controlling_retracing and https://www.tensorflow.org/api_docs/python/tf/function for  more details.\n"
          ]
        },
        {
          "output_type": "stream",
          "name": "stdout",
          "text": [
            "\u001b[1m4/4\u001b[0m \u001b[32m━━━━━━━━━━━━━━━━━━━━\u001b[0m\u001b[37m\u001b[0m \u001b[1m1s\u001b[0m 233ms/step\n"
          ]
        }
      ]
    },
    {
      "cell_type": "code",
      "source": [
        "print(\"\\n\" + \"=\"*40)\n",
        "print(\"        Expected Labels\")\n",
        "print(\"=\"*40)\n",
        "print(y_test_all_encoded)\n",
        "print(\"\\n\")\n",
        "\n",
        "print(\"=\"*40)\n",
        "print(\"        Predicted Labels\")\n",
        "print(\"=\"*40)\n",
        "print(predicted_labels)\n",
        "print(\"\\n\")\n",
        "\n",
        "# Print classification report for in-depth metrics\n",
        "classification_rep = classification_report(y_test_all_encoded, predicted_labels)\n",
        "print(\"=\"*40)\n",
        "print(\"      CLASSIFICATION REPORT\")\n",
        "print(\"=\"*40)\n",
        "print(classification_rep)"
      ],
      "metadata": {
        "colab": {
          "base_uri": "https://localhost:8080/"
        },
        "id": "f23qcPKaG3DI",
        "outputId": "2a53adda-307f-494b-ca7c-463e9f455886"
      },
      "execution_count": 60,
      "outputs": [
        {
          "output_type": "stream",
          "name": "stdout",
          "text": [
            "\n",
            "========================================\n",
            "        Expected Labels\n",
            "========================================\n",
            "[0 0 0 0 0 0 0 0 0 0 0 0 0 0 0 0 0 0 0 0 0 0 0 0 0 0 0 0 1 1 1 1 1 1 1 1 1\n",
            " 1 1 1 1 1 1 1 1 1 1 1 1 1 1 1 1 1 1 1 2 2 2 2 2 2 2 2 2 2 2 2 2 2 2 2 2 2\n",
            " 2 2 2 2 2 2 2 2 2 2 3 3 3 3 3 3 3 3 3 3 3 3 3 3 3 3 3 3 3 3 3 3 3 3 3 3 3\n",
            " 3]\n",
            "\n",
            "\n",
            "========================================\n",
            "        Predicted Labels\n",
            "========================================\n",
            "[2 2 2 2 2 2 2 2 2 2 2 2 2 2 2 2 2 2 2 2 2 2 2 2 2 2 2 2 1 1 1 1 1 1 1 1 1\n",
            " 1 1 1 1 1 1 1 1 1 1 1 1 1 1 1 1 1 1 1 2 2 2 2 2 2 2 2 2 2 2 2 2 2 2 2 2 2\n",
            " 2 2 2 2 2 2 2 2 2 2 2 2 2 2 2 2 2 2 2 2 2 2 2 2 2 2 2 2 2 2 2 2 2 2 2 2 2\n",
            " 2]\n",
            "\n",
            "\n",
            "========================================\n",
            "      CLASSIFICATION REPORT\n",
            "========================================\n",
            "              precision    recall  f1-score   support\n",
            "\n",
            "           0       0.00      0.00      0.00        28\n",
            "           1       1.00      1.00      1.00        28\n",
            "           2       0.33      1.00      0.50        28\n",
            "           3       0.00      0.00      0.00        28\n",
            "\n",
            "    accuracy                           0.50       112\n",
            "   macro avg       0.33      0.50      0.38       112\n",
            "weighted avg       0.33      0.50      0.38       112\n",
            "\n"
          ]
        }
      ]
    },
    {
      "cell_type": "code",
      "source": [
        "import numpy as np\n",
        "from tensorflow.keras.models import Sequential\n",
        "from tensorflow.keras.layers import LSTM, Dense, Dropout\n",
        "from sklearn.metrics import classification_report\n",
        "\n",
        "# Define input dimensions\n",
        "sequence_length = 168  # number of time steps per sample\n",
        "feature_dimension = 85  # features per timestep\n",
        "num_composer_classes = 4  # number of output classes (composers)\n",
        "\n",
        "# Build the LSTM model architecture\n",
        "composer_lstm_model = Sequential([\n",
        "    LSTM(256, input_shape=(sequence_length, feature_dimension), return_sequences=True),\n",
        "    Dropout(0.3),\n",
        "    LSTM(128),\n",
        "    Dropout(0.3),\n",
        "    Dense(64, activation='relu'),\n",
        "    Dense(num_composer_classes, activation='softmax')\n",
        "])\n",
        "\n",
        "# Compile the model with optimizer, loss, and metric\n",
        "composer_lstm_model.compile(\n",
        "    optimizer='adam',\n",
        "    loss='sparse_categorical_crossentropy',\n",
        "    metrics=['accuracy']\n",
        ")\n",
        "\n",
        "# Display model summary\n",
        "composer_lstm_model.summary()"
      ],
      "metadata": {
        "colab": {
          "base_uri": "https://localhost:8080/",
          "height": 328
        },
        "id": "iFYhEZobIhxS",
        "outputId": "89575c09-6653-4bb8-a164-8795747ef3af"
      },
      "execution_count": 66,
      "outputs": [
        {
          "output_type": "display_data",
          "data": {
            "text/plain": [
              "\u001b[1mModel: \"sequential_7\"\u001b[0m\n"
            ],
            "text/html": [
              "<pre style=\"white-space:pre;overflow-x:auto;line-height:normal;font-family:Menlo,'DejaVu Sans Mono',consolas,'Courier New',monospace\"><span style=\"font-weight: bold\">Model: \"sequential_7\"</span>\n",
              "</pre>\n"
            ]
          },
          "metadata": {}
        },
        {
          "output_type": "display_data",
          "data": {
            "text/plain": [
              "┏━━━━━━━━━━━━━━━━━━━━━━━━━━━━━━━━━┳━━━━━━━━━━━━━━━━━━━━━━━━┳━━━━━━━━━━━━━━━┓\n",
              "┃\u001b[1m \u001b[0m\u001b[1mLayer (type)                   \u001b[0m\u001b[1m \u001b[0m┃\u001b[1m \u001b[0m\u001b[1mOutput Shape          \u001b[0m\u001b[1m \u001b[0m┃\u001b[1m \u001b[0m\u001b[1m      Param #\u001b[0m\u001b[1m \u001b[0m┃\n",
              "┡━━━━━━━━━━━━━━━━━━━━━━━━━━━━━━━━━╇━━━━━━━━━━━━━━━━━━━━━━━━╇━━━━━━━━━━━━━━━┩\n",
              "│ lstm_6 (\u001b[38;5;33mLSTM\u001b[0m)                   │ (\u001b[38;5;45mNone\u001b[0m, \u001b[38;5;34m168\u001b[0m, \u001b[38;5;34m256\u001b[0m)       │       \u001b[38;5;34m350,208\u001b[0m │\n",
              "├─────────────────────────────────┼────────────────────────┼───────────────┤\n",
              "│ dropout_6 (\u001b[38;5;33mDropout\u001b[0m)             │ (\u001b[38;5;45mNone\u001b[0m, \u001b[38;5;34m168\u001b[0m, \u001b[38;5;34m256\u001b[0m)       │             \u001b[38;5;34m0\u001b[0m │\n",
              "├─────────────────────────────────┼────────────────────────┼───────────────┤\n",
              "│ lstm_7 (\u001b[38;5;33mLSTM\u001b[0m)                   │ (\u001b[38;5;45mNone\u001b[0m, \u001b[38;5;34m128\u001b[0m)            │       \u001b[38;5;34m197,120\u001b[0m │\n",
              "├─────────────────────────────────┼────────────────────────┼───────────────┤\n",
              "│ dropout_7 (\u001b[38;5;33mDropout\u001b[0m)             │ (\u001b[38;5;45mNone\u001b[0m, \u001b[38;5;34m128\u001b[0m)            │             \u001b[38;5;34m0\u001b[0m │\n",
              "├─────────────────────────────────┼────────────────────────┼───────────────┤\n",
              "│ dense_14 (\u001b[38;5;33mDense\u001b[0m)                │ (\u001b[38;5;45mNone\u001b[0m, \u001b[38;5;34m64\u001b[0m)             │         \u001b[38;5;34m8,256\u001b[0m │\n",
              "├─────────────────────────────────┼────────────────────────┼───────────────┤\n",
              "│ dense_15 (\u001b[38;5;33mDense\u001b[0m)                │ (\u001b[38;5;45mNone\u001b[0m, \u001b[38;5;34m4\u001b[0m)              │           \u001b[38;5;34m260\u001b[0m │\n",
              "└─────────────────────────────────┴────────────────────────┴───────────────┘\n"
            ],
            "text/html": [
              "<pre style=\"white-space:pre;overflow-x:auto;line-height:normal;font-family:Menlo,'DejaVu Sans Mono',consolas,'Courier New',monospace\">┏━━━━━━━━━━━━━━━━━━━━━━━━━━━━━━━━━┳━━━━━━━━━━━━━━━━━━━━━━━━┳━━━━━━━━━━━━━━━┓\n",
              "┃<span style=\"font-weight: bold\"> Layer (type)                    </span>┃<span style=\"font-weight: bold\"> Output Shape           </span>┃<span style=\"font-weight: bold\">       Param # </span>┃\n",
              "┡━━━━━━━━━━━━━━━━━━━━━━━━━━━━━━━━━╇━━━━━━━━━━━━━━━━━━━━━━━━╇━━━━━━━━━━━━━━━┩\n",
              "│ lstm_6 (<span style=\"color: #0087ff; text-decoration-color: #0087ff\">LSTM</span>)                   │ (<span style=\"color: #00d7ff; text-decoration-color: #00d7ff\">None</span>, <span style=\"color: #00af00; text-decoration-color: #00af00\">168</span>, <span style=\"color: #00af00; text-decoration-color: #00af00\">256</span>)       │       <span style=\"color: #00af00; text-decoration-color: #00af00\">350,208</span> │\n",
              "├─────────────────────────────────┼────────────────────────┼───────────────┤\n",
              "│ dropout_6 (<span style=\"color: #0087ff; text-decoration-color: #0087ff\">Dropout</span>)             │ (<span style=\"color: #00d7ff; text-decoration-color: #00d7ff\">None</span>, <span style=\"color: #00af00; text-decoration-color: #00af00\">168</span>, <span style=\"color: #00af00; text-decoration-color: #00af00\">256</span>)       │             <span style=\"color: #00af00; text-decoration-color: #00af00\">0</span> │\n",
              "├─────────────────────────────────┼────────────────────────┼───────────────┤\n",
              "│ lstm_7 (<span style=\"color: #0087ff; text-decoration-color: #0087ff\">LSTM</span>)                   │ (<span style=\"color: #00d7ff; text-decoration-color: #00d7ff\">None</span>, <span style=\"color: #00af00; text-decoration-color: #00af00\">128</span>)            │       <span style=\"color: #00af00; text-decoration-color: #00af00\">197,120</span> │\n",
              "├─────────────────────────────────┼────────────────────────┼───────────────┤\n",
              "│ dropout_7 (<span style=\"color: #0087ff; text-decoration-color: #0087ff\">Dropout</span>)             │ (<span style=\"color: #00d7ff; text-decoration-color: #00d7ff\">None</span>, <span style=\"color: #00af00; text-decoration-color: #00af00\">128</span>)            │             <span style=\"color: #00af00; text-decoration-color: #00af00\">0</span> │\n",
              "├─────────────────────────────────┼────────────────────────┼───────────────┤\n",
              "│ dense_14 (<span style=\"color: #0087ff; text-decoration-color: #0087ff\">Dense</span>)                │ (<span style=\"color: #00d7ff; text-decoration-color: #00d7ff\">None</span>, <span style=\"color: #00af00; text-decoration-color: #00af00\">64</span>)             │         <span style=\"color: #00af00; text-decoration-color: #00af00\">8,256</span> │\n",
              "├─────────────────────────────────┼────────────────────────┼───────────────┤\n",
              "│ dense_15 (<span style=\"color: #0087ff; text-decoration-color: #0087ff\">Dense</span>)                │ (<span style=\"color: #00d7ff; text-decoration-color: #00d7ff\">None</span>, <span style=\"color: #00af00; text-decoration-color: #00af00\">4</span>)              │           <span style=\"color: #00af00; text-decoration-color: #00af00\">260</span> │\n",
              "└─────────────────────────────────┴────────────────────────┴───────────────┘\n",
              "</pre>\n"
            ]
          },
          "metadata": {}
        },
        {
          "output_type": "display_data",
          "data": {
            "text/plain": [
              "\u001b[1m Total params: \u001b[0m\u001b[38;5;34m555,844\u001b[0m (2.12 MB)\n"
            ],
            "text/html": [
              "<pre style=\"white-space:pre;overflow-x:auto;line-height:normal;font-family:Menlo,'DejaVu Sans Mono',consolas,'Courier New',monospace\"><span style=\"font-weight: bold\"> Total params: </span><span style=\"color: #00af00; text-decoration-color: #00af00\">555,844</span> (2.12 MB)\n",
              "</pre>\n"
            ]
          },
          "metadata": {}
        },
        {
          "output_type": "display_data",
          "data": {
            "text/plain": [
              "\u001b[1m Trainable params: \u001b[0m\u001b[38;5;34m555,844\u001b[0m (2.12 MB)\n"
            ],
            "text/html": [
              "<pre style=\"white-space:pre;overflow-x:auto;line-height:normal;font-family:Menlo,'DejaVu Sans Mono',consolas,'Courier New',monospace\"><span style=\"font-weight: bold\"> Trainable params: </span><span style=\"color: #00af00; text-decoration-color: #00af00\">555,844</span> (2.12 MB)\n",
              "</pre>\n"
            ]
          },
          "metadata": {}
        },
        {
          "output_type": "display_data",
          "data": {
            "text/plain": [
              "\u001b[1m Non-trainable params: \u001b[0m\u001b[38;5;34m0\u001b[0m (0.00 B)\n"
            ],
            "text/html": [
              "<pre style=\"white-space:pre;overflow-x:auto;line-height:normal;font-family:Menlo,'DejaVu Sans Mono',consolas,'Courier New',monospace\"><span style=\"font-weight: bold\"> Non-trainable params: </span><span style=\"color: #00af00; text-decoration-color: #00af00\">0</span> (0.00 B)\n",
              "</pre>\n"
            ]
          },
          "metadata": {}
        }
      ]
    },
    {
      "cell_type": "code",
      "source": [
        "# Train the model for 10 epochs with batch size 32\n",
        "training_history = composer_lstm_model.fit(\n",
        "    x_train_all, y_train_all_encoded,\n",
        "    epochs=10,\n",
        "    batch_size=32,\n",
        "    validation_data=(x_test_all, y_test_all_encoded)\n",
        ")"
      ],
      "metadata": {
        "colab": {
          "base_uri": "https://localhost:8080/"
        },
        "id": "R-oQE2L8I3ih",
        "outputId": "5e2b144f-6c5c-4bc4-be5f-7e80e5e32f05"
      },
      "execution_count": 67,
      "outputs": [
        {
          "output_type": "stream",
          "name": "stdout",
          "text": [
            "Epoch 1/10\n",
            "\u001b[1m14/14\u001b[0m \u001b[32m━━━━━━━━━━━━━━━━━━━━\u001b[0m\u001b[37m\u001b[0m \u001b[1m20s\u001b[0m 1s/step - accuracy: 0.4494 - loss: 1.2864 - val_accuracy: 0.5000 - val_loss: 0.9281\n",
            "Epoch 2/10\n",
            "\u001b[1m14/14\u001b[0m \u001b[32m━━━━━━━━━━━━━━━━━━━━\u001b[0m\u001b[37m\u001b[0m \u001b[1m21s\u001b[0m 1s/step - accuracy: 0.4527 - loss: 0.9044 - val_accuracy: 0.5000 - val_loss: 0.8423\n",
            "Epoch 3/10\n",
            "\u001b[1m14/14\u001b[0m \u001b[32m━━━━━━━━━━━━━━━━━━━━\u001b[0m\u001b[37m\u001b[0m \u001b[1m21s\u001b[0m 1s/step - accuracy: 0.4688 - loss: 0.8702 - val_accuracy: 0.5000 - val_loss: 0.8322\n",
            "Epoch 4/10\n",
            "\u001b[1m14/14\u001b[0m \u001b[32m━━━━━━━━━━━━━━━━━━━━\u001b[0m\u001b[37m\u001b[0m \u001b[1m15s\u001b[0m 1s/step - accuracy: 0.5437 - loss: 0.7952 - val_accuracy: 0.5000 - val_loss: 0.8275\n",
            "Epoch 5/10\n",
            "\u001b[1m14/14\u001b[0m \u001b[32m━━━━━━━━━━━━━━━━━━━━\u001b[0m\u001b[37m\u001b[0m \u001b[1m22s\u001b[0m 1s/step - accuracy: 0.5056 - loss: 0.8380 - val_accuracy: 0.5000 - val_loss: 0.8280\n",
            "Epoch 6/10\n",
            "\u001b[1m14/14\u001b[0m \u001b[32m━━━━━━━━━━━━━━━━━━━━\u001b[0m\u001b[37m\u001b[0m \u001b[1m14s\u001b[0m 999ms/step - accuracy: 0.4974 - loss: 0.8461 - val_accuracy: 0.5000 - val_loss: 0.8303\n",
            "Epoch 7/10\n",
            "\u001b[1m14/14\u001b[0m \u001b[32m━━━━━━━━━━━━━━━━━━━━\u001b[0m\u001b[37m\u001b[0m \u001b[1m21s\u001b[0m 1s/step - accuracy: 0.4709 - loss: 0.8542 - val_accuracy: 0.5000 - val_loss: 0.8271\n",
            "Epoch 8/10\n",
            "\u001b[1m14/14\u001b[0m \u001b[32m━━━━━━━━━━━━━━━━━━━━\u001b[0m\u001b[37m\u001b[0m \u001b[1m20s\u001b[0m 926ms/step - accuracy: 0.4982 - loss: 0.8398 - val_accuracy: 0.5000 - val_loss: 0.8299\n",
            "Epoch 9/10\n",
            "\u001b[1m14/14\u001b[0m \u001b[32m━━━━━━━━━━━━━━━━━━━━\u001b[0m\u001b[37m\u001b[0m \u001b[1m22s\u001b[0m 1s/step - accuracy: 0.4719 - loss: 0.8525 - val_accuracy: 0.5000 - val_loss: 0.8265\n",
            "Epoch 10/10\n",
            "\u001b[1m14/14\u001b[0m \u001b[32m━━━━━━━━━━━━━━━━━━━━\u001b[0m\u001b[37m\u001b[0m \u001b[1m22s\u001b[0m 1s/step - accuracy: 0.5474 - loss: 0.7937 - val_accuracy: 0.5000 - val_loss: 0.8263\n"
          ]
        }
      ]
    },
    {
      "cell_type": "code",
      "source": [
        "# Evaluate the model on test set\n",
        "test_loss, test_accuracy = composer_lstm_model.evaluate(x_test_all, y_test_all_encoded)\n",
        "print(f\"Test accuracy: {test_accuracy:.4f}\")"
      ],
      "metadata": {
        "colab": {
          "base_uri": "https://localhost:8080/"
        },
        "id": "FT5mLw-SI7sW",
        "outputId": "35d29ad0-bf18-4c48-da6b-0a13dd0fea6d"
      },
      "execution_count": 68,
      "outputs": [
        {
          "output_type": "stream",
          "name": "stdout",
          "text": [
            "\u001b[1m4/4\u001b[0m \u001b[32m━━━━━━━━━━━━━━━━━━━━\u001b[0m\u001b[37m\u001b[0m \u001b[1m2s\u001b[0m 481ms/step - accuracy: 0.3958 - loss: 0.8155\n",
            "Test accuracy: 0.5000\n"
          ]
        }
      ]
    },
    {
      "cell_type": "code",
      "source": [
        "# Perform predictions on test set\n",
        "test_predictions = composer_lstm_model.predict(x_test_all)\n",
        "predicted_labels = np.argmax(test_predictions, axis=1)"
      ],
      "metadata": {
        "colab": {
          "base_uri": "https://localhost:8080/"
        },
        "id": "rNe17skiLhR3",
        "outputId": "120e0b7b-00b9-44c9-80db-74cc14ffb3d4"
      },
      "execution_count": 69,
      "outputs": [
        {
          "output_type": "stream",
          "name": "stdout",
          "text": [
            "\u001b[1m4/4\u001b[0m \u001b[32m━━━━━━━━━━━━━━━━━━━━\u001b[0m\u001b[37m\u001b[0m \u001b[1m2s\u001b[0m 458ms/step\n"
          ]
        }
      ]
    },
    {
      "cell_type": "code",
      "source": [
        "print(\"\\n\" + \"=\"*40)\n",
        "print(\"        Expected Labels\")\n",
        "print(\"=\"*40)\n",
        "print(y_test_all_encoded)\n",
        "print(\"\\n\")\n",
        "\n",
        "print(\"=\"*40)\n",
        "print(\"        Predicted Labels\")\n",
        "print(\"=\"*40)\n",
        "print(predicted_labels)\n",
        "print(\"\\n\")\n",
        "\n",
        "# Print classification report for in-depth metrics\n",
        "classification_rep = classification_report(y_test_all_encoded, predicted_labels)\n",
        "print(\"=\"*40)\n",
        "print(\"      CLASSIFICATION REPORT\")\n",
        "print(\"=\"*40)\n",
        "print(classification_rep)"
      ],
      "metadata": {
        "colab": {
          "base_uri": "https://localhost:8080/"
        },
        "id": "fM6FNqutLmaL",
        "outputId": "1f1bbf08-8c7f-43a9-b43e-733e57faf7a2"
      },
      "execution_count": 70,
      "outputs": [
        {
          "output_type": "stream",
          "name": "stdout",
          "text": [
            "\n",
            "========================================\n",
            "        Expected Labels\n",
            "========================================\n",
            "[0 0 0 0 0 0 0 0 0 0 0 0 0 0 0 0 0 0 0 0 0 0 0 0 0 0 0 0 1 1 1 1 1 1 1 1 1\n",
            " 1 1 1 1 1 1 1 1 1 1 1 1 1 1 1 1 1 1 1 2 2 2 2 2 2 2 2 2 2 2 2 2 2 2 2 2 2\n",
            " 2 2 2 2 2 2 2 2 2 2 3 3 3 3 3 3 3 3 3 3 3 3 3 3 3 3 3 3 3 3 3 3 3 3 3 3 3\n",
            " 3]\n",
            "\n",
            "\n",
            "========================================\n",
            "        Predicted Labels\n",
            "========================================\n",
            "[3 3 3 3 3 3 3 3 3 3 3 3 3 3 3 3 3 3 3 3 3 3 3 3 3 3 3 3 1 1 1 1 1 1 1 1 1\n",
            " 1 1 1 1 1 1 1 1 1 1 1 1 1 1 1 1 1 1 1 3 3 3 3 3 3 3 3 3 3 3 3 3 3 3 3 3 3\n",
            " 3 3 3 3 3 3 3 3 3 3 3 3 3 3 3 3 3 3 3 3 3 3 3 3 3 3 3 3 3 3 3 3 3 3 3 3 3\n",
            " 3]\n",
            "\n",
            "\n",
            "========================================\n",
            "      CLASSIFICATION REPORT\n",
            "========================================\n",
            "              precision    recall  f1-score   support\n",
            "\n",
            "           0       0.00      0.00      0.00        28\n",
            "           1       1.00      1.00      1.00        28\n",
            "           2       0.00      0.00      0.00        28\n",
            "           3       0.33      1.00      0.50        28\n",
            "\n",
            "    accuracy                           0.50       112\n",
            "   macro avg       0.33      0.50      0.38       112\n",
            "weighted avg       0.33      0.50      0.38       112\n",
            "\n"
          ]
        }
      ]
    },
    {
      "cell_type": "code",
      "source": [],
      "metadata": {
        "id": "njJDCrpkLsHV"
      },
      "execution_count": null,
      "outputs": []
    }
  ],
  "metadata": {
    "kernelspec": {
      "display_name": "Python 3",
      "language": "python",
      "name": "python3"
    },
    "language_info": {
      "codemirror_mode": {
        "name": "ipython",
        "version": 3
      },
      "file_extension": ".py",
      "mimetype": "text/x-python",
      "name": "python",
      "nbconvert_exporter": "python",
      "pygments_lexer": "ipython3",
      "version": "3.8.5"
    },
    "colab": {
      "provenance": [],
      "toc_visible": true
    }
  },
  "nbformat": 4,
  "nbformat_minor": 0
}