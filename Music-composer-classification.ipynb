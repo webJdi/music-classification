{
 "cells": [
  {
   "cell_type": "markdown",
   "id": "5237b705",
   "metadata": {
    "_cell_guid": "b1076dfc-b9ad-4769-8c92-a6c4dae69d19",
    "_uuid": "8f2839f25d086af736a60e9eeb907d3b93b6e0e5",
    "papermill": {
     "duration": 0.006115,
     "end_time": "2025-08-02T05:04:10.826501",
     "exception": false,
     "start_time": "2025-08-02T05:04:10.820386",
     "status": "completed"
    },
    "tags": []
   },
   "source": [
    "# Music Composer Classification using Neural Network"
   ]
  },
  {
   "cell_type": "markdown",
   "id": "a1e509f6",
   "metadata": {
    "papermill": {
     "duration": 0.004846,
     "end_time": "2025-08-02T05:04:10.836397",
     "exception": false,
     "start_time": "2025-08-02T05:04:10.831551",
     "status": "completed"
    },
    "tags": []
   },
   "source": [
    "# Team members:\n",
    "1. Suman Senapati\n",
    "2. Navyesh\n",
    "3. Shruti A K"
   ]
  },
  {
   "cell_type": "markdown",
   "id": "54aae07a",
   "metadata": {
    "papermill": {
     "duration": 0.004724,
     "end_time": "2025-08-02T05:04:10.845782",
     "exception": false,
     "start_time": "2025-08-02T05:04:10.841058",
     "status": "completed"
    },
    "tags": []
   },
   "source": [
    "## Additional Libraries"
   ]
  },
  {
   "cell_type": "code",
   "execution_count": 1,
   "id": "0c39f3f9",
   "metadata": {
    "execution": {
     "iopub.execute_input": "2025-08-02T05:04:10.857426Z",
     "iopub.status.busy": "2025-08-02T05:04:10.857155Z",
     "iopub.status.idle": "2025-08-02T05:04:15.101719Z",
     "shell.execute_reply": "2025-08-02T05:04:15.100679Z"
    },
    "papermill": {
     "duration": 4.252591,
     "end_time": "2025-08-02T05:04:15.103819",
     "exception": false,
     "start_time": "2025-08-02T05:04:10.851228",
     "status": "completed"
    },
    "tags": []
   },
   "outputs": [
    {
     "name": "stdout",
     "output_type": "stream",
     "text": [
      "Requirement already satisfied: tensorflow in /usr/local/lib/python3.11/dist-packages (2.18.0)\r\n",
      "Requirement already satisfied: music21 in /usr/local/lib/python3.11/dist-packages (9.3.0)\r\n",
      "Requirement already satisfied: absl-py>=1.0.0 in /usr/local/lib/python3.11/dist-packages (from tensorflow) (1.4.0)\r\n",
      "Requirement already satisfied: astunparse>=1.6.0 in /usr/local/lib/python3.11/dist-packages (from tensorflow) (1.6.3)\r\n",
      "Requirement already satisfied: flatbuffers>=24.3.25 in /usr/local/lib/python3.11/dist-packages (from tensorflow) (25.2.10)\r\n",
      "Requirement already satisfied: gast!=0.5.0,!=0.5.1,!=0.5.2,>=0.2.1 in /usr/local/lib/python3.11/dist-packages (from tensorflow) (0.6.0)\r\n",
      "Requirement already satisfied: google-pasta>=0.1.1 in /usr/local/lib/python3.11/dist-packages (from tensorflow) (0.2.0)\r\n",
      "Requirement already satisfied: libclang>=13.0.0 in /usr/local/lib/python3.11/dist-packages (from tensorflow) (18.1.1)\r\n",
      "Requirement already satisfied: opt-einsum>=2.3.2 in /usr/local/lib/python3.11/dist-packages (from tensorflow) (3.4.0)\r\n",
      "Requirement already satisfied: packaging in /usr/local/lib/python3.11/dist-packages (from tensorflow) (25.0)\r\n",
      "Requirement already satisfied: protobuf!=4.21.0,!=4.21.1,!=4.21.2,!=4.21.3,!=4.21.4,!=4.21.5,<6.0.0dev,>=3.20.3 in /usr/local/lib/python3.11/dist-packages (from tensorflow) (3.20.3)\r\n",
      "Requirement already satisfied: requests<3,>=2.21.0 in /usr/local/lib/python3.11/dist-packages (from tensorflow) (2.32.4)\r\n",
      "Requirement already satisfied: setuptools in /usr/local/lib/python3.11/dist-packages (from tensorflow) (75.2.0)\r\n",
      "Requirement already satisfied: six>=1.12.0 in /usr/local/lib/python3.11/dist-packages (from tensorflow) (1.17.0)\r\n",
      "Requirement already satisfied: termcolor>=1.1.0 in /usr/local/lib/python3.11/dist-packages (from tensorflow) (3.1.0)\r\n",
      "Requirement already satisfied: typing-extensions>=3.6.6 in /usr/local/lib/python3.11/dist-packages (from tensorflow) (4.14.0)\r\n",
      "Requirement already satisfied: wrapt>=1.11.0 in /usr/local/lib/python3.11/dist-packages (from tensorflow) (1.17.2)\r\n",
      "Requirement already satisfied: grpcio<2.0,>=1.24.3 in /usr/local/lib/python3.11/dist-packages (from tensorflow) (1.73.1)\r\n",
      "Requirement already satisfied: tensorboard<2.19,>=2.18 in /usr/local/lib/python3.11/dist-packages (from tensorflow) (2.18.0)\r\n",
      "Requirement already satisfied: keras>=3.5.0 in /usr/local/lib/python3.11/dist-packages (from tensorflow) (3.8.0)\r\n",
      "Requirement already satisfied: numpy<2.1.0,>=1.26.0 in /usr/local/lib/python3.11/dist-packages (from tensorflow) (1.26.4)\r\n",
      "Requirement already satisfied: h5py>=3.11.0 in /usr/local/lib/python3.11/dist-packages (from tensorflow) (3.14.0)\r\n",
      "Requirement already satisfied: ml-dtypes<0.5.0,>=0.4.0 in /usr/local/lib/python3.11/dist-packages (from tensorflow) (0.4.1)\r\n",
      "Requirement already satisfied: tensorflow-io-gcs-filesystem>=0.23.1 in /usr/local/lib/python3.11/dist-packages (from tensorflow) (0.37.1)\r\n",
      "Requirement already satisfied: chardet in /usr/local/lib/python3.11/dist-packages (from music21) (5.2.0)\r\n",
      "Requirement already satisfied: joblib in /usr/local/lib/python3.11/dist-packages (from music21) (1.5.1)\r\n",
      "Requirement already satisfied: jsonpickle in /usr/local/lib/python3.11/dist-packages (from music21) (4.1.1)\r\n",
      "Requirement already satisfied: matplotlib in /usr/local/lib/python3.11/dist-packages (from music21) (3.7.2)\r\n",
      "Requirement already satisfied: more-itertools in /usr/local/lib/python3.11/dist-packages (from music21) (10.7.0)\r\n",
      "Requirement already satisfied: webcolors>=1.5 in /usr/local/lib/python3.11/dist-packages (from music21) (24.11.1)\r\n",
      "Requirement already satisfied: wheel<1.0,>=0.23.0 in /usr/local/lib/python3.11/dist-packages (from astunparse>=1.6.0->tensorflow) (0.45.1)\r\n",
      "Requirement already satisfied: rich in /usr/local/lib/python3.11/dist-packages (from keras>=3.5.0->tensorflow) (14.0.0)\r\n",
      "Requirement already satisfied: namex in /usr/local/lib/python3.11/dist-packages (from keras>=3.5.0->tensorflow) (0.1.0)\r\n",
      "Requirement already satisfied: optree in /usr/local/lib/python3.11/dist-packages (from keras>=3.5.0->tensorflow) (0.16.0)\r\n",
      "Requirement already satisfied: mkl_fft in /usr/local/lib/python3.11/dist-packages (from numpy<2.1.0,>=1.26.0->tensorflow) (1.3.8)\r\n",
      "Requirement already satisfied: mkl_random in /usr/local/lib/python3.11/dist-packages (from numpy<2.1.0,>=1.26.0->tensorflow) (1.2.4)\r\n",
      "Requirement already satisfied: mkl_umath in /usr/local/lib/python3.11/dist-packages (from numpy<2.1.0,>=1.26.0->tensorflow) (0.1.1)\r\n",
      "Requirement already satisfied: mkl in /usr/local/lib/python3.11/dist-packages (from numpy<2.1.0,>=1.26.0->tensorflow) (2025.2.0)\r\n",
      "Requirement already satisfied: tbb4py in /usr/local/lib/python3.11/dist-packages (from numpy<2.1.0,>=1.26.0->tensorflow) (2022.2.0)\r\n",
      "Requirement already satisfied: mkl-service in /usr/local/lib/python3.11/dist-packages (from numpy<2.1.0,>=1.26.0->tensorflow) (2.4.1)\r\n",
      "Requirement already satisfied: charset_normalizer<4,>=2 in /usr/local/lib/python3.11/dist-packages (from requests<3,>=2.21.0->tensorflow) (3.4.2)\r\n",
      "Requirement already satisfied: idna<4,>=2.5 in /usr/local/lib/python3.11/dist-packages (from requests<3,>=2.21.0->tensorflow) (3.10)\r\n",
      "Requirement already satisfied: urllib3<3,>=1.21.1 in /usr/local/lib/python3.11/dist-packages (from requests<3,>=2.21.0->tensorflow) (2.5.0)\r\n",
      "Requirement already satisfied: certifi>=2017.4.17 in /usr/local/lib/python3.11/dist-packages (from requests<3,>=2.21.0->tensorflow) (2025.6.15)\r\n",
      "Requirement already satisfied: markdown>=2.6.8 in /usr/local/lib/python3.11/dist-packages (from tensorboard<2.19,>=2.18->tensorflow) (3.8.2)\r\n",
      "Requirement already satisfied: tensorboard-data-server<0.8.0,>=0.7.0 in /usr/local/lib/python3.11/dist-packages (from tensorboard<2.19,>=2.18->tensorflow) (0.7.2)\r\n",
      "Requirement already satisfied: werkzeug>=1.0.1 in /usr/local/lib/python3.11/dist-packages (from tensorboard<2.19,>=2.18->tensorflow) (3.1.3)\r\n",
      "Requirement already satisfied: contourpy>=1.0.1 in /usr/local/lib/python3.11/dist-packages (from matplotlib->music21) (1.3.2)\r\n",
      "Requirement already satisfied: cycler>=0.10 in /usr/local/lib/python3.11/dist-packages (from matplotlib->music21) (0.12.1)\r\n",
      "Requirement already satisfied: fonttools>=4.22.0 in /usr/local/lib/python3.11/dist-packages (from matplotlib->music21) (4.58.4)\r\n",
      "Requirement already satisfied: kiwisolver>=1.0.1 in /usr/local/lib/python3.11/dist-packages (from matplotlib->music21) (1.4.8)\r\n",
      "Requirement already satisfied: pillow>=6.2.0 in /usr/local/lib/python3.11/dist-packages (from matplotlib->music21) (11.2.1)\r\n",
      "Requirement already satisfied: pyparsing<3.1,>=2.3.1 in /usr/local/lib/python3.11/dist-packages (from matplotlib->music21) (3.0.9)\r\n",
      "Requirement already satisfied: python-dateutil>=2.7 in /usr/local/lib/python3.11/dist-packages (from matplotlib->music21) (2.9.0.post0)\r\n",
      "Requirement already satisfied: MarkupSafe>=2.1.1 in /usr/local/lib/python3.11/dist-packages (from werkzeug>=1.0.1->tensorboard<2.19,>=2.18->tensorflow) (3.0.2)\r\n",
      "Requirement already satisfied: intel-openmp<2026,>=2024 in /usr/local/lib/python3.11/dist-packages (from mkl->numpy<2.1.0,>=1.26.0->tensorflow) (2024.2.0)\r\n",
      "Requirement already satisfied: tbb==2022.* in /usr/local/lib/python3.11/dist-packages (from mkl->numpy<2.1.0,>=1.26.0->tensorflow) (2022.2.0)\r\n",
      "Requirement already satisfied: tcmlib==1.* in /usr/local/lib/python3.11/dist-packages (from tbb==2022.*->mkl->numpy<2.1.0,>=1.26.0->tensorflow) (1.4.0)\r\n",
      "Requirement already satisfied: intel-cmplr-lib-rt in /usr/local/lib/python3.11/dist-packages (from mkl_umath->numpy<2.1.0,>=1.26.0->tensorflow) (2024.2.0)\r\n",
      "Requirement already satisfied: markdown-it-py>=2.2.0 in /usr/local/lib/python3.11/dist-packages (from rich->keras>=3.5.0->tensorflow) (3.0.0)\r\n",
      "Requirement already satisfied: pygments<3.0.0,>=2.13.0 in /usr/local/lib/python3.11/dist-packages (from rich->keras>=3.5.0->tensorflow) (2.19.2)\r\n",
      "Requirement already satisfied: intel-cmplr-lib-ur==2024.2.0 in /usr/local/lib/python3.11/dist-packages (from intel-openmp<2026,>=2024->mkl->numpy<2.1.0,>=1.26.0->tensorflow) (2024.2.0)\r\n",
      "Requirement already satisfied: mdurl~=0.1 in /usr/local/lib/python3.11/dist-packages (from markdown-it-py>=2.2.0->rich->keras>=3.5.0->tensorflow) (0.1.2)\r\n"
     ]
    }
   ],
   "source": [
    "!pip install tensorflow music21"
   ]
  },
  {
   "cell_type": "markdown",
   "id": "4686aca3",
   "metadata": {
    "papermill": {
     "duration": 0.005323,
     "end_time": "2025-08-02T05:04:15.115180",
     "exception": false,
     "start_time": "2025-08-02T05:04:15.109857",
     "status": "completed"
    },
    "tags": []
   },
   "source": [
    "## Libraries"
   ]
  },
  {
   "cell_type": "code",
   "execution_count": 2,
   "id": "52f8246e",
   "metadata": {
    "execution": {
     "iopub.execute_input": "2025-08-02T05:04:15.127854Z",
     "iopub.status.busy": "2025-08-02T05:04:15.127104Z",
     "iopub.status.idle": "2025-08-02T05:04:32.733842Z",
     "shell.execute_reply": "2025-08-02T05:04:32.733049Z"
    },
    "papermill": {
     "duration": 17.614763,
     "end_time": "2025-08-02T05:04:32.735367",
     "exception": false,
     "start_time": "2025-08-02T05:04:15.120604",
     "status": "completed"
    },
    "tags": []
   },
   "outputs": [
    {
     "name": "stderr",
     "output_type": "stream",
     "text": [
      "2025-08-02 05:04:21.011382: E external/local_xla/xla/stream_executor/cuda/cuda_fft.cc:477] Unable to register cuFFT factory: Attempting to register factory for plugin cuFFT when one has already been registered\n",
      "WARNING: All log messages before absl::InitializeLog() is called are written to STDERR\n",
      "E0000 00:00:1754111061.198318      19 cuda_dnn.cc:8310] Unable to register cuDNN factory: Attempting to register factory for plugin cuDNN when one has already been registered\n",
      "E0000 00:00:1754111061.254665      19 cuda_blas.cc:1418] Unable to register cuBLAS factory: Attempting to register factory for plugin cuBLAS when one has already been registered\n"
     ]
    }
   ],
   "source": [
    "# For data handling and visualizations\n",
    "import pandas as pd\n",
    "import numpy as np\n",
    "import matplotlib.pyplot as plt\n",
    "import seaborn as sn\n",
    "import warnings\n",
    "from collections import Counter\n",
    "\n",
    "# For data pre-processing\n",
    "import os\n",
    "import glob\n",
    "from music21 import converter, instrument, note, chord\n",
    "\n",
    "# For neural network building\n",
    "from tensorflow.keras.models import Sequential\n",
    "from tensorflow.keras.layers import LSTM, Dense, Dropout, Conv1D, MaxPooling1D, Flatten\n",
    "from tensorflow.keras.utils import to_categorical\n",
    "from sklearn.model_selection import train_test_split\n",
    "from tensorflow.keras.metrics import AUC\n",
    "from sklearn.metrics import classification_report, f1_score\n",
    "from tensorflow.keras.callbacks import EarlyStopping\n",
    "from tensorflow.keras import regularizers\n",
    "\n",
    "# For model weights saving\n",
    "import pickle"
   ]
  },
  {
   "cell_type": "markdown",
   "id": "fbd422c3",
   "metadata": {
    "papermill": {
     "duration": 0.005054,
     "end_time": "2025-08-02T05:04:32.746586",
     "exception": false,
     "start_time": "2025-08-02T05:04:32.741532",
     "status": "completed"
    },
    "tags": []
   },
   "source": [
    "## Configuration"
   ]
  },
  {
   "cell_type": "code",
   "execution_count": 3,
   "id": "400c4497",
   "metadata": {
    "execution": {
     "iopub.execute_input": "2025-08-02T05:04:32.758425Z",
     "iopub.status.busy": "2025-08-02T05:04:32.757948Z",
     "iopub.status.idle": "2025-08-02T05:04:32.761937Z",
     "shell.execute_reply": "2025-08-02T05:04:32.761270Z"
    },
    "papermill": {
     "duration": 0.011067,
     "end_time": "2025-08-02T05:04:32.763029",
     "exception": false,
     "start_time": "2025-08-02T05:04:32.751962",
     "status": "completed"
    },
    "tags": []
   },
   "outputs": [],
   "source": [
    "warnings.filterwarnings('ignore')"
   ]
  },
  {
   "cell_type": "markdown",
   "id": "d180a65a",
   "metadata": {
    "papermill": {
     "duration": 0.00518,
     "end_time": "2025-08-02T05:04:32.773735",
     "exception": false,
     "start_time": "2025-08-02T05:04:32.768555",
     "status": "completed"
    },
    "tags": []
   },
   "source": [
    "## Dataset"
   ]
  },
  {
   "cell_type": "markdown",
   "id": "c950ce79",
   "metadata": {
    "papermill": {
     "duration": 0.004934,
     "end_time": "2025-08-02T05:04:32.784003",
     "exception": false,
     "start_time": "2025-08-02T05:04:32.779069",
     "status": "completed"
    },
    "tags": []
   },
   "source": [
    "#### Function to parse MIDI files and extract notes, chords and rests."
   ]
  },
  {
   "cell_type": "code",
   "execution_count": 4,
   "id": "935dd685",
   "metadata": {
    "execution": {
     "iopub.execute_input": "2025-08-02T05:04:32.795759Z",
     "iopub.status.busy": "2025-08-02T05:04:32.795452Z",
     "iopub.status.idle": "2025-08-02T05:04:32.801002Z",
     "shell.execute_reply": "2025-08-02T05:04:32.800295Z"
    },
    "papermill": {
     "duration": 0.012802,
     "end_time": "2025-08-02T05:04:32.802115",
     "exception": false,
     "start_time": "2025-08-02T05:04:32.789313",
     "status": "completed"
    },
    "tags": []
   },
   "outputs": [],
   "source": [
    "def get_notes_from_midi(file_path):\n",
    "    notes = []\n",
    "    try:\n",
    "        midi = converter.parse(file_path)\n",
    "        notes_to_parse = None\n",
    "\n",
    "        # Assuming the music could be in different parts (instruments)\n",
    "        parts = instrument.partitionByInstrument(midi)\n",
    "        if parts:\n",
    "            notes_to_parse = parts.parts[0].recurse()\n",
    "        else:\n",
    "            notes_to_parse = midi.flat.notes\n",
    "\n",
    "        for element in notes_to_parse:\n",
    "            if isinstance(element, note.Note):\n",
    "                notes.append(str(element.pitch))\n",
    "            elif isinstance(element, chord.Chord):\n",
    "                notes.append('.'.join(str(n) for n in element.normalOrder))\n",
    "            elif isinstance(element, note.Rest):\n",
    "                notes.append('rest')\n",
    "    except Exception as e:\n",
    "        print(f\"Error parsing {file_path}: {e}\")\n",
    "    return notes"
   ]
  },
  {
   "cell_type": "markdown",
   "id": "1cd37826",
   "metadata": {
    "papermill": {
     "duration": 0.00518,
     "end_time": "2025-08-02T05:04:32.812902",
     "exception": false,
     "start_time": "2025-08-02T05:04:32.807722",
     "status": "completed"
    },
    "tags": []
   },
   "source": [
    "#### Loads all MIDI files from the specified directory structure"
   ]
  },
  {
   "cell_type": "code",
   "execution_count": 5,
   "id": "8f435050",
   "metadata": {
    "execution": {
     "iopub.execute_input": "2025-08-02T05:04:32.825014Z",
     "iopub.status.busy": "2025-08-02T05:04:32.824735Z",
     "iopub.status.idle": "2025-08-02T05:04:32.829727Z",
     "shell.execute_reply": "2025-08-02T05:04:32.829098Z"
    },
    "papermill": {
     "duration": 0.012445,
     "end_time": "2025-08-02T05:04:32.830760",
     "exception": false,
     "start_time": "2025-08-02T05:04:32.818315",
     "status": "completed"
    },
    "tags": []
   },
   "outputs": [],
   "source": [
    "def load_midi_files(path):\n",
    "    composers = {}\n",
    "    for composer_dir in os.listdir(path):\n",
    "        composer_path = os.path.join(path, composer_dir)\n",
    "        if os.path.isdir(composer_path):\n",
    "            print(f\"Loading files for {composer_dir}...\")\n",
    "            all_notes = []\n",
    "            # Using glob to find all .mid and .midi files\n",
    "            for file in glob.glob(os.path.join(composer_path, '*.mid*')):\n",
    "                notes = get_notes_from_midi(file)\n",
    "                if notes:\n",
    "                    all_notes.extend(notes)\n",
    "            composers[composer_dir] = all_notes\n",
    "    return composers"
   ]
  },
  {
   "cell_type": "markdown",
   "id": "55d15a77",
   "metadata": {
    "papermill": {
     "duration": 0.005227,
     "end_time": "2025-08-02T05:04:32.841490",
     "exception": false,
     "start_time": "2025-08-02T05:04:32.836263",
     "status": "completed"
    },
    "tags": []
   },
   "source": [
    "## Data Preparation"
   ]
  },
  {
   "cell_type": "markdown",
   "id": "f7f5dd7a",
   "metadata": {
    "papermill": {
     "duration": 0.005085,
     "end_time": "2025-08-02T05:04:32.851989",
     "exception": false,
     "start_time": "2025-08-02T05:04:32.846904",
     "status": "completed"
    },
    "tags": []
   },
   "source": [
    "#### Creates input sequences and corresponding outputs for the network."
   ]
  },
  {
   "cell_type": "code",
   "execution_count": 6,
   "id": "85f562ac",
   "metadata": {
    "execution": {
     "iopub.execute_input": "2025-08-02T05:04:32.863831Z",
     "iopub.status.busy": "2025-08-02T05:04:32.863541Z",
     "iopub.status.idle": "2025-08-02T05:04:32.868969Z",
     "shell.execute_reply": "2025-08-02T05:04:32.868413Z"
    },
    "papermill": {
     "duration": 0.012663,
     "end_time": "2025-08-02T05:04:32.870049",
     "exception": false,
     "start_time": "2025-08-02T05:04:32.857386",
     "status": "completed"
    },
    "tags": []
   },
   "outputs": [],
   "source": [
    "def prepare_sequences(all_notes, note_to_int, sequence_length=100):\n",
    "    network_input = []\n",
    "    network_output = []\n",
    "    \n",
    "    for i in range(0, len(all_notes) - sequence_length, 1):\n",
    "        sequence_in = all_notes[i:i + sequence_length]\n",
    "        sequence_out = all_notes[i + sequence_length]\n",
    "\n",
    "        if all(item in note_to_int for item in sequence_in) and sequence_out in note_to_int:\n",
    "            network_input.append([note_to_int[char] for char in sequence_in])\n",
    "            network_output.append(note_to_int[sequence_out])\n",
    "\n",
    "    n_patterns = len(network_input)\n",
    "    if n_patterns == 0:\n",
    "        # Return empty arrays if no valid sequences could be made\n",
    "        return np.array([]), np.array([])\n",
    "        \n",
    "    network_input = np.reshape(network_input, (n_patterns, sequence_length, 1))\n",
    "    \n",
    "    network_input = network_input / float(len(note_to_int))\n",
    "    \n",
    "    return network_input, network_output"
   ]
  },
  {
   "cell_type": "code",
   "execution_count": 7,
   "id": "87108aac",
   "metadata": {
    "execution": {
     "iopub.execute_input": "2025-08-02T05:04:32.881575Z",
     "iopub.status.busy": "2025-08-02T05:04:32.881399Z",
     "iopub.status.idle": "2025-08-02T05:04:32.884667Z",
     "shell.execute_reply": "2025-08-02T05:04:32.884158Z"
    },
    "papermill": {
     "duration": 0.010233,
     "end_time": "2025-08-02T05:04:32.885779",
     "exception": false,
     "start_time": "2025-08-02T05:04:32.875546",
     "status": "completed"
    },
    "tags": []
   },
   "outputs": [],
   "source": [
    "base_path='/kaggle/input/composer-dataset/Composer_Dataset/NN_midi_files_extended'\n",
    "train_path = os.path.join(base_path, 'train')\n",
    "dev_path = os.path.join(base_path, 'dev')\n",
    "test_path = os.path.join(base_path, 'test')"
   ]
  },
  {
   "cell_type": "code",
   "execution_count": 8,
   "id": "ed3c10ef",
   "metadata": {
    "execution": {
     "iopub.execute_input": "2025-08-02T05:04:32.897436Z",
     "iopub.status.busy": "2025-08-02T05:04:32.897259Z",
     "iopub.status.idle": "2025-08-02T05:41:06.919155Z",
     "shell.execute_reply": "2025-08-02T05:41:06.918506Z"
    },
    "papermill": {
     "duration": 2194.029199,
     "end_time": "2025-08-02T05:41:06.920539",
     "exception": false,
     "start_time": "2025-08-02T05:04:32.891340",
     "status": "completed"
    },
    "tags": []
   },
   "outputs": [
    {
     "name": "stdout",
     "output_type": "stream",
     "text": [
      "Loading files for hummel...\n",
      "Loading files for bartok...\n",
      "Loading files for handel...\n",
      "Loading files for byrd...\n",
      "Loading files for bach...\n",
      "Loading files for mozart...\n",
      "Loading files for schumann...\n",
      "Loading files for mendelssohn...\n",
      "Loading files for chopin...\n",
      "Loading files for hummel...\n",
      "Loading files for bartok...\n",
      "Loading files for handel...\n",
      "Loading files for byrd...\n",
      "Loading files for bach...\n",
      "Loading files for mozart...\n",
      "Loading files for schumann...\n",
      "Loading files for mendelssohn...\n",
      "Loading files for chopin...\n"
     ]
    }
   ],
   "source": [
    "train_composers_notes = load_midi_files(train_path)\n",
    "dev_composers_notes = load_midi_files(dev_path)"
   ]
  },
  {
   "cell_type": "code",
   "execution_count": 9,
   "id": "05f44ebb",
   "metadata": {
    "execution": {
     "iopub.execute_input": "2025-08-02T05:41:06.934757Z",
     "iopub.status.busy": "2025-08-02T05:41:06.934515Z",
     "iopub.status.idle": "2025-08-02T05:41:06.937985Z",
     "shell.execute_reply": "2025-08-02T05:41:06.937292Z"
    },
    "papermill": {
     "duration": 0.011649,
     "end_time": "2025-08-02T05:41:06.939110",
     "exception": false,
     "start_time": "2025-08-02T05:41:06.927461",
     "status": "completed"
    },
    "tags": []
   },
   "outputs": [],
   "source": [
    "all_notes = []\n",
    "composer_labels = []"
   ]
  },
  {
   "cell_type": "markdown",
   "id": "fc5c65c3",
   "metadata": {
    "papermill": {
     "duration": 0.005822,
     "end_time": "2025-08-02T05:41:06.951073",
     "exception": false,
     "start_time": "2025-08-02T05:41:06.945251",
     "status": "completed"
    },
    "tags": []
   },
   "source": [
    "#### Combined dataset for preparing sequences"
   ]
  },
  {
   "cell_type": "code",
   "execution_count": 10,
   "id": "bfb8d89c",
   "metadata": {
    "execution": {
     "iopub.execute_input": "2025-08-02T05:41:06.964042Z",
     "iopub.status.busy": "2025-08-02T05:41:06.963829Z",
     "iopub.status.idle": "2025-08-02T05:41:06.977018Z",
     "shell.execute_reply": "2025-08-02T05:41:06.976277Z"
    },
    "papermill": {
     "duration": 0.020978,
     "end_time": "2025-08-02T05:41:06.978101",
     "exception": false,
     "start_time": "2025-08-02T05:41:06.957123",
     "status": "completed"
    },
    "tags": []
   },
   "outputs": [],
   "source": [
    "combined_notes = {}\n",
    "for composer, notes in train_composers_notes.items():\n",
    "    if composer not in combined_notes:\n",
    "        combined_notes[composer] = []\n",
    "    combined_notes[composer].extend(notes)\n",
    "    \n",
    "for composer, notes in dev_composers_notes.items():\n",
    "    if composer not in combined_notes:\n",
    "        combined_notes[composer] = []\n",
    "    combined_notes[composer].extend(notes)"
   ]
  },
  {
   "cell_type": "markdown",
   "id": "67a9937e",
   "metadata": {
    "papermill": {
     "duration": 0.006033,
     "end_time": "2025-08-02T05:41:06.990303",
     "exception": false,
     "start_time": "2025-08-02T05:41:06.984270",
     "status": "completed"
    },
    "tags": []
   },
   "source": [
    "#### Vocabulatory creation"
   ]
  },
  {
   "cell_type": "code",
   "execution_count": 11,
   "id": "7a3d3d00",
   "metadata": {
    "execution": {
     "iopub.execute_input": "2025-08-02T05:41:07.003327Z",
     "iopub.status.busy": "2025-08-02T05:41:07.003103Z",
     "iopub.status.idle": "2025-08-02T05:41:07.073125Z",
     "shell.execute_reply": "2025-08-02T05:41:07.072243Z"
    },
    "papermill": {
     "duration": 0.07796,
     "end_time": "2025-08-02T05:41:07.074255",
     "exception": false,
     "start_time": "2025-08-02T05:41:06.996295",
     "status": "completed"
    },
    "tags": []
   },
   "outputs": [
    {
     "name": "stdout",
     "output_type": "stream",
     "text": [
      "\n",
      "Vocabulary size: 1155\n"
     ]
    }
   ],
   "source": [
    "pitchnames = sorted(set(item for notes in combined_notes.values() for item in notes))\n",
    "n_vocab = len(pitchnames)\n",
    "note_to_int = dict((note, number) for number, note in enumerate(pitchnames))\n",
    "\n",
    "print(f\"\\nVocabulary size: {n_vocab}\")"
   ]
  },
  {
   "cell_type": "markdown",
   "id": "3d585eb4",
   "metadata": {
    "papermill": {
     "duration": 0.006087,
     "end_time": "2025-08-02T05:41:07.086863",
     "exception": false,
     "start_time": "2025-08-02T05:41:07.080776",
     "status": "completed"
    },
    "tags": []
   },
   "source": [
    "#### Preparation of training and validation data"
   ]
  },
  {
   "cell_type": "code",
   "execution_count": 12,
   "id": "d722434a",
   "metadata": {
    "execution": {
     "iopub.execute_input": "2025-08-02T05:41:07.100249Z",
     "iopub.status.busy": "2025-08-02T05:41:07.099759Z",
     "iopub.status.idle": "2025-08-02T05:41:07.103111Z",
     "shell.execute_reply": "2025-08-02T05:41:07.102402Z"
    },
    "papermill": {
     "duration": 0.011106,
     "end_time": "2025-08-02T05:41:07.104132",
     "exception": false,
     "start_time": "2025-08-02T05:41:07.093026",
     "status": "completed"
    },
    "tags": []
   },
   "outputs": [],
   "source": [
    "all_network_input = []\n",
    "all_network_output = []"
   ]
  },
  {
   "cell_type": "markdown",
   "id": "d8f87a7e",
   "metadata": {
    "papermill": {
     "duration": 0.006128,
     "end_time": "2025-08-02T05:41:07.116476",
     "exception": false,
     "start_time": "2025-08-02T05:41:07.110348",
     "status": "completed"
    },
    "tags": []
   },
   "source": [
    "#### Mapping composers to integers"
   ]
  },
  {
   "cell_type": "code",
   "execution_count": 13,
   "id": "991f79db",
   "metadata": {
    "execution": {
     "iopub.execute_input": "2025-08-02T05:41:07.129662Z",
     "iopub.status.busy": "2025-08-02T05:41:07.129434Z",
     "iopub.status.idle": "2025-08-02T05:41:21.078396Z",
     "shell.execute_reply": "2025-08-02T05:41:21.077470Z"
    },
    "papermill": {
     "duration": 13.957467,
     "end_time": "2025-08-02T05:41:21.080024",
     "exception": false,
     "start_time": "2025-08-02T05:41:07.122557",
     "status": "completed"
    },
    "tags": []
   },
   "outputs": [
    {
     "name": "stdout",
     "output_type": "stream",
     "text": [
      "Found 9 composers: ['bach', 'bartok', 'byrd', 'chopin', 'handel', 'hummel', 'mendelssohn', 'mozart', 'schumann']\n"
     ]
    }
   ],
   "source": [
    "composer_list = sorted(combined_notes.keys())\n",
    "composer_to_int = {name: i for i, name in enumerate(composer_list)}\n",
    "n_composers = len(composer_list)\n",
    "    \n",
    "print(f\"Found {n_composers} composers: {composer_list}\")\n",
    "\n",
    "for composer, notes in combined_notes.items():\n",
    "        if len(notes) > 100:\n",
    "            input_seq, _ = prepare_sequences(notes, note_to_int)\n",
    "            output_label = [composer_to_int[composer]] * len(input_seq)\n",
    "            \n",
    "            all_network_input.extend(input_seq)\n",
    "            all_network_output.extend(output_label)"
   ]
  },
  {
   "cell_type": "code",
   "execution_count": 14,
   "id": "f4620d99",
   "metadata": {
    "execution": {
     "iopub.execute_input": "2025-08-02T05:41:21.094550Z",
     "iopub.status.busy": "2025-08-02T05:41:21.094327Z",
     "iopub.status.idle": "2025-08-02T05:41:21.558831Z",
     "shell.execute_reply": "2025-08-02T05:41:21.557948Z"
    },
    "papermill": {
     "duration": 0.473174,
     "end_time": "2025-08-02T05:41:21.560304",
     "exception": false,
     "start_time": "2025-08-02T05:41:21.087130",
     "status": "completed"
    },
    "tags": []
   },
   "outputs": [],
   "source": [
    "X = np.array(all_network_input)\n",
    "y = np.array(all_network_output)"
   ]
  },
  {
   "cell_type": "markdown",
   "id": "5fa0f2b6",
   "metadata": {
    "papermill": {
     "duration": 0.006536,
     "end_time": "2025-08-02T05:41:21.573792",
     "exception": false,
     "start_time": "2025-08-02T05:41:21.567256",
     "status": "completed"
    },
    "tags": []
   },
   "source": [
    "#### One-hot encoding of labels"
   ]
  },
  {
   "cell_type": "code",
   "execution_count": 15,
   "id": "dcce8037",
   "metadata": {
    "execution": {
     "iopub.execute_input": "2025-08-02T05:41:21.587849Z",
     "iopub.status.busy": "2025-08-02T05:41:21.587537Z",
     "iopub.status.idle": "2025-08-02T05:41:21.630027Z",
     "shell.execute_reply": "2025-08-02T05:41:21.629262Z"
    },
    "papermill": {
     "duration": 0.051233,
     "end_time": "2025-08-02T05:41:21.631487",
     "exception": false,
     "start_time": "2025-08-02T05:41:21.580254",
     "status": "completed"
    },
    "tags": []
   },
   "outputs": [],
   "source": [
    "y = to_categorical(y, num_classes=n_composers)"
   ]
  },
  {
   "cell_type": "code",
   "execution_count": 16,
   "id": "672e4f6e",
   "metadata": {
    "execution": {
     "iopub.execute_input": "2025-08-02T05:41:21.645730Z",
     "iopub.status.busy": "2025-08-02T05:41:21.645449Z",
     "iopub.status.idle": "2025-08-02T05:41:21.955651Z",
     "shell.execute_reply": "2025-08-02T05:41:21.954811Z"
    },
    "papermill": {
     "duration": 0.318447,
     "end_time": "2025-08-02T05:41:21.956874",
     "exception": false,
     "start_time": "2025-08-02T05:41:21.638427",
     "status": "completed"
    },
    "tags": []
   },
   "outputs": [
    {
     "name": "stdout",
     "output_type": "stream",
     "text": [
      "Training data shape: (527078, 100, 1)\n",
      "Validation data shape: (131770, 100, 1)\n"
     ]
    }
   ],
   "source": [
    "X_train, X_val, y_train, y_val = train_test_split(X, y, test_size=0.2, random_state=42)\n",
    "print(f\"Training data shape: {X_train.shape}\")\n",
    "print(f\"Validation data shape: {X_val.shape}\")"
   ]
  },
  {
   "cell_type": "markdown",
   "id": "c633c1a7",
   "metadata": {
    "papermill": {
     "duration": 0.006354,
     "end_time": "2025-08-02T05:41:21.970493",
     "exception": false,
     "start_time": "2025-08-02T05:41:21.964139",
     "status": "completed"
    },
    "tags": []
   },
   "source": [
    "## Data Visualizations"
   ]
  },
  {
   "cell_type": "markdown",
   "id": "11cb1fe4",
   "metadata": {
    "papermill": {
     "duration": 0.00646,
     "end_time": "2025-08-02T05:41:21.983330",
     "exception": false,
     "start_time": "2025-08-02T05:41:21.976870",
     "status": "completed"
    },
    "tags": []
   },
   "source": [
    "#### Counting number of MIDI files for each composer in a given directory"
   ]
  },
  {
   "cell_type": "code",
   "execution_count": 17,
   "id": "e1b5ea3e",
   "metadata": {
    "execution": {
     "iopub.execute_input": "2025-08-02T05:41:21.996875Z",
     "iopub.status.busy": "2025-08-02T05:41:21.996617Z",
     "iopub.status.idle": "2025-08-02T05:41:22.001019Z",
     "shell.execute_reply": "2025-08-02T05:41:22.000493Z"
    },
    "papermill": {
     "duration": 0.012496,
     "end_time": "2025-08-02T05:41:22.002058",
     "exception": false,
     "start_time": "2025-08-02T05:41:21.989562",
     "status": "completed"
    },
    "tags": []
   },
   "outputs": [],
   "source": [
    "def get_composer_counts(path):\n",
    "    composer_counts = {}\n",
    "    for composer_dir in os.listdir(path):\n",
    "        composer_path = os.path.join(path, composer_dir)\n",
    "        if os.path.isdir(composer_path):\n",
    "            # Count .mid and .midi files\n",
    "            file_count = len(glob.glob(os.path.join(composer_path, '*.mid*')))\n",
    "            composer_counts[composer_dir] = file_count\n",
    "    return composer_counts"
   ]
  },
  {
   "cell_type": "code",
   "execution_count": 18,
   "id": "7c2ce3f4",
   "metadata": {
    "execution": {
     "iopub.execute_input": "2025-08-02T05:41:22.016000Z",
     "iopub.status.busy": "2025-08-02T05:41:22.015794Z",
     "iopub.status.idle": "2025-08-02T05:41:22.611096Z",
     "shell.execute_reply": "2025-08-02T05:41:22.610374Z"
    },
    "papermill": {
     "duration": 0.604461,
     "end_time": "2025-08-02T05:41:22.613243",
     "exception": false,
     "start_time": "2025-08-02T05:41:22.008782",
     "status": "completed"
    },
    "tags": []
   },
   "outputs": [
    {
     "data": {
      "image/png": "[encoded data removed]",
      "text/plain": [
       "<Figure size 1200x800 with 1 Axes>"
      ]
     },
     "metadata": {
      "image/png": {
       "height": 789,
       "width": 1188
      }
     },
     "output_type": "display_data"
    }
   ],
   "source": [
    "train_counts = get_composer_counts(train_path)\n",
    "df_counts = pd.DataFrame(list(train_counts.items()), columns=['Composer', 'File Count'])\n",
    "df_counts = df_counts.sort_values('File Count', ascending=False)\n",
    "\n",
    "plt.figure(figsize=(12, 8))\n",
    "sn.barplot(x='File Count', y='Composer', data=df_counts, palette='viridis', orient='h')\n",
    "plt.title('Number of MIDI Files per Composer in Training Set', fontsize=16)\n",
    "plt.xlabel('Number of Files', fontsize=12)\n",
    "plt.ylabel('Composer', fontsize=12)\n",
    "plt.tight_layout()\n",
    "plt.show()"
   ]
  },
  {
   "cell_type": "markdown",
   "id": "3be61b3b",
   "metadata": {
    "papermill": {
     "duration": 0.007955,
     "end_time": "2025-08-02T05:41:22.629988",
     "exception": false,
     "start_time": "2025-08-02T05:41:22.622033",
     "status": "completed"
    },
    "tags": []
   },
   "source": [
    "#### Note & Chord Distribution"
   ]
  },
  {
   "cell_type": "code",
   "execution_count": 19,
   "id": "f04352cd",
   "metadata": {
    "execution": {
     "iopub.execute_input": "2025-08-02T05:41:22.646382Z",
     "iopub.status.busy": "2025-08-02T05:41:22.646127Z",
     "iopub.status.idle": "2025-08-02T05:41:23.348620Z",
     "shell.execute_reply": "2025-08-02T05:41:23.347797Z"
    },
    "papermill": {
     "duration": 0.712709,
     "end_time": "2025-08-02T05:41:23.350541",
     "exception": false,
     "start_time": "2025-08-02T05:41:22.637832",
     "status": "completed"
    },
    "tags": []
   },
   "outputs": [
    {
     "data": {
      "image/png": "[encoded data removed]",
      "text/plain": [
       "<Figure size 1200x1000 with 1 Axes>"
      ]
     },
     "metadata": {
      "image/png": {
       "height": 989,
       "width": 1188
      }
     },
     "output_type": "display_data"
    }
   ],
   "source": [
    "all_elements = [element for notes_list in combined_notes.values() for element in notes_list]\n",
    "\n",
    "element_counts = Counter(all_elements)\n",
    "most_common_elements = element_counts.most_common(30)\n",
    "df_elements = pd.DataFrame(most_common_elements, columns=['Element', 'Count'])\n",
    "\n",
    "plt.figure(figsize=(12, 10))\n",
    "sn.barplot(x='Count', y='Element', data=df_elements, palette='plasma', orient='h')\n",
    "plt.title('Top 30 Most Common Notes & Chords in the Dataset', fontsize=16)\n",
    "plt.xlabel('Frequency', fontsize=12)\n",
    "plt.ylabel('Note / Chord', fontsize=12)\n",
    "plt.tight_layout()\n",
    "plt.show()"
   ]
  },
  {
   "cell_type": "markdown",
   "id": "8057d0bd",
   "metadata": {
    "papermill": {
     "duration": 0.009549,
     "end_time": "2025-08-02T05:41:23.370077",
     "exception": false,
     "start_time": "2025-08-02T05:41:23.360528",
     "status": "completed"
    },
    "tags": []
   },
   "source": [
    "#### Distribution of Musical Piece Lengths"
   ]
  },
  {
   "cell_type": "markdown",
   "id": "e45d8ba4",
   "metadata": {
    "papermill": {
     "duration": 0.009034,
     "end_time": "2025-08-02T05:41:23.388524",
     "exception": false,
     "start_time": "2025-08-02T05:41:23.379490",
     "status": "completed"
    },
    "tags": []
   },
   "source": [
    "## Model Building"
   ]
  },
  {
   "cell_type": "code",
   "execution_count": 20,
   "id": "d99d8538",
   "metadata": {
    "execution": {
     "iopub.execute_input": "2025-08-02T05:41:23.407910Z",
     "iopub.status.busy": "2025-08-02T05:41:23.407596Z",
     "iopub.status.idle": "2025-08-02T05:41:23.413135Z",
     "shell.execute_reply": "2025-08-02T05:41:23.412406Z"
    },
    "papermill": {
     "duration": 0.016352,
     "end_time": "2025-08-02T05:41:23.414248",
     "exception": false,
     "start_time": "2025-08-02T05:41:23.397896",
     "status": "completed"
    },
    "tags": []
   },
   "outputs": [],
   "source": [
    "model = Sequential()"
   ]
  },
  {
   "cell_type": "code",
   "execution_count": 21,
   "id": "2e8ab012",
   "metadata": {
    "execution": {
     "iopub.execute_input": "2025-08-02T05:41:23.433952Z",
     "iopub.status.busy": "2025-08-02T05:41:23.433333Z",
     "iopub.status.idle": "2025-08-02T05:41:25.753000Z",
     "shell.execute_reply": "2025-08-02T05:41:25.752386Z"
    },
    "papermill": {
     "duration": 2.330949,
     "end_time": "2025-08-02T05:41:25.754363",
     "exception": false,
     "start_time": "2025-08-02T05:41:23.423414",
     "status": "completed"
    },
    "tags": []
   },
   "outputs": [
    {
     "name": "stderr",
     "output_type": "stream",
     "text": [
      "I0000 00:00:1754113284.244165      19 gpu_device.cc:2022] Created device /job:localhost/replica:0/task:0/device:GPU:0 with 15513 MB memory:  -> device: 0, name: Tesla P100-PCIE-16GB, pci bus id: 0000:00:04.0, compute capability: 6.0\n"
     ]
    }
   ],
   "source": [
    "model.add(Conv1D(filters=64, kernel_size=5, activation='relu', kernel_regularizer=regularizers.l2(0.001), padding='causal',\n",
    "                    input_shape=(X_train.shape[1], X_train.shape[2])))\n",
    "model.add(MaxPooling1D(pool_size=2))\n",
    "model.add(Dropout(0.4))\n",
    "\n",
    "model.add(LSTM(256, return_sequences=True, kernel_regularizer=regularizers.l2(0.001)))\n",
    "model.add(Dropout(0.5))\n",
    "\n",
    "model.add(LSTM(256, kernel_regularizer=regularizers.l2(0.001)))\n",
    "\n",
    "model.add(Dense(256, activation='relu', kernel_regularizer=regularizers.l2(0.001)))\n",
    "model.add(Dropout(0.5))\n",
    "\n",
    "# Output layer\n",
    "model.add(Dense(n_composers, activation='softmax'))"
   ]
  },
  {
   "cell_type": "markdown",
   "id": "7062c3b3",
   "metadata": {
    "papermill": {
     "duration": 0.009116,
     "end_time": "2025-08-02T05:41:25.773092",
     "exception": false,
     "start_time": "2025-08-02T05:41:25.763976",
     "status": "completed"
    },
    "tags": []
   },
   "source": [
    "#### Model compilation"
   ]
  },
  {
   "cell_type": "code",
   "execution_count": 22,
   "id": "e371583b",
   "metadata": {
    "execution": {
     "iopub.execute_input": "2025-08-02T05:41:25.792008Z",
     "iopub.status.busy": "2025-08-02T05:41:25.791785Z",
     "iopub.status.idle": "2025-08-02T05:41:25.822334Z",
     "shell.execute_reply": "2025-08-02T05:41:25.821634Z"
    },
    "papermill": {
     "duration": 0.041306,
     "end_time": "2025-08-02T05:41:25.823432",
     "exception": false,
     "start_time": "2025-08-02T05:41:25.782126",
     "status": "completed"
    },
    "tags": []
   },
   "outputs": [
    {
     "data": {
      "text/html": [
       "<pre style=\"white-space:pre;overflow-x:auto;line-height:normal;font-family:Menlo,'DejaVu Sans Mono',consolas,'Courier New',monospace\"><span style=\"font-weight: bold\">Model: \"sequential\"</span>\n",
       "</pre>\n"
      ],
      "text/plain": [
       "\u001b[1mModel: \"sequential\"\u001b[0m\n"
      ]
     },
     "metadata": {},
     "output_type": "display_data"
    },
    {
     "data": {
      "text/html": [
       "<pre style=\"white-space:pre;overflow-x:auto;line-height:normal;font-family:Menlo,'DejaVu Sans Mono',consolas,'Courier New',monospace\">┏━━━━━━━━━━━━━━━━━━━━━━━━━━━━━━━━━┳━━━━━━━━━━━━━━━━━━━━━━━━┳━━━━━━━━━━━━━━━┓\n",
       "┃<span style=\"font-weight: bold\"> Layer (type)                    </span>┃<span style=\"font-weight: bold\"> Output Shape           </span>┃<span style=\"font-weight: bold\">       Param # </span>┃\n",
       "┡━━━━━━━━━━━━━━━━━━━━━━━━━━━━━━━━━╇━━━━━━━━━━━━━━━━━━━━━━━━╇━━━━━━━━━━━━━━━┩\n",
       "│ conv1d (<span style=\"color: #0087ff; text-decoration-color: #0087ff\">Conv1D</span>)                 │ (<span style=\"color: #00d7ff; text-decoration-color: #00d7ff\">None</span>, <span style=\"color: #00af00; text-decoration-color: #00af00\">100</span>, <span style=\"color: #00af00; text-decoration-color: #00af00\">64</span>)        │           <span style=\"color: #00af00; text-decoration-color: #00af00\">384</span> │\n",
       "├─────────────────────────────────┼────────────────────────┼───────────────┤\n",
       "│ max_pooling1d (<span style=\"color: #0087ff; text-decoration-color: #0087ff\">MaxPooling1D</span>)    │ (<span style=\"color: #00d7ff; text-decoration-color: #00d7ff\">None</span>, <span style=\"color: #00af00; text-decoration-color: #00af00\">50</span>, <span style=\"color: #00af00; text-decoration-color: #00af00\">64</span>)         │             <span style=\"color: #00af00; text-decoration-color: #00af00\">0</span> │\n",
       "├─────────────────────────────────┼────────────────────────┼───────────────┤\n",
       "│ dropout (<span style=\"color: #0087ff; text-decoration-color: #0087ff\">Dropout</span>)               │ (<span style=\"color: #00d7ff; text-decoration-color: #00d7ff\">None</span>, <span style=\"color: #00af00; text-decoration-color: #00af00\">50</span>, <span style=\"color: #00af00; text-decoration-color: #00af00\">64</span>)         │             <span style=\"color: #00af00; text-decoration-color: #00af00\">0</span> │\n",
       "├─────────────────────────────────┼────────────────────────┼───────────────┤\n",
       "│ lstm (<span style=\"color: #0087ff; text-decoration-color: #0087ff\">LSTM</span>)                     │ (<span style=\"color: #00d7ff; text-decoration-color: #00d7ff\">None</span>, <span style=\"color: #00af00; text-decoration-color: #00af00\">50</span>, <span style=\"color: #00af00; text-decoration-color: #00af00\">256</span>)        │       <span style=\"color: #00af00; text-decoration-color: #00af00\">328,704</span> │\n",
       "├─────────────────────────────────┼────────────────────────┼───────────────┤\n",
       "│ dropout_1 (<span style=\"color: #0087ff; text-decoration-color: #0087ff\">Dropout</span>)             │ (<span style=\"color: #00d7ff; text-decoration-color: #00d7ff\">None</span>, <span style=\"color: #00af00; text-decoration-color: #00af00\">50</span>, <span style=\"color: #00af00; text-decoration-color: #00af00\">256</span>)        │             <span style=\"color: #00af00; text-decoration-color: #00af00\">0</span> │\n",
       "├─────────────────────────────────┼────────────────────────┼───────────────┤\n",
       "│ lstm_1 (<span style=\"color: #0087ff; text-decoration-color: #0087ff\">LSTM</span>)                   │ (<span style=\"color: #00d7ff; text-decoration-color: #00d7ff\">None</span>, <span style=\"color: #00af00; text-decoration-color: #00af00\">256</span>)            │       <span style=\"color: #00af00; text-decoration-color: #00af00\">525,312</span> │\n",
       "├─────────────────────────────────┼────────────────────────┼───────────────┤\n",
       "│ dense (<span style=\"color: #0087ff; text-decoration-color: #0087ff\">Dense</span>)                   │ (<span style=\"color: #00d7ff; text-decoration-color: #00d7ff\">None</span>, <span style=\"color: #00af00; text-decoration-color: #00af00\">256</span>)            │        <span style=\"color: #00af00; text-decoration-color: #00af00\">65,792</span> │\n",
       "├─────────────────────────────────┼────────────────────────┼───────────────┤\n",
       "│ dropout_2 (<span style=\"color: #0087ff; text-decoration-color: #0087ff\">Dropout</span>)             │ (<span style=\"color: #00d7ff; text-decoration-color: #00d7ff\">None</span>, <span style=\"color: #00af00; text-decoration-color: #00af00\">256</span>)            │             <span style=\"color: #00af00; text-decoration-color: #00af00\">0</span> │\n",
       "├─────────────────────────────────┼────────────────────────┼───────────────┤\n",
       "│ dense_1 (<span style=\"color: #0087ff; text-decoration-color: #0087ff\">Dense</span>)                 │ (<span style=\"color: #00d7ff; text-decoration-color: #00d7ff\">None</span>, <span style=\"color: #00af00; text-decoration-color: #00af00\">9</span>)              │         <span style=\"color: #00af00; text-decoration-color: #00af00\">2,313</span> │\n",
       "└─────────────────────────────────┴────────────────────────┴───────────────┘\n",
       "</pre>\n"
      ],
      "text/plain": [
       "┏━━━━━━━━━━━━━━━━━━━━━━━━━━━━━━━━━┳━━━━━━━━━━━━━━━━━━━━━━━━┳━━━━━━━━━━━━━━━┓\n",
       "┃\u001b[1m \u001b[0m\u001b[1mLayer (type)                   \u001b[0m\u001b[1m \u001b[0m┃\u001b[1m \u001b[0m\u001b[1mOutput Shape          \u001b[0m\u001b[1m \u001b[0m┃\u001b[1m \u001b[0m\u001b[1m      Param #\u001b[0m\u001b[1m \u001b[0m┃\n",
       "┡━━━━━━━━━━━━━━━━━━━━━━━━━━━━━━━━━╇━━━━━━━━━━━━━━━━━━━━━━━━╇━━━━━━━━━━━━━━━┩\n",
       "│ conv1d (\u001b[38;5;33mConv1D\u001b[0m)                 │ (\u001b[38;5;45mNone\u001b[0m, \u001b[38;5;34m100\u001b[0m, \u001b[38;5;34m64\u001b[0m)        │           \u001b[38;5;34m384\u001b[0m │\n",
       "├─────────────────────────────────┼────────────────────────┼───────────────┤\n",
       "│ max_pooling1d (\u001b[38;5;33mMaxPooling1D\u001b[0m)    │ (\u001b[38;5;45mNone\u001b[0m, \u001b[38;5;34m50\u001b[0m, \u001b[38;5;34m64\u001b[0m)         │             \u001b[38;5;34m0\u001b[0m │\n",
       "├─────────────────────────────────┼────────────────────────┼───────────────┤\n",
       "│ dropout (\u001b[38;5;33mDropout\u001b[0m)               │ (\u001b[38;5;45mNone\u001b[0m, \u001b[38;5;34m50\u001b[0m, \u001b[38;5;34m64\u001b[0m)         │             \u001b[38;5;34m0\u001b[0m │\n",
       "├─────────────────────────────────┼────────────────────────┼───────────────┤\n",
       "│ lstm (\u001b[38;5;33mLSTM\u001b[0m)                     │ (\u001b[38;5;45mNone\u001b[0m, \u001b[38;5;34m50\u001b[0m, \u001b[38;5;34m256\u001b[0m)        │       \u001b[38;5;34m328,704\u001b[0m │\n",
       "├─────────────────────────────────┼────────────────────────┼───────────────┤\n",
       "│ dropout_1 (\u001b[38;5;33mDropout\u001b[0m)             │ (\u001b[38;5;45mNone\u001b[0m, \u001b[38;5;34m50\u001b[0m, \u001b[38;5;34m256\u001b[0m)        │             \u001b[38;5;34m0\u001b[0m │\n",
       "├─────────────────────────────────┼────────────────────────┼───────────────┤\n",
       "│ lstm_1 (\u001b[38;5;33mLSTM\u001b[0m)                   │ (\u001b[38;5;45mNone\u001b[0m, \u001b[38;5;34m256\u001b[0m)            │       \u001b[38;5;34m525,312\u001b[0m │\n",
       "├─────────────────────────────────┼────────────────────────┼───────────────┤\n",
       "│ dense (\u001b[38;5;33mDense\u001b[0m)                   │ (\u001b[38;5;45mNone\u001b[0m, \u001b[38;5;34m256\u001b[0m)            │        \u001b[38;5;34m65,792\u001b[0m │\n",
       "├─────────────────────────────────┼────────────────────────┼───────────────┤\n",
       "│ dropout_2 (\u001b[38;5;33mDropout\u001b[0m)             │ (\u001b[38;5;45mNone\u001b[0m, \u001b[38;5;34m256\u001b[0m)            │             \u001b[38;5;34m0\u001b[0m │\n",
       "├─────────────────────────────────┼────────────────────────┼───────────────┤\n",
       "│ dense_1 (\u001b[38;5;33mDense\u001b[0m)                 │ (\u001b[38;5;45mNone\u001b[0m, \u001b[38;5;34m9\u001b[0m)              │         \u001b[38;5;34m2,313\u001b[0m │\n",
       "└─────────────────────────────────┴────────────────────────┴───────────────┘\n"
      ]
     },
     "metadata": {},
     "output_type": "display_data"
    },
    {
     "data": {
      "text/html": [
       "<pre style=\"white-space:pre;overflow-x:auto;line-height:normal;font-family:Menlo,'DejaVu Sans Mono',consolas,'Courier New',monospace\"><span style=\"font-weight: bold\"> Total params: </span><span style=\"color: #00af00; text-decoration-color: #00af00\">922,505</span> (3.52 MB)\n",
       "</pre>\n"
      ],
      "text/plain": [
       "\u001b[1m Total params: \u001b[0m\u001b[38;5;34m922,505\u001b[0m (3.52 MB)\n"
      ]
     },
     "metadata": {},
     "output_type": "display_data"
    },
    {
     "data": {
      "text/html": [
       "<pre style=\"white-space:pre;overflow-x:auto;line-height:normal;font-family:Menlo,'DejaVu Sans Mono',consolas,'Courier New',monospace\"><span style=\"font-weight: bold\"> Trainable params: </span><span style=\"color: #00af00; text-decoration-color: #00af00\">922,505</span> (3.52 MB)\n",
       "</pre>\n"
      ],
      "text/plain": [
       "\u001b[1m Trainable params: \u001b[0m\u001b[38;5;34m922,505\u001b[0m (3.52 MB)\n"
      ]
     },
     "metadata": {},
     "output_type": "display_data"
    },
    {
     "data": {
      "text/html": [
       "<pre style=\"white-space:pre;overflow-x:auto;line-height:normal;font-family:Menlo,'DejaVu Sans Mono',consolas,'Courier New',monospace\"><span style=\"font-weight: bold\"> Non-trainable params: </span><span style=\"color: #00af00; text-decoration-color: #00af00\">0</span> (0.00 B)\n",
       "</pre>\n"
      ],
      "text/plain": [
       "\u001b[1m Non-trainable params: \u001b[0m\u001b[38;5;34m0\u001b[0m (0.00 B)\n"
      ]
     },
     "metadata": {},
     "output_type": "display_data"
    }
   ],
   "source": [
    "model.compile(loss='categorical_crossentropy', \n",
    "              optimizer='rmsprop', \n",
    "              metrics=[AUC(name='roc_auc')])\n",
    "model.summary()"
   ]
  },
  {
   "cell_type": "markdown",
   "id": "a5b746ab",
   "metadata": {
    "papermill": {
     "duration": 0.009855,
     "end_time": "2025-08-02T05:41:25.843693",
     "exception": false,
     "start_time": "2025-08-02T05:41:25.833838",
     "status": "completed"
    },
    "tags": []
   },
   "source": [
    "## Model Training"
   ]
  },
  {
   "cell_type": "code",
   "execution_count": 23,
   "id": "da30056c",
   "metadata": {
    "execution": {
     "iopub.execute_input": "2025-08-02T05:41:25.864877Z",
     "iopub.status.busy": "2025-08-02T05:41:25.864436Z",
     "iopub.status.idle": "2025-08-02T05:41:25.868077Z",
     "shell.execute_reply": "2025-08-02T05:41:25.867315Z"
    },
    "papermill": {
     "duration": 0.01538,
     "end_time": "2025-08-02T05:41:25.869156",
     "exception": false,
     "start_time": "2025-08-02T05:41:25.853776",
     "status": "completed"
    },
    "tags": []
   },
   "outputs": [],
   "source": [
    "early_stopping = EarlyStopping(monitor='val_loss', patience=5, restore_best_weights=True)"
   ]
  },
  {
   "cell_type": "code",
   "execution_count": 24,
   "id": "4190623e",
   "metadata": {
    "execution": {
     "iopub.execute_input": "2025-08-02T05:41:25.890481Z",
     "iopub.status.busy": "2025-08-02T05:41:25.890276Z",
     "iopub.status.idle": "2025-08-02T06:23:41.657190Z",
     "shell.execute_reply": "2025-08-02T06:23:41.656545Z"
    },
    "papermill": {
     "duration": 2535.778992,
     "end_time": "2025-08-02T06:23:41.658533",
     "exception": false,
     "start_time": "2025-08-02T05:41:25.879541",
     "status": "completed"
    },
    "tags": []
   },
   "outputs": [
    {
     "name": "stdout",
     "output_type": "stream",
     "text": [
      "Epoch 1/30\n"
     ]
    },
    {
     "name": "stderr",
     "output_type": "stream",
     "text": [
      "I0000 00:00:1754113289.984901      68 cuda_dnn.cc:529] Loaded cuDNN version 90300\n"
     ]
    },
    {
     "name": "stdout",
     "output_type": "stream",
     "text": [
      "\u001b[1m4118/4118\u001b[0m \u001b[32m━━━━━━━━━━━━━━━━━━━━\u001b[0m\u001b[37m\u001b[0m \u001b[1m90s\u001b[0m 20ms/step - loss: 2.0091 - roc_auc: 0.7365 - val_loss: 1.8558 - val_roc_auc: 0.7644\n",
      "Epoch 2/30\n",
      "\u001b[1m4118/4118\u001b[0m \u001b[32m━━━━━━━━━━━━━━━━━━━━\u001b[0m\u001b[37m\u001b[0m \u001b[1m82s\u001b[0m 20ms/step - loss: 1.8303 - roc_auc: 0.7723 - val_loss: 1.7505 - val_roc_auc: 0.7973\n",
      "Epoch 3/30\n",
      "\u001b[1m4118/4118\u001b[0m \u001b[32m━━━━━━━━━━━━━━━━━━━━\u001b[0m\u001b[37m\u001b[0m \u001b[1m82s\u001b[0m 20ms/step - loss: 1.7822 - roc_auc: 0.7887 - val_loss: 1.7075 - val_roc_auc: 0.8113\n",
      "Epoch 4/30\n",
      "\u001b[1m4118/4118\u001b[0m \u001b[32m━━━━━━━━━━━━━━━━━━━━\u001b[0m\u001b[37m\u001b[0m \u001b[1m82s\u001b[0m 20ms/step - loss: 1.7532 - roc_auc: 0.7982 - val_loss: 1.6820 - val_roc_auc: 0.8201\n",
      "Epoch 5/30\n",
      "\u001b[1m4118/4118\u001b[0m \u001b[32m━━━━━━━━━━━━━━━━━━━━\u001b[0m\u001b[37m\u001b[0m \u001b[1m82s\u001b[0m 20ms/step - loss: 1.7083 - roc_auc: 0.8116 - val_loss: 1.6462 - val_roc_auc: 0.8292\n",
      "Epoch 6/30\n",
      "\u001b[1m4118/4118\u001b[0m \u001b[32m━━━━━━━━━━━━━━━━━━━━\u001b[0m\u001b[37m\u001b[0m \u001b[1m82s\u001b[0m 20ms/step - loss: 1.6623 - roc_auc: 0.8242 - val_loss: 1.5700 - val_roc_auc: 0.8473\n",
      "Epoch 7/30\n",
      "\u001b[1m4118/4118\u001b[0m \u001b[32m━━━━━━━━━━━━━━━━━━━━\u001b[0m\u001b[37m\u001b[0m \u001b[1m82s\u001b[0m 20ms/step - loss: 1.6106 - roc_auc: 0.8378 - val_loss: 1.5656 - val_roc_auc: 0.8491\n",
      "Epoch 8/30\n",
      "\u001b[1m4118/4118\u001b[0m \u001b[32m━━━━━━━━━━━━━━━━━━━━\u001b[0m\u001b[37m\u001b[0m \u001b[1m82s\u001b[0m 20ms/step - loss: 1.5448 - roc_auc: 0.8542 - val_loss: 1.4032 - val_roc_auc: 0.8837\n",
      "Epoch 9/30\n",
      "\u001b[1m4118/4118\u001b[0m \u001b[32m━━━━━━━━━━━━━━━━━━━━\u001b[0m\u001b[37m\u001b[0m \u001b[1m83s\u001b[0m 20ms/step - loss: 1.4502 - roc_auc: 0.8756 - val_loss: 1.2825 - val_roc_auc: 0.9067\n",
      "Epoch 10/30\n",
      "\u001b[1m4118/4118\u001b[0m \u001b[32m━━━━━━━━━━━━━━━━━━━━\u001b[0m\u001b[37m\u001b[0m \u001b[1m83s\u001b[0m 20ms/step - loss: 1.3045 - roc_auc: 0.9037 - val_loss: 1.0269 - val_roc_auc: 0.9464\n",
      "Epoch 11/30\n",
      "\u001b[1m4118/4118\u001b[0m \u001b[32m━━━━━━━━━━━━━━━━━━━━\u001b[0m\u001b[37m\u001b[0m \u001b[1m83s\u001b[0m 20ms/step - loss: 1.1128 - roc_auc: 0.9337 - val_loss: 0.8101 - val_roc_auc: 0.9685\n",
      "Epoch 12/30\n",
      "\u001b[1m4118/4118\u001b[0m \u001b[32m━━━━━━━━━━━━━━━━━━━━\u001b[0m\u001b[37m\u001b[0m \u001b[1m82s\u001b[0m 20ms/step - loss: 0.9205 - roc_auc: 0.9571 - val_loss: 0.6597 - val_roc_auc: 0.9804\n",
      "Epoch 13/30\n",
      "\u001b[1m4118/4118\u001b[0m \u001b[32m━━━━━━━━━━━━━━━━━━━━\u001b[0m\u001b[37m\u001b[0m \u001b[1m83s\u001b[0m 20ms/step - loss: 0.7602 - roc_auc: 0.9720 - val_loss: 0.4746 - val_roc_auc: 0.9915\n",
      "Epoch 14/30\n",
      "\u001b[1m4118/4118\u001b[0m \u001b[32m━━━━━━━━━━━━━━━━━━━━\u001b[0m\u001b[37m\u001b[0m \u001b[1m83s\u001b[0m 20ms/step - loss: 0.6403 - roc_auc: 0.9807 - val_loss: 0.3870 - val_roc_auc: 0.9949\n",
      "Epoch 15/30\n",
      "\u001b[1m4118/4118\u001b[0m \u001b[32m━━━━━━━━━━━━━━━━━━━━\u001b[0m\u001b[37m\u001b[0m \u001b[1m83s\u001b[0m 20ms/step - loss: 0.5552 - roc_auc: 0.9858 - val_loss: 0.4037 - val_roc_auc: 0.9940\n",
      "Epoch 16/30\n",
      "\u001b[1m4118/4118\u001b[0m \u001b[32m━━━━━━━━━━━━━━━━━━━━\u001b[0m\u001b[37m\u001b[0m \u001b[1m84s\u001b[0m 20ms/step - loss: 0.4954 - roc_auc: 0.9888 - val_loss: 0.2986 - val_roc_auc: 0.9976\n",
      "Epoch 17/30\n",
      "\u001b[1m4118/4118\u001b[0m \u001b[32m━━━━━━━━━━━━━━━━━━━━\u001b[0m\u001b[37m\u001b[0m \u001b[1m84s\u001b[0m 20ms/step - loss: 0.4490 - roc_auc: 0.9908 - val_loss: 0.3880 - val_roc_auc: 0.9939\n",
      "Epoch 18/30\n",
      "\u001b[1m4118/4118\u001b[0m \u001b[32m━━━━━━━━━━━━━━━━━━━━\u001b[0m\u001b[37m\u001b[0m \u001b[1m83s\u001b[0m 20ms/step - loss: 0.4127 - roc_auc: 0.9923 - val_loss: 0.2497 - val_roc_auc: 0.9984\n",
      "Epoch 19/30\n",
      "\u001b[1m4118/4118\u001b[0m \u001b[32m━━━━━━━━━━━━━━━━━━━━\u001b[0m\u001b[37m\u001b[0m \u001b[1m85s\u001b[0m 21ms/step - loss: 0.3846 - roc_auc: 0.9933 - val_loss: 0.2443 - val_roc_auc: 0.9985\n",
      "Epoch 20/30\n",
      "\u001b[1m4118/4118\u001b[0m \u001b[32m━━━━━━━━━━━━━━━━━━━━\u001b[0m\u001b[37m\u001b[0m \u001b[1m87s\u001b[0m 21ms/step - loss: 0.3610 - roc_auc: 0.9940 - val_loss: 0.2273 - val_roc_auc: 0.9988\n",
      "Epoch 21/30\n",
      "\u001b[1m4118/4118\u001b[0m \u001b[32m━━━━━━━━━━━━━━━━━━━━\u001b[0m\u001b[37m\u001b[0m \u001b[1m87s\u001b[0m 21ms/step - loss: 0.3393 - roc_auc: 0.9947 - val_loss: 0.2052 - val_roc_auc: 0.9991\n",
      "Epoch 22/30\n",
      "\u001b[1m4118/4118\u001b[0m \u001b[32m━━━━━━━━━━━━━━━━━━━━\u001b[0m\u001b[37m\u001b[0m \u001b[1m86s\u001b[0m 21ms/step - loss: 0.3236 - roc_auc: 0.9951 - val_loss: 0.2077 - val_roc_auc: 0.9990\n",
      "Epoch 23/30\n",
      "\u001b[1m4118/4118\u001b[0m \u001b[32m━━━━━━━━━━━━━━━━━━━━\u001b[0m\u001b[37m\u001b[0m \u001b[1m87s\u001b[0m 21ms/step - loss: 0.3077 - roc_auc: 0.9956 - val_loss: 0.1885 - val_roc_auc: 0.9992\n",
      "Epoch 24/30\n",
      "\u001b[1m4118/4118\u001b[0m \u001b[32m━━━━━━━━━━━━━━━━━━━━\u001b[0m\u001b[37m\u001b[0m \u001b[1m88s\u001b[0m 21ms/step - loss: 0.2926 - roc_auc: 0.9960 - val_loss: 0.1718 - val_roc_auc: 0.9993\n",
      "Epoch 25/30\n",
      "\u001b[1m4118/4118\u001b[0m \u001b[32m━━━━━━━━━━━━━━━━━━━━\u001b[0m\u001b[37m\u001b[0m \u001b[1m87s\u001b[0m 21ms/step - loss: 0.2786 - roc_auc: 0.9963 - val_loss: 0.1626 - val_roc_auc: 0.9993\n",
      "Epoch 26/30\n",
      "\u001b[1m4118/4118\u001b[0m \u001b[32m━━━━━━━━━━━━━━━━━━━━\u001b[0m\u001b[37m\u001b[0m \u001b[1m87s\u001b[0m 21ms/step - loss: 0.2677 - roc_auc: 0.9965 - val_loss: 0.1747 - val_roc_auc: 0.9992\n",
      "Epoch 27/30\n",
      "\u001b[1m4118/4118\u001b[0m \u001b[32m━━━━━━━━━━━━━━━━━━━━\u001b[0m\u001b[37m\u001b[0m \u001b[1m87s\u001b[0m 21ms/step - loss: 0.2581 - roc_auc: 0.9967 - val_loss: 0.1788 - val_roc_auc: 0.9989\n",
      "Epoch 28/30\n",
      "\u001b[1m4118/4118\u001b[0m \u001b[32m━━━━━━━━━━━━━━━━━━━━\u001b[0m\u001b[37m\u001b[0m \u001b[1m87s\u001b[0m 21ms/step - loss: 0.2462 - roc_auc: 0.9969 - val_loss: 0.1436 - val_roc_auc: 0.9995\n",
      "Epoch 29/30\n",
      "\u001b[1m4118/4118\u001b[0m \u001b[32m━━━━━━━━━━━━━━━━━━━━\u001b[0m\u001b[37m\u001b[0m \u001b[1m87s\u001b[0m 21ms/step - loss: 0.2381 - roc_auc: 0.9972 - val_loss: 0.1303 - val_roc_auc: 0.9997\n",
      "Epoch 30/30\n",
      "\u001b[1m4118/4118\u001b[0m \u001b[32m━━━━━━━━━━━━━━━━━━━━\u001b[0m\u001b[37m\u001b[0m \u001b[1m88s\u001b[0m 21ms/step - loss: 0.2300 - roc_auc: 0.9972 - val_loss: 0.1364 - val_roc_auc: 0.9996\n"
     ]
    }
   ],
   "source": [
    "history = model.fit(\n",
    "        X_train, y_train,\n",
    "        epochs=30,\n",
    "        batch_size=128,\n",
    "        validation_data=(X_val, y_val),\n",
    "        callbacks=[early_stopping]\n",
    "    )"
   ]
  },
  {
   "cell_type": "markdown",
   "id": "0c1d5752",
   "metadata": {
    "papermill": {
     "duration": 1.919906,
     "end_time": "2025-08-02T06:23:45.552770",
     "exception": false,
     "start_time": "2025-08-02T06:23:43.632864",
     "status": "completed"
    },
    "tags": []
   },
   "source": [
    "## Model Evaluation"
   ]
  },
  {
   "cell_type": "code",
   "execution_count": 25,
   "id": "03b5cafa",
   "metadata": {
    "execution": {
     "iopub.execute_input": "2025-08-02T06:23:49.487764Z",
     "iopub.status.busy": "2025-08-02T06:23:49.487452Z",
     "iopub.status.idle": "2025-08-02T06:26:55.670130Z",
     "shell.execute_reply": "2025-08-02T06:26:55.669171Z"
    },
    "papermill": {
     "duration": 188.205286,
     "end_time": "2025-08-02T06:26:55.671833",
     "exception": false,
     "start_time": "2025-08-02T06:23:47.466547",
     "status": "completed"
    },
    "tags": []
   },
   "outputs": [
    {
     "name": "stdout",
     "output_type": "stream",
     "text": [
      "Loading files for hummel...\n",
      "Loading files for bartok...\n",
      "Loading files for handel...\n",
      "Loading files for byrd...\n",
      "Loading files for bach...\n",
      "Loading files for mozart...\n",
      "Loading files for schumann...\n",
      "Loading files for mendelssohn...\n",
      "Loading files for chopin...\n"
     ]
    }
   ],
   "source": [
    "test_composers_notes = load_midi_files(test_path)\n",
    "test_network_input = []\n",
    "test_network_output = []"
   ]
  },
  {
   "cell_type": "code",
   "execution_count": 26,
   "id": "a0d11397",
   "metadata": {
    "execution": {
     "iopub.execute_input": "2025-08-02T06:26:59.496993Z",
     "iopub.status.busy": "2025-08-02T06:26:59.496430Z",
     "iopub.status.idle": "2025-08-02T06:27:00.753448Z",
     "shell.execute_reply": "2025-08-02T06:27:00.752646Z"
    },
    "papermill": {
     "duration": 3.184014,
     "end_time": "2025-08-02T06:27:00.754914",
     "exception": false,
     "start_time": "2025-08-02T06:26:57.570900",
     "status": "completed"
    },
    "tags": []
   },
   "outputs": [],
   "source": [
    "for composer, notes in test_composers_notes.items():\n",
    "        if composer in composer_to_int and len(notes) > 100:\n",
    "            input_seq, _ = prepare_sequences(notes, note_to_int)\n",
    "            output_label = [composer_to_int[composer]] * len(input_seq)\n",
    "            test_network_input.extend(input_seq)\n",
    "            test_network_output.extend(output_label)"
   ]
  },
  {
   "cell_type": "code",
   "execution_count": 27,
   "id": "f09a23ef",
   "metadata": {
    "execution": {
     "iopub.execute_input": "2025-08-02T06:27:04.591753Z",
     "iopub.status.busy": "2025-08-02T06:27:04.590968Z",
     "iopub.status.idle": "2025-08-02T06:27:04.646605Z",
     "shell.execute_reply": "2025-08-02T06:27:04.645720Z"
    },
    "papermill": {
     "duration": 1.964735,
     "end_time": "2025-08-02T06:27:04.648274",
     "exception": false,
     "start_time": "2025-08-02T06:27:02.683539",
     "status": "completed"
    },
    "tags": []
   },
   "outputs": [],
   "source": [
    "X_test = np.array(test_network_input)\n",
    "y_test = np.array(test_network_output)"
   ]
  },
  {
   "cell_type": "code",
   "execution_count": 28,
   "id": "bcda611e",
   "metadata": {
    "execution": {
     "iopub.execute_input": "2025-08-02T06:27:08.473517Z",
     "iopub.status.busy": "2025-08-02T06:27:08.473276Z",
     "iopub.status.idle": "2025-08-02T06:27:19.071858Z",
     "shell.execute_reply": "2025-08-02T06:27:19.070954Z"
    },
    "papermill": {
     "duration": 12.511973,
     "end_time": "2025-08-02T06:27:19.073239",
     "exception": false,
     "start_time": "2025-08-02T06:27:06.561266",
     "status": "completed"
    },
    "tags": []
   },
   "outputs": [
    {
     "name": "stdout",
     "output_type": "stream",
     "text": [
      "\u001b[1m2080/2080\u001b[0m \u001b[32m━━━━━━━━━━━━━━━━━━━━\u001b[0m\u001b[37m\u001b[0m \u001b[1m9s\u001b[0m 4ms/step\n",
      "\n",
      "Weighted F1-Score: 0.3476\n",
      "\n",
      "Detailed Classification Report:\n",
      "              precision    recall  f1-score   support\n",
      "\n",
      "        bach       0.40      0.54      0.46     15723\n",
      "      bartok       0.29      0.12      0.17      4195\n",
      "        byrd       0.39      0.48      0.43      7208\n",
      "      chopin       0.20      0.18      0.19      8347\n",
      "      handel       0.13      0.27      0.17       450\n",
      "      hummel       0.53      0.39      0.45     20805\n",
      " mendelssohn       0.03      0.06      0.04      1202\n",
      "      mozart       0.31      0.08      0.13      6414\n",
      "    schumann       0.06      0.18      0.09      2186\n",
      "\n",
      "    accuracy                           0.35     66530\n",
      "   macro avg       0.26      0.26      0.24     66530\n",
      "weighted avg       0.38      0.35      0.35     66530\n",
      "\n"
     ]
    }
   ],
   "source": [
    "y_pred_probs = model.predict(X_test)\n",
    "y_pred = np.argmax(y_pred_probs, axis=1)\n",
    "\n",
    "y_test_labels = y_test\n",
    "\n",
    "target_names = [name for name, num in sorted(composer_to_int.items(), key=lambda item: item[1])]\n",
    "\n",
    "weighted_f1 = f1_score(y_test_labels, y_pred, average='weighted')\n",
    "print(f\"\\nWeighted F1-Score: {weighted_f1:.4f}\")\n",
    "\n",
    "print(\"\\nDetailed Classification Report:\")\n",
    "print(classification_report(y_test_labels, y_pred, target_names=target_names))"
   ]
  },
  {
   "cell_type": "markdown",
   "id": "3afcdef4",
   "metadata": {
    "papermill": {
     "duration": 1.952689,
     "end_time": "2025-08-02T06:27:23.046992",
     "exception": false,
     "start_time": "2025-08-02T06:27:21.094303",
     "status": "completed"
    },
    "tags": []
   },
   "source": [
    "## Saving Model weights"
   ]
  },
  {
   "cell_type": "code",
   "execution_count": 29,
   "id": "18317373",
   "metadata": {
    "execution": {
     "iopub.execute_input": "2025-08-02T06:27:26.871865Z",
     "iopub.status.busy": "2025-08-02T06:27:26.871105Z",
     "iopub.status.idle": "2025-08-02T06:27:26.925605Z",
     "shell.execute_reply": "2025-08-02T06:27:26.924870Z"
    },
    "papermill": {
     "duration": 1.979732,
     "end_time": "2025-08-02T06:27:26.926877",
     "exception": false,
     "start_time": "2025-08-02T06:27:24.947145",
     "status": "completed"
    },
    "tags": []
   },
   "outputs": [
    {
     "name": "stdout",
     "output_type": "stream",
     "text": [
      "Save completed\n"
     ]
    }
   ],
   "source": [
    "model.save('composer_classification_model.h5')\n",
    "    \n",
    "with open('mappings.pkl', 'wb') as f:\n",
    "    pickle.dump({'note_to_int': note_to_int, 'composer_to_int': composer_to_int}, f)\n",
    "        \n",
    "print(\"Save completed\")"
   ]
  }
 ],
 "metadata": {
  "kaggle": {
   "accelerator": "gpu",
   "dataSources": [
    {
     "datasetId": 7881824,
     "sourceId": 12490051,
     "sourceType": "datasetVersion"
    }
   ],
   "dockerImageVersionId": 31090,
   "isGpuEnabled": true,
   "isInternetEnabled": true,
   "language": "python",
   "sourceType": "notebook"
  },
  "kernelspec": {
   "display_name": "Python 3",
   "language": "python",
   "name": "python3"
  },
  "language_info": {
   "codemirror_mode": {
    "name": "ipython",
    "version": 3
   },
   "file_extension": ".py",
   "mimetype": "text/x-python",
   "name": "python",
   "nbconvert_exporter": "python",
   "pygments_lexer": "ipython3",
   "version": "3.11.13"
  },
  "papermill": {
   "default_parameters": {},
   "duration": 5005.316823,
   "end_time": "2025-08-02T06:27:31.835230",
   "environment_variables": {},
   "exception": null,
   "input_path": "__notebook__.ipynb",
   "output_path": "__notebook__.ipynb",
   "parameters": {},
   "start_time": "2025-08-02T05:04:06.518407",
   "version": "2.6.0"
  }
 },
 "nbformat": 4,
 "nbformat_minor": 5
}
